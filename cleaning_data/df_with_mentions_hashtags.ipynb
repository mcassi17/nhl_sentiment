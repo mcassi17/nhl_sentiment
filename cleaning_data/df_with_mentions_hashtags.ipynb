{
 "cells": [
  {
   "cell_type": "code",
   "execution_count": 1,
   "metadata": {
    "collapsed": true
   },
   "outputs": [],
   "source": [
    "import pandas as pd\n",
    "import numpy as np\n",
    "import preprocessor as p\n",
    "import re\n",
    "import time"
   ]
  },
  {
   "cell_type": "code",
   "execution_count": 2,
   "metadata": {
    "collapsed": true
   },
   "outputs": [],
   "source": [
    "col_dict = {\"hastags\": lambda x: x.strip(\"[]\").replace('\\'', '').split(\", \"), \"ex_hastags\": lambda x: x.strip(\"[]\").replace('\\'', '').split(\", \"), \"rt_hastags\": lambda x: x.strip(\"[]\").replace('\\'', '').split(\", \"), \"exrt_hastags\": lambda x: x.strip(\"[]\").replace('\\'', '').split(\", \"), \"qt_hastags\": lambda x: x.strip(\"[]\").replace('\\'', '').split(\", \"), \"exqt_hastags\": lambda x: x.strip(\"[]\").replace('\\'', '').split(\", \"), \"qtrt_hastags\": lambda x: x.strip(\"[]\").replace('\\'', '').split(\", \"), \"exqtrt_hastags\": lambda x: x.strip(\"[]\").replace('\\'', '').split(\", \"), \"mentions\": lambda x: x.strip(\"[]\").replace('\\'', '').split(\", \"), \"ex_mentions\": lambda x: x.strip(\"[]\").replace('\\'', '').split(\", \"), \"rt_mentions\": lambda x: x.strip(\"[]\").replace('\\'', '').split(\", \"), \"exrt_mentions\": lambda x: x.strip(\"[]\").replace('\\'', '').split(\", \"), \"qt_mentions\": lambda x: x.strip(\"[]\").replace('\\'', '').split(\", \"), \"exqt_mentions\": lambda x: x.strip(\"[]\").replace('\\'', '').split(\", \"), \"rtqt_mentions\": lambda x: x.strip(\"[]\").replace('\\'', '').split(\", \"), \"exqtrt_mentions\": lambda x: x.strip(\"[]\").replace('\\'', '').split(\", \"),\"team\": lambda x: x.strip(\"{}\").replace('\\'', '').split(\", \")}"
   ]
  },
  {
   "cell_type": "code",
   "execution_count": 3,
   "metadata": {
    "collapsed": true
   },
   "outputs": [],
   "source": [
    "hockey1 = pd.read_csv('/Users/matthewcassi/Documents/nhl_sentiment/clean_data/hockey_tweets1.csv', converters=col_dict)\n",
    "hockey2 = pd.read_csv('/Users/matthewcassi/Documents/nhl_sentiment/clean_data/hockey_tweets2.csv', converters=col_dict)\n",
    "hockey3 = pd.read_csv('/Users/matthewcassi/Documents/nhl_sentiment/clean_data/hockey_tweets3.csv', converters=col_dict)\n",
    "hockey4 = pd.read_csv('/Users/matthewcassi/Documents/nhl_sentiment/clean_data/hockey_tweets4.csv', converters=col_dict)\n",
    "hockey5 = pd.read_csv('/Users/matthewcassi/Documents/nhl_sentiment/clean_data/hockey_tweets5.csv', converters=col_dict)\n",
    "hockey6 = pd.read_csv('/Users/matthewcassi/Documents/nhl_sentiment/clean_data/hockey_tweets6.csv', converters=col_dict)\n",
    "hockey7 = pd.read_csv('/Users/matthewcassi/Documents/nhl_sentiment/clean_data/hockey_tweets7.csv', converters=col_dict)\n",
    "hockey8 = pd.read_csv('/Users/matthewcassi/Documents/nhl_sentiment/clean_data/hockey_tweets8.csv', converters=col_dict)\n",
    "hockey9 = pd.read_csv('/Users/matthewcassi/Documents/nhl_sentiment/clean_data/hockey_tweets9.csv', converters=col_dict)\n",
    "hockey10 = pd.read_csv('/Users/matthewcassi/Documents/nhl_sentiment/clean_data/hockey_tweets10.csv', converters=col_dict)"
   ]
  },
  {
   "cell_type": "code",
   "execution_count": 4,
   "metadata": {
    "collapsed": true
   },
   "outputs": [],
   "source": [
    "hockey1 = hockey1.drop('Unnamed: 0', 1)\n",
    "hockey2 = hockey2.drop('Unnamed: 0', 1)\n",
    "hockey3 = hockey3.drop('Unnamed: 0', 1)\n",
    "hockey4 = hockey4.drop('Unnamed: 0', 1)\n",
    "hockey5 = hockey5.drop('Unnamed: 0', 1)\n",
    "hockey6 = hockey6.drop('Unnamed: 0', 1)\n",
    "hockey7 = hockey7.drop('Unnamed: 0', 1)\n",
    "hockey8 = hockey8.drop('Unnamed: 0', 1)\n",
    "hockey9 = hockey9.drop('Unnamed: 0', 1)\n",
    "hockey10 = hockey10.drop('Unnamed: 0', 1)"
   ]
  },
  {
   "cell_type": "code",
   "execution_count": 5,
   "metadata": {
    "collapsed": true
   },
   "outputs": [],
   "source": [
    "hockey = pd.concat([hockey1, hockey2, hockey3, hockey4, hockey5, hockey6, hockey7, hockey8,hockey9,hockey10], axis=0).reset_index()"
   ]
  },
  {
   "cell_type": "code",
   "execution_count": 6,
   "metadata": {},
   "outputs": [
    {
     "data": {
      "text/plain": [
       "424751"
      ]
     },
     "execution_count": 6,
     "metadata": {},
     "output_type": "execute_result"
    }
   ],
   "source": [
    "len(hockey)"
   ]
  },
  {
   "cell_type": "code",
   "execution_count": 7,
   "metadata": {
    "collapsed": true
   },
   "outputs": [],
   "source": [
    "def text_column(row, col1, col2):\n",
    "    text = row[col1]\n",
    "    if (type(row[col1]) == str) & (type(row[col2]) == str):\n",
    "        text = row[col2]\n",
    "    return text"
   ]
  },
  {
   "cell_type": "code",
   "execution_count": 8,
   "metadata": {
    "collapsed": true
   },
   "outputs": [],
   "source": [
    "hockey['tweet'] = hockey.apply(text_column, axis=1, col1='text', col2='extended_tweet.full_text')\n",
    "hockey['retweet'] = hockey.apply(text_column, axis=1, col1='retweeted_status.text', col2='retweeted_status.extended_tweet.full_text')\n",
    "hockey['quote'] = hockey.apply(text_column, axis=1, col1='quoted_status.text', col2='quoted_status.extended_tweet.full_text')\n",
    "hockey['retweet_quote'] = hockey.apply(text_column, axis=1, col1='retweeted_status.quoted_status.text', col2='retweeted_status.quoted_status.extended_tweet.full_text')"
   ]
  },
  {
   "cell_type": "code",
   "execution_count": 9,
   "metadata": {
    "collapsed": true
   },
   "outputs": [],
   "source": [
    "hockey['tweet_1'] = hockey.apply(text_column, axis=1, col1='tweet', col2='retweet')\n",
    "hockey['tweet_2'] = hockey.apply(text_column, axis=1, col1='quote', col2='retweet_quote')"
   ]
  },
  {
   "cell_type": "code",
   "execution_count": 10,
   "metadata": {
    "collapsed": true
   },
   "outputs": [],
   "source": [
    "hockey['created_at'] = pd.to_datetime(hockey['created_at'])"
   ]
  },
  {
   "cell_type": "code",
   "execution_count": 11,
   "metadata": {
    "collapsed": true
   },
   "outputs": [],
   "source": [
    "hockey['hour'] = hockey['created_at'].apply(lambda x: x.hour)"
   ]
  },
  {
   "cell_type": "code",
   "execution_count": 12,
   "metadata": {
    "collapsed": true
   },
   "outputs": [],
   "source": [
    "hockey = hockey.drop(['text','extended_tweet.full_text','retweeted_status.text','retweeted_status.extended_tweet.full_text','quoted_status.text','quoted_status.extended_tweet.full_text','retweeted_status.quoted_status.text','retweeted_status.quoted_status.extended_tweet.full_text','tweet','retweet','quote','retweet_quote'], 1)"
   ]
  },
  {
   "cell_type": "code",
   "execution_count": 13,
   "metadata": {
    "collapsed": true
   },
   "outputs": [],
   "source": [
    "def non_hockey(row, col, sub):\n",
    "    non_hockey_bool = True\n",
    "    if type(row[col]) != float:\n",
    "        non_hockey_bool = sub not in row[col]\n",
    "    return non_hockey_bool"
   ]
  },
  {
   "cell_type": "code",
   "execution_count": 14,
   "metadata": {},
   "outputs": [
    {
     "name": "stdout",
     "output_type": "stream",
     "text": [
      "424621\n"
     ]
    }
   ],
   "source": [
    "# eat #fish\n",
    "filter1 = hockey.apply(non_hockey, axis=1, col='tweet_1', sub='eat #fish')\n",
    "hockey = hockey[filter1].reset_index(drop=True)\n",
    "\n",
    "filter2 = hockey.apply(non_hockey, axis=1, col='tweet_2', sub='eat #fish')\n",
    "hockey = hockey[filter2].reset_index(drop=True)\n",
    "print(len(hockey))"
   ]
  },
  {
   "cell_type": "code",
   "execution_count": 15,
   "metadata": {},
   "outputs": [
    {
     "name": "stdout",
     "output_type": "stream",
     "text": [
      "424039\n"
     ]
    }
   ],
   "source": [
    "# miami hurricanes\n",
    "filter1 = hockey.apply(non_hockey, axis=1, col='tweet_1', sub='miami hurricanes')\n",
    "hockey = hockey[filter1].reset_index(drop=True)\n",
    "\n",
    "filter2 = hockey.apply(non_hockey, axis=1, col='tweet_2', sub='miami hurricanes')\n",
    "hockey = hockey[filter2].reset_index(drop=True)\n",
    "print(len(hockey))"
   ]
  },
  {
   "cell_type": "code",
   "execution_count": 16,
   "metadata": {},
   "outputs": [
    {
     "name": "stdout",
     "output_type": "stream",
     "text": [
      "424034\n"
     ]
    }
   ],
   "source": [
    "# stanley the #swan\n",
    "filter1 = hockey.apply(non_hockey, axis=1, col='tweet_1', sub='stanley the #swan')\n",
    "hockey = hockey[filter1].reset_index(drop=True)\n",
    "\n",
    "filter2 = hockey.apply(non_hockey, axis=1, col='tweet_2', sub='stanley the #swan')\n",
    "hockey = hockey[filter2].reset_index(drop=True)\n",
    "print(len(hockey))"
   ]
  },
  {
   "cell_type": "code",
   "execution_count": 17,
   "metadata": {},
   "outputs": [
    {
     "name": "stdout",
     "output_type": "stream",
     "text": [
      "422661\n"
     ]
    }
   ],
   "source": [
    "# #trending #video #shark #sharktank\n",
    "filter1 = hockey.apply(non_hockey, axis=1, col='tweet_1', sub='#trending #video #shark #sharktank')\n",
    "hockey = hockey[filter1].reset_index(drop=True)\n",
    "\n",
    "filter2 = hockey.apply(non_hockey, axis=1, col='tweet_2', sub='#trending #video #shark #sharktank')\n",
    "hockey = hockey[filter2].reset_index(drop=True)\n",
    "print(len(hockey))"
   ]
  },
  {
   "cell_type": "code",
   "execution_count": 18,
   "metadata": {},
   "outputs": [
    {
     "name": "stdout",
     "output_type": "stream",
     "text": [
      "422660\n"
     ]
    }
   ],
   "source": [
    "# our @natureecoevo paper\n",
    "filter1 = hockey.apply(non_hockey, axis=1, col='tweet_1', sub='our @natureecoevo paper')\n",
    "hockey = hockey[filter1].reset_index(drop=True)\n",
    "\n",
    "filter2 = hockey.apply(non_hockey, axis=1, col='tweet_2', sub='our @natureecoevo paper')\n",
    "hockey = hockey[filter2].reset_index(drop=True)\n",
    "print(len(hockey))"
   ]
  },
  {
   "cell_type": "code",
   "execution_count": 19,
   "metadata": {},
   "outputs": [
    {
     "name": "stdout",
     "output_type": "stream",
     "text": [
      "422655\n"
     ]
    }
   ],
   "source": [
    "# #derbyshire\n",
    "filter1 = hockey.apply(non_hockey, axis=1, col='tweet_1', sub='#derbyshire')\n",
    "hockey = hockey[filter1].reset_index(drop=True)\n",
    "\n",
    "filter2 = hockey.apply(non_hockey, axis=1, col='tweet_2', sub='#derbyshire')\n",
    "hockey = hockey[filter2].reset_index(drop=True)\n",
    "print(len(hockey))"
   ]
  },
  {
   "cell_type": "code",
   "execution_count": 20,
   "metadata": {},
   "outputs": [
    {
     "name": "stdout",
     "output_type": "stream",
     "text": [
      "422651\n"
     ]
    }
   ],
   "source": [
    "# #naturalengland\n",
    "filter1 = hockey.apply(non_hockey, axis=1, col='tweet_1', sub='#naturalengland')\n",
    "hockey = hockey[filter1].reset_index(drop=True)\n",
    "\n",
    "filter2 = hockey.apply(non_hockey, axis=1, col='tweet_2', sub='#naturalengland')\n",
    "hockey = hockey[filter2].reset_index(drop=True)\n",
    "print(len(hockey))"
   ]
  },
  {
   "cell_type": "code",
   "execution_count": 21,
   "metadata": {},
   "outputs": [
    {
     "name": "stdout",
     "output_type": "stream",
     "text": [
      "422648\n"
     ]
    }
   ],
   "source": [
    "# #alps\n",
    "filter1 = hockey.apply(non_hockey, axis=1, col='tweet_1', sub='#alps')\n",
    "hockey = hockey[filter1].reset_index(drop=True)\n",
    "\n",
    "filter2 = hockey.apply(non_hockey, axis=1, col='tweet_2', sub='#alps')\n",
    "hockey = hockey[filter2].reset_index(drop=True)\n",
    "print(len(hockey))"
   ]
  },
  {
   "cell_type": "code",
   "execution_count": 22,
   "metadata": {},
   "outputs": [
    {
     "name": "stdout",
     "output_type": "stream",
     "text": [
      "422168\n"
     ]
    }
   ],
   "source": [
    "# #iheartawards\n",
    "filter1 = hockey.apply(non_hockey, axis=1, col='tweet_1', sub='#iheartawards')\n",
    "hockey = hockey[filter1].reset_index(drop=True)\n",
    "\n",
    "filter2 = hockey.apply(non_hockey, axis=1, col='tweet_2', sub='#iheartawards')\n",
    "hockey = hockey[filter2].reset_index(drop=True)\n",
    "print(len(hockey))"
   ]
  },
  {
   "cell_type": "code",
   "execution_count": 23,
   "metadata": {},
   "outputs": [
    {
     "name": "stdout",
     "output_type": "stream",
     "text": [
      "422167\n"
     ]
    }
   ],
   "source": [
    "# @floridaaquarium\n",
    "filter1 = hockey.apply(non_hockey, axis=1, col='tweet_1', sub='@floridaaquarium')\n",
    "hockey = hockey[filter1].reset_index(drop=True)\n",
    "\n",
    "filter2 = hockey.apply(non_hockey, axis=1, col='tweet_2', sub='@floridaaquarium')\n",
    "hockey = hockey[filter2].reset_index(drop=True)\n",
    "print(len(hockey))"
   ]
  },
  {
   "cell_type": "code",
   "execution_count": 24,
   "metadata": {},
   "outputs": [
    {
     "name": "stdout",
     "output_type": "stream",
     "text": [
      "422162\n"
     ]
    }
   ],
   "source": [
    "# #fairylights\n",
    "filter1 = hockey.apply(non_hockey, axis=1, col='tweet_1', sub='#fairylights')\n",
    "hockey = hockey[filter1].reset_index(drop=True)\n",
    "\n",
    "filter2 = hockey.apply(non_hockey, axis=1, col='tweet_2', sub='#fairylights')\n",
    "hockey = hockey[filter2].reset_index(drop=True)\n",
    "print(len(hockey))"
   ]
  },
  {
   "cell_type": "code",
   "execution_count": 25,
   "metadata": {},
   "outputs": [
    {
     "name": "stdout",
     "output_type": "stream",
     "text": [
      "421924\n"
     ]
    }
   ],
   "source": [
    "# #northernlights\n",
    "filter1 = hockey.apply(non_hockey, axis=1, col='tweet_1', sub='#northernlights')\n",
    "hockey = hockey[filter1].reset_index(drop=True)\n",
    "\n",
    "filter2 = hockey.apply(non_hockey, axis=1, col='tweet_2', sub='#northernlights')\n",
    "hockey = hockey[filter2].reset_index(drop=True)\n",
    "print(len(hockey))"
   ]
  },
  {
   "cell_type": "code",
   "execution_count": 26,
   "metadata": {},
   "outputs": [
    {
     "name": "stdout",
     "output_type": "stream",
     "text": [
      "421923\n"
     ]
    }
   ],
   "source": [
    "# lacazette\n",
    "filter1 = hockey.apply(non_hockey, axis=1, col='tweet_1', sub='lacazette')\n",
    "hockey = hockey[filter1].reset_index(drop=True)\n",
    "\n",
    "filter2 = hockey.apply(non_hockey, axis=1, col='tweet_2', sub='lacazette')\n",
    "hockey = hockey[filter2].reset_index(drop=True)\n",
    "print(len(hockey))"
   ]
  },
  {
   "cell_type": "code",
   "execution_count": 27,
   "metadata": {},
   "outputs": [
    {
     "name": "stdout",
     "output_type": "stream",
     "text": [
      "419533\n"
     ]
    }
   ],
   "source": [
    "# #realtor\n",
    "filter1 = hockey.apply(non_hockey, axis=1, col='tweet_1', sub='#realtor')\n",
    "hockey = hockey[filter1].reset_index(drop=True)\n",
    "\n",
    "filter2 = hockey.apply(non_hockey, axis=1, col='tweet_2', sub='#realtor')\n",
    "hockey = hockey[filter2].reset_index(drop=True)\n",
    "print(len(hockey))"
   ]
  },
  {
   "cell_type": "code",
   "execution_count": 28,
   "metadata": {},
   "outputs": [
    {
     "name": "stdout",
     "output_type": "stream",
     "text": [
      "419445\n"
     ]
    }
   ],
   "source": [
    "# #sportfishing\n",
    "filter1 = hockey.apply(non_hockey, axis=1, col='tweet_1', sub='#sportfishing')\n",
    "hockey = hockey[filter1].reset_index(drop=True)\n",
    "\n",
    "filter2 = hockey.apply(non_hockey, axis=1, col='tweet_2', sub='#sportfishing')\n",
    "hockey = hockey[filter2].reset_index(drop=True)\n",
    "print(len(hockey))"
   ]
  },
  {
   "cell_type": "code",
   "execution_count": 29,
   "metadata": {},
   "outputs": [
    {
     "name": "stdout",
     "output_type": "stream",
     "text": [
      "419435\n"
     ]
    }
   ],
   "source": [
    "# @thestateoftheu\n",
    "filter1 = hockey.apply(non_hockey, axis=1, col='tweet_1', sub='@thestateoftheu')\n",
    "hockey = hockey[filter1].reset_index(drop=True)\n",
    "\n",
    "filter2 = hockey.apply(non_hockey, axis=1, col='tweet_2', sub='@thestateoftheu')\n",
    "hockey = hockey[filter2].reset_index(drop=True)\n",
    "print(len(hockey))"
   ]
  },
  {
   "cell_type": "code",
   "execution_count": 30,
   "metadata": {},
   "outputs": [
    {
     "name": "stdout",
     "output_type": "stream",
     "text": [
      "419421\n"
     ]
    }
   ],
   "source": [
    "# @peterariz\n",
    "filter1 = hockey.apply(non_hockey, axis=1, col='tweet_1', sub='@peterariz')\n",
    "hockey = hockey[filter1].reset_index(drop=True)\n",
    "\n",
    "filter2 = hockey.apply(non_hockey, axis=1, col='tweet_2', sub='@peterariz')\n",
    "hockey = hockey[filter2].reset_index(drop=True)\n",
    "print(len(hockey))"
   ]
  },
  {
   "cell_type": "code",
   "execution_count": 31,
   "metadata": {},
   "outputs": [
    {
     "name": "stdout",
     "output_type": "stream",
     "text": [
      "419421\n"
     ]
    }
   ],
   "source": [
    "# @dougrrose\n",
    "filter1 = hockey.apply(non_hockey, axis=1, col='tweet_1', sub='@dougrrose')\n",
    "hockey = hockey[filter1].reset_index(drop=True)\n",
    "\n",
    "filter2 = hockey.apply(non_hockey, axis=1, col='tweet_2', sub='@dougrrose')\n",
    "hockey = hockey[filter2].reset_index(drop=True)\n",
    "print(len(hockey))"
   ]
  },
  {
   "cell_type": "code",
   "execution_count": 32,
   "metadata": {},
   "outputs": [
    {
     "name": "stdout",
     "output_type": "stream",
     "text": [
      "419391\n"
     ]
    }
   ],
   "source": [
    "# @bts_bighit\n",
    "filter1 = hockey.apply(non_hockey, axis=1, col='tweet_1', sub='@bts_bighit')\n",
    "hockey = hockey[filter1].reset_index(drop=True)\n",
    "\n",
    "filter2 = hockey.apply(non_hockey, axis=1, col='tweet_2', sub='@bts_bighit')\n",
    "hockey = hockey[filter2].reset_index(drop=True)\n",
    "print(len(hockey))"
   ]
  },
  {
   "cell_type": "code",
   "execution_count": 33,
   "metadata": {},
   "outputs": [
    {
     "name": "stdout",
     "output_type": "stream",
     "text": [
      "419286\n"
     ]
    }
   ],
   "source": [
    "# #couponcode\n",
    "filter1 = hockey.apply(non_hockey, axis=1, col='tweet_1', sub='#couponcode')\n",
    "hockey = hockey[filter1].reset_index(drop=True)\n",
    "\n",
    "filter2 = hockey.apply(non_hockey, axis=1, col='tweet_2', sub='#couponcode')\n",
    "hockey = hockey[filter2].reset_index(drop=True)\n",
    "print(len(hockey))"
   ]
  },
  {
   "cell_type": "code",
   "execution_count": 34,
   "metadata": {},
   "outputs": [
    {
     "name": "stdout",
     "output_type": "stream",
     "text": [
      "419223\n",
      "419188\n",
      "419188\n",
      "419186\n",
      "418862\n"
     ]
    }
   ],
   "source": [
    "# donald trump\n",
    "trump1 = hockey.apply(non_hockey, axis=1, col='tweet_1', sub='donald trump')\n",
    "hockey = hockey[trump1].reset_index(drop=True)\n",
    "\n",
    "trump2 = hockey.apply(non_hockey, axis=1, col='tweet_2', sub='donald trump')\n",
    "hockey = hockey[trump2].reset_index(drop=True)\n",
    "print(len(hockey))\n",
    "\n",
    "# stormydaniels\n",
    "stormy1 = hockey.apply(non_hockey, axis=1, col='tweet_1', sub='#stormydaniels')\n",
    "hockey = hockey[stormy1].reset_index(drop=True)\n",
    "\n",
    "stormy2 = hockey.apply(non_hockey, axis=1, col='tweet_2', sub='#stormydaniels')\n",
    "hockey = hockey[stormy2].reset_index(drop=True)\n",
    "print(len(hockey))\n",
    "\n",
    "# magnetic field\n",
    "magnet1 = hockey.apply(non_hockey, axis=1, col='tweet_1', sub='#magneticfield')\n",
    "hockey = hockey[magnet1].reset_index(drop=True)\n",
    "\n",
    "magnet2 = hockey.apply(non_hockey, axis=1, col='tweet_2', sub='#magneticfield')\n",
    "hockey = hockey[magnet2].reset_index(drop=True)\n",
    "print(len(hockey))\n",
    "\n",
    "# @solarham\n",
    "solar1 = hockey.apply(non_hockey, axis=1, col='tweet_1', sub='@solarham')\n",
    "hockey = hockey[solar1].reset_index(drop=True)\n",
    "\n",
    "solar2 = hockey.apply(non_hockey, axis=1, col='tweet_2', sub='@solarham')\n",
    "hockey = hockey[solar2].reset_index(drop=True)\n",
    "print(len(hockey))\n",
    "\n",
    "# #trump\n",
    "trump1 = hockey.apply(non_hockey, axis=1, col='tweet_1', sub='#trump')\n",
    "hockey = hockey[trump1].reset_index(drop=True)\n",
    "\n",
    "trump2 = hockey.apply(non_hockey, axis=1, col='tweet_2', sub='#trump')\n",
    "hockey = hockey[trump2].reset_index(drop=True)\n",
    "print(len(hockey))"
   ]
  },
  {
   "cell_type": "code",
   "execution_count": 35,
   "metadata": {},
   "outputs": [
    {
     "name": "stdout",
     "output_type": "stream",
     "text": [
      "418774\n"
     ]
    }
   ],
   "source": [
    "# #espn300\n",
    "espn1 = hockey.apply(non_hockey, axis=1, col='tweet_1', sub='#espn300')\n",
    "hockey = hockey[espn1].reset_index(drop=True)\n",
    "\n",
    "espn2 = hockey.apply(non_hockey, axis=1, col='tweet_2', sub='#espn300')\n",
    "hockey = hockey[espn2].reset_index(drop=True)\n",
    "print(len(hockey))"
   ]
  },
  {
   "cell_type": "code",
   "execution_count": 36,
   "metadata": {},
   "outputs": [
    {
     "name": "stdout",
     "output_type": "stream",
     "text": [
      "418688\n"
     ]
    }
   ],
   "source": [
    "# #stormhour\n",
    "strmhour1 = hockey.apply(non_hockey, axis=1, col='tweet_1', sub='#stormhour')\n",
    "hockey = hockey[strmhour1].reset_index(drop=True)\n",
    "\n",
    "strmhour2 = hockey.apply(non_hockey, axis=1, col='tweet_2', sub='#stormhour')\n",
    "hockey = hockey[strmhour2].reset_index(drop=True)\n",
    "print(len(hockey))"
   ]
  },
  {
   "cell_type": "code",
   "execution_count": 37,
   "metadata": {},
   "outputs": [
    {
     "name": "stdout",
     "output_type": "stream",
     "text": [
      "411719\n"
     ]
    }
   ],
   "source": [
    "# @kristinewmusic\n",
    "music1 = hockey.apply(non_hockey, axis=1, col='tweet_1', sub='@kristinewmusic')\n",
    "hockey = hockey[music1].reset_index(drop=True)\n",
    "\n",
    "music2 = hockey.apply(non_hockey, axis=1, col='tweet_2', sub='@kristinewmusic')\n",
    "hockey = hockey[music2].reset_index(drop=True)\n",
    "print(len(hockey))"
   ]
  },
  {
   "cell_type": "code",
   "execution_count": 38,
   "metadata": {},
   "outputs": [
    {
     "name": "stdout",
     "output_type": "stream",
     "text": [
      "411707\n"
     ]
    }
   ],
   "source": [
    "# #marinelife\n",
    "marine1 = hockey.apply(non_hockey, axis=1, col='tweet_1', sub='#marinelife')\n",
    "hockey = hockey[marine1].reset_index(drop=True)\n",
    "\n",
    "marine2 = hockey.apply(non_hockey, axis=1, col='tweet_2', sub='#marinelife')\n",
    "hockey = hockey[marine2].reset_index(drop=True)\n",
    "print(len(hockey))"
   ]
  },
  {
   "cell_type": "code",
   "execution_count": 39,
   "metadata": {},
   "outputs": [
    {
     "name": "stdout",
     "output_type": "stream",
     "text": [
      "411660\n"
     ]
    }
   ],
   "source": [
    "# @oceana\n",
    "oceana1 = hockey.apply(non_hockey, axis=1, col='tweet_1', sub='@oceana')\n",
    "hockey = hockey[oceana1].reset_index(drop=True)\n",
    "\n",
    "oceana2 = hockey.apply(non_hockey, axis=1, col='tweet_2', sub='@oceana')\n",
    "hockey = hockey[oceana2].reset_index(drop=True)\n",
    "print(len(hockey))"
   ]
  },
  {
   "cell_type": "code",
   "execution_count": 40,
   "metadata": {},
   "outputs": [
    {
     "name": "stdout",
     "output_type": "stream",
     "text": [
      "411656\n"
     ]
    }
   ],
   "source": [
    "# @jaceticot\n",
    "jacet1 = hockey.apply(non_hockey, axis=1, col='tweet_1', sub='@jaceticot')\n",
    "hockey = hockey[jacet1].reset_index(drop=True)\n",
    "\n",
    "jacet2 = hockey.apply(non_hockey, axis=1, col='tweet_2', sub='@jaceticot')\n",
    "hockey = hockey[jacet2].reset_index(drop=True)\n",
    "print(len(hockey))"
   ]
  },
  {
   "cell_type": "code",
   "execution_count": 41,
   "metadata": {},
   "outputs": [
    {
     "name": "stdout",
     "output_type": "stream",
     "text": [
      "411656\n"
     ]
    }
   ],
   "source": [
    "# #mcmsharksxx\n",
    "shark1 = hockey.apply(non_hockey, axis=1, col='tweet_1', sub='#mcmsharksxx')\n",
    "hockey = hockey[shark1].reset_index(drop=True)\n",
    "\n",
    "shark2 = hockey.apply(non_hockey, axis=1, col='tweet_2', sub='#mcmsharksxx')\n",
    "hockey = hockey[shark2].reset_index(drop=True)\n",
    "print(len(hockey))"
   ]
  },
  {
   "cell_type": "code",
   "execution_count": 42,
   "metadata": {},
   "outputs": [
    {
     "name": "stdout",
     "output_type": "stream",
     "text": [
      "411598\n"
     ]
    }
   ],
   "source": [
    "# #sharkscience\n",
    "science1 = hockey.apply(non_hockey, axis=1, col='tweet_1', sub='#sharkscience')\n",
    "hockey = hockey[science1].reset_index(drop=True)\n",
    "\n",
    "science2 = hockey.apply(non_hockey, axis=1, col='tweet_2', sub='#sharkscience')\n",
    "hockey = hockey[science2].reset_index(drop=True)\n",
    "print(len(hockey))"
   ]
  },
  {
   "cell_type": "code",
   "execution_count": 43,
   "metadata": {},
   "outputs": [
    {
     "name": "stdout",
     "output_type": "stream",
     "text": [
      "411597\n"
     ]
    }
   ],
   "source": [
    "# @seethemilkyway\n",
    "milky1 = hockey.apply(non_hockey, axis=1, col='tweet_1', sub='@seethemilkyway')\n",
    "hockey = hockey[milky1].reset_index(drop=True)\n",
    "\n",
    "milky2 = hockey.apply(non_hockey, axis=1, col='tweet_2', sub='@seethemilkyway')\n",
    "hockey = hockey[milky2].reset_index(drop=True)\n",
    "print(len(hockey))"
   ]
  },
  {
   "cell_type": "code",
   "execution_count": 44,
   "metadata": {
    "collapsed": true
   },
   "outputs": [],
   "source": [
    "hockey.to_csv('remove_tweets.csv')"
   ]
  },
  {
   "cell_type": "code",
   "execution_count": 45,
   "metadata": {},
   "outputs": [
    {
     "data": {
      "text/html": [
       "<div>\n",
       "<style>\n",
       "    .dataframe thead tr:only-child th {\n",
       "        text-align: right;\n",
       "    }\n",
       "\n",
       "    .dataframe thead th {\n",
       "        text-align: left;\n",
       "    }\n",
       "\n",
       "    .dataframe tbody tr th {\n",
       "        vertical-align: top;\n",
       "    }\n",
       "</style>\n",
       "<table border=\"1\" class=\"dataframe\">\n",
       "  <thead>\n",
       "    <tr style=\"text-align: right;\">\n",
       "      <th></th>\n",
       "      <th>index</th>\n",
       "      <th>created_at</th>\n",
       "      <th>in_reply_to_screen_name</th>\n",
       "      <th>lang</th>\n",
       "      <th>quoted_status.in_reply_to_screen_name</th>\n",
       "      <th>quoted_status.user.screen_name</th>\n",
       "      <th>retweeted_status.in_reply_to_screen_name</th>\n",
       "      <th>retweeted_status.quoted_status.in_reply_to_screen_name</th>\n",
       "      <th>retweeted_status.quoted_status.user.screen_name</th>\n",
       "      <th>retweeted_status.user.screen_name</th>\n",
       "      <th>...</th>\n",
       "      <th>rtqt_mentions</th>\n",
       "      <th>ex_mentions</th>\n",
       "      <th>exrt_mentions</th>\n",
       "      <th>exqt_mentions</th>\n",
       "      <th>exrtqt_mentions</th>\n",
       "      <th>source_parse</th>\n",
       "      <th>team</th>\n",
       "      <th>tweet_1</th>\n",
       "      <th>tweet_2</th>\n",
       "      <th>hour</th>\n",
       "    </tr>\n",
       "  </thead>\n",
       "  <tbody>\n",
       "    <tr>\n",
       "      <th>0</th>\n",
       "      <td>0</td>\n",
       "      <td>2018-01-20 15:34:25</td>\n",
       "      <td>NaN</td>\n",
       "      <td>en</td>\n",
       "      <td>NaN</td>\n",
       "      <td>NaN</td>\n",
       "      <td>NaN</td>\n",
       "      <td>NaN</td>\n",
       "      <td>NaN</td>\n",
       "      <td>NYRangerFanclub</td>\n",
       "      <td>...</td>\n",
       "      <td>[]</td>\n",
       "      <td>[]</td>\n",
       "      <td>[]</td>\n",
       "      <td>[]</td>\n",
       "      <td>[]</td>\n",
       "      <td>Twitter for iPhone</td>\n",
       "      <td>[nyr]</td>\n",
       "      <td>🎙️#giveaway time🎙️  📱retweet and follow to ent...</td>\n",
       "      <td>NaN</td>\n",
       "      <td>15</td>\n",
       "    </tr>\n",
       "    <tr>\n",
       "      <th>1</th>\n",
       "      <td>1</td>\n",
       "      <td>2018-01-20 15:34:27</td>\n",
       "      <td>NaN</td>\n",
       "      <td>en</td>\n",
       "      <td>NaN</td>\n",
       "      <td>NaN</td>\n",
       "      <td>NaN</td>\n",
       "      <td>NaN</td>\n",
       "      <td>NaN</td>\n",
       "      <td>CanadiensViews</td>\n",
       "      <td>...</td>\n",
       "      <td>[]</td>\n",
       "      <td>[]</td>\n",
       "      <td>[]</td>\n",
       "      <td>[]</td>\n",
       "      <td>[]</td>\n",
       "      <td>Twitter for Android</td>\n",
       "      <td>[habs]</td>\n",
       "      <td>#canadiens #gohabsgo #habs which canadiens are...</td>\n",
       "      <td>NaN</td>\n",
       "      <td>15</td>\n",
       "    </tr>\n",
       "    <tr>\n",
       "      <th>2</th>\n",
       "      <td>2</td>\n",
       "      <td>2018-01-20 15:34:28</td>\n",
       "      <td>NaN</td>\n",
       "      <td>en</td>\n",
       "      <td>NaN</td>\n",
       "      <td>HockeyDayMN</td>\n",
       "      <td>NaN</td>\n",
       "      <td>NaN</td>\n",
       "      <td>HockeyDayMN</td>\n",
       "      <td>mnwild</td>\n",
       "      <td>...</td>\n",
       "      <td>[wellsfargo]</td>\n",
       "      <td>[]</td>\n",
       "      <td>[]</td>\n",
       "      <td>[]</td>\n",
       "      <td>[]</td>\n",
       "      <td>Twitter for iPhone</td>\n",
       "      <td>[wild]</td>\n",
       "      <td>let’s do that hockey! https://t.co/7mwf8wicj6</td>\n",
       "      <td>happy hockey day minnesota! the first game of ...</td>\n",
       "      <td>15</td>\n",
       "    </tr>\n",
       "    <tr>\n",
       "      <th>3</th>\n",
       "      <td>4</td>\n",
       "      <td>2018-01-20 15:34:32</td>\n",
       "      <td>DallasStars</td>\n",
       "      <td>en</td>\n",
       "      <td>NaN</td>\n",
       "      <td>NaN</td>\n",
       "      <td>NaN</td>\n",
       "      <td>NaN</td>\n",
       "      <td>NaN</td>\n",
       "      <td>NaN</td>\n",
       "      <td>...</td>\n",
       "      <td>[]</td>\n",
       "      <td>[]</td>\n",
       "      <td>[]</td>\n",
       "      <td>[]</td>\n",
       "      <td>[]</td>\n",
       "      <td>Twitter for Android</td>\n",
       "      <td>[stars]</td>\n",
       "      <td>@dallasstars @ds_foundation ed friggin belfour...</td>\n",
       "      <td>NaN</td>\n",
       "      <td>15</td>\n",
       "    </tr>\n",
       "    <tr>\n",
       "      <th>4</th>\n",
       "      <td>5</td>\n",
       "      <td>2018-01-20 15:34:33</td>\n",
       "      <td>penguins</td>\n",
       "      <td>en</td>\n",
       "      <td>NaN</td>\n",
       "      <td>NaN</td>\n",
       "      <td>NaN</td>\n",
       "      <td>NaN</td>\n",
       "      <td>NaN</td>\n",
       "      <td>NaN</td>\n",
       "      <td>...</td>\n",
       "      <td>[]</td>\n",
       "      <td>[]</td>\n",
       "      <td>[]</td>\n",
       "      <td>[]</td>\n",
       "      <td>[]</td>\n",
       "      <td>Twitter for Android</td>\n",
       "      <td>[pens]</td>\n",
       "      <td>@penguins happy birthday  ryan 'grim reaper' r...</td>\n",
       "      <td>NaN</td>\n",
       "      <td>15</td>\n",
       "    </tr>\n",
       "  </tbody>\n",
       "</table>\n",
       "<p>5 rows × 34 columns</p>\n",
       "</div>"
      ],
      "text/plain": [
       "   index          created_at in_reply_to_screen_name lang  \\\n",
       "0      0 2018-01-20 15:34:25                     NaN   en   \n",
       "1      1 2018-01-20 15:34:27                     NaN   en   \n",
       "2      2 2018-01-20 15:34:28                     NaN   en   \n",
       "3      4 2018-01-20 15:34:32             DallasStars   en   \n",
       "4      5 2018-01-20 15:34:33                penguins   en   \n",
       "\n",
       "  quoted_status.in_reply_to_screen_name quoted_status.user.screen_name  \\\n",
       "0                                   NaN                            NaN   \n",
       "1                                   NaN                            NaN   \n",
       "2                                   NaN                    HockeyDayMN   \n",
       "3                                   NaN                            NaN   \n",
       "4                                   NaN                            NaN   \n",
       "\n",
       "  retweeted_status.in_reply_to_screen_name  \\\n",
       "0                                      NaN   \n",
       "1                                      NaN   \n",
       "2                                      NaN   \n",
       "3                                      NaN   \n",
       "4                                      NaN   \n",
       "\n",
       "  retweeted_status.quoted_status.in_reply_to_screen_name  \\\n",
       "0                                                NaN       \n",
       "1                                                NaN       \n",
       "2                                                NaN       \n",
       "3                                                NaN       \n",
       "4                                                NaN       \n",
       "\n",
       "  retweeted_status.quoted_status.user.screen_name  \\\n",
       "0                                             NaN   \n",
       "1                                             NaN   \n",
       "2                                     HockeyDayMN   \n",
       "3                                             NaN   \n",
       "4                                             NaN   \n",
       "\n",
       "  retweeted_status.user.screen_name ...  rtqt_mentions ex_mentions  \\\n",
       "0                   NYRangerFanclub ...             []          []   \n",
       "1                    CanadiensViews ...             []          []   \n",
       "2                            mnwild ...   [wellsfargo]          []   \n",
       "3                               NaN ...             []          []   \n",
       "4                               NaN ...             []          []   \n",
       "\n",
       "  exrt_mentions exqt_mentions exrtqt_mentions         source_parse     team  \\\n",
       "0            []            []              []   Twitter for iPhone    [nyr]   \n",
       "1            []            []              []  Twitter for Android   [habs]   \n",
       "2            []            []              []   Twitter for iPhone   [wild]   \n",
       "3            []            []              []  Twitter for Android  [stars]   \n",
       "4            []            []              []  Twitter for Android   [pens]   \n",
       "\n",
       "                                             tweet_1  \\\n",
       "0  🎙️#giveaway time🎙️  📱retweet and follow to ent...   \n",
       "1  #canadiens #gohabsgo #habs which canadiens are...   \n",
       "2      let’s do that hockey! https://t.co/7mwf8wicj6   \n",
       "3  @dallasstars @ds_foundation ed friggin belfour...   \n",
       "4  @penguins happy birthday  ryan 'grim reaper' r...   \n",
       "\n",
       "                                             tweet_2 hour  \n",
       "0                                                NaN   15  \n",
       "1                                                NaN   15  \n",
       "2  happy hockey day minnesota! the first game of ...   15  \n",
       "3                                                NaN   15  \n",
       "4                                                NaN   15  \n",
       "\n",
       "[5 rows x 34 columns]"
      ]
     },
     "execution_count": 45,
     "metadata": {},
     "output_type": "execute_result"
    }
   ],
   "source": [
    "hockey.head()"
   ]
  },
  {
   "cell_type": "code",
   "execution_count": null,
   "metadata": {
    "collapsed": true
   },
   "outputs": [],
   "source": []
  }
 ],
 "metadata": {
  "kernelspec": {
   "display_name": "Python 3",
   "language": "python",
   "name": "python3"
  },
  "language_info": {
   "codemirror_mode": {
    "name": "ipython",
    "version": 3
   },
   "file_extension": ".py",
   "mimetype": "text/x-python",
   "name": "python",
   "nbconvert_exporter": "python",
   "pygments_lexer": "ipython3",
   "version": "3.6.1"
  }
 },
 "nbformat": 4,
 "nbformat_minor": 2
}

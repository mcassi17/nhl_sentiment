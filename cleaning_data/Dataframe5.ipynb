{
 "cells": [
  {
   "cell_type": "code",
   "execution_count": 1,
   "metadata": {
    "collapsed": true
   },
   "outputs": [],
   "source": [
    "import json\n",
    "import pandas as pd\n",
    "from pandas.io.json import json_normalize\n",
    "import numpy as np\n",
    "import itertools\n",
    "from bs4 import BeautifulSoup as BSHTML"
   ]
  },
  {
   "cell_type": "code",
   "execution_count": 2,
   "metadata": {
    "collapsed": true
   },
   "outputs": [],
   "source": [
    "# Take JSON csv file and turn it into a dataframe\n",
    "def make_df(file):\n",
    "    tweets_data = []\n",
    "    tweets_file = open(file, \"r\")\n",
    "    for line in tweets_file:\n",
    "        try:\n",
    "            tweet = json.loads(line)\n",
    "            tweets_data.append(tweet)\n",
    "        except:\n",
    "            continue\n",
    "    hockey = json_normalize(tweets_data)\n",
    "    return hockey\n",
    "\n",
    "#Remove some of the columns from the dataframe\n",
    "def remove_columns(df):\n",
    "    include = ['created_at','entities.hashtags','extended_tweet.entities.user_mentions','entities.user_mentions','extended_tweet.entities.hashtags',\n",
    "               'extended_tweet.full_text','in_reply_to_screen_name','lang','quoted_status.entities.hashtags',\n",
    "               'quoted_status.extended_tweet.entities.hashtags','quoted_status.extended_tweet.full_text',\n",
    "               'quoted_status.in_reply_to_screen_name','quoted_status.text',\n",
    "               'quoted_status.user.screen_name','retweeted_status.entities.hashtags',\n",
    "               'retweeted_status.extended_tweet.entities.hashtags','retweeted_status.extended_tweet.full_text',\n",
    "               'retweeted_status.in_reply_to_screen_name','retweeted_status.quoted_status.entities.hashtags',\n",
    "               'retweeted_status.quoted_status.extended_tweet.entities.hashtags',\n",
    "               'retweeted_status.quoted_status.extended_tweet.full_text',\n",
    "               'retweeted_status.quoted_status.in_reply_to_screen_name',\n",
    "               'retweeted_status.quoted_status.text','retweeted_status.quoted_status.user.screen_name', 'retweeted_status.text','retweeted_status.user.screen_name','source','text','user.lang','user.screen_name','quoted_status.extended_tweet.entities.user_mentions','quoted_status.entities.user_mentions','retweeted_status.extended_tweet.entities.user_mentions','retweeted_status.entities.user_mentions','retweeted_status.quoted_status.extended_tweet.entities.user_mentions','retweeted_status.quoted_status.entities.user_mentions']\n",
    "    df = df[include]\n",
    "    return df\n",
    "\n",
    "def remove_nan(row):\n",
    "    return [x for x in row['combo'] if x != '']\n",
    "\n",
    "#Get the hashtags from tweets\n",
    "def ex_hashtags(row):\n",
    "    length = row[['extended_tweet.entities.hashtags']].str.len().values\n",
    "    included = []\n",
    "    if length >= 0.0:\n",
    "        if length != 0:\n",
    "            for i in range(int(length)):\n",
    "                sname = row[['extended_tweet.entities.hashtags']].apply(pd.Series).iloc[:,i].apply(pd.Series).iloc[:,-1].values\n",
    "                included.append(sname)\n",
    "    return list(itertools.chain.from_iterable(included))\n",
    "\n",
    "#get the hashtags from retweets\n",
    "def exrt_hashtags(row):\n",
    "    length = row[['retweeted_status.extended_tweet.entities.hashtags']].str.len().values\n",
    "    included = []\n",
    "    if length >= 0.0:\n",
    "        if length != 0:\n",
    "            for i in range(int(length)):\n",
    "                sname = row[['retweeted_status.extended_tweet.entities.hashtags']].apply(pd.Series).iloc[:,i].apply(pd.Series).iloc[:,-1].values\n",
    "                included.append(sname)\n",
    "    return list(itertools.chain.from_iterable(included))\n",
    "  \n",
    "#get the hashtags of quoted tweets    \n",
    "def exqt_hashtags(row):\n",
    "    length = row[['quoted_status.extended_tweet.entities.hashtags']].str.len().values\n",
    "    included = []\n",
    "    if length >= 0.0:\n",
    "        if length != 0:\n",
    "            for i in range(int(length)):\n",
    "                sname = row[['quoted_status.extended_tweet.entities.hashtags']].apply(pd.Series).iloc[:,i].apply(pd.Series).iloc[:,-1].values\n",
    "                included.append(sname)\n",
    "    return list(itertools.chain.from_iterable(included))\n",
    "\n",
    "#get the hashtags of a retweeted quote tweet\n",
    "def exqtrt_hashtags(row):\n",
    "    length = row[['retweeted_status.quoted_status.extended_tweet.entities.hashtags']].str.len().values\n",
    "    included = []\n",
    "    if length >= 0.0:\n",
    "        if length != 0:\n",
    "            for i in range(int(length)):\n",
    "                sname = row[['retweeted_status.quoted_status.extended_tweet.entities.hashtags']].apply(pd.Series).iloc[:,i].apply(pd.Series).iloc[:,-1].values\n",
    "                included.append(sname)\n",
    "    return list(itertools.chain.from_iterable(included))\n",
    "\n",
    "#Get the hashtags from tweets\n",
    "def hashtags(row):\n",
    "    length = row[['entities.hashtags']].str.len().values\n",
    "    included = []\n",
    "    if length >= 0.0:\n",
    "        if length != 0:\n",
    "            for i in range(int(length)):\n",
    "                sname = row[['entities.hashtags']].apply(pd.Series).iloc[:,i].apply(pd.Series).iloc[:,-1].values\n",
    "                included.append(sname)\n",
    "    return list(itertools.chain.from_iterable(included))\n",
    "\n",
    "#get the hashtags from retweets\n",
    "def rt_hashtags(row):\n",
    "    length = row[['retweeted_status.entities.hashtags']].str.len().values\n",
    "    included = []\n",
    "    if length >= 0.0:\n",
    "        if length != 0:\n",
    "            for i in range(int(length)):\n",
    "                sname = row[['retweeted_status.entities.hashtags']].apply(pd.Series).iloc[:,i].apply(pd.Series).iloc[:,-1].values\n",
    "                included.append(sname)\n",
    "    return list(itertools.chain.from_iterable(included))\n",
    "  \n",
    "#get the hashtags of quoted tweets    \n",
    "def qt_hashtags(row):\n",
    "    length = row[['quoted_status.entities.hashtags']].str.len().values\n",
    "    included = []\n",
    "    if length >= 0.0:\n",
    "        if length != 0:\n",
    "            for i in range(int(length)):\n",
    "                sname = row[['quoted_status.entities.hashtags']].apply(pd.Series).iloc[:,i].apply(pd.Series).iloc[:,-1].values\n",
    "                included.append(sname)\n",
    "    return list(itertools.chain.from_iterable(included))\n",
    "\n",
    "#get the hashtags of a retweeted quote tweet\n",
    "def qtrt_hashtags(row):\n",
    "    length = row[['retweeted_status.quoted_status.entities.hashtags']].str.len().values\n",
    "    included = []\n",
    "    if length >= 0.0:\n",
    "        if length != 0:\n",
    "            for i in range(int(length)):\n",
    "                sname = row[['retweeted_status.quoted_status.entities.hashtags']].apply(pd.Series).iloc[:,i].apply(pd.Series).iloc[:,-1].values\n",
    "                included.append(sname)\n",
    "    return list(itertools.chain.from_iterable(included))\n",
    "\n",
    "\n",
    "def html_parse(row):\n",
    "    bs = ''\n",
    "    if row['source'] != ' ':\n",
    "        bs = BSHTML(row['source'], \"lxml\").a.contents[0].strip()\n",
    "    return bs\n",
    "\n",
    "def ex_mentions(row):\n",
    "    length = row[['extended_tweet.entities.user_mentions']].str.len().values\n",
    "    included = []\n",
    "    if length >= 0.0:\n",
    "        if length != 0:\n",
    "            for i in range(int(length)):\n",
    "                sname = row[['extended_tweet.entities.user_mentions']].apply(pd.Series).iloc[:,i].apply(pd.Series).iloc[:,-1].values\n",
    "                included.append(sname)\n",
    "    return list(itertools.chain.from_iterable(included))\n",
    "\n",
    "def exrt_mentions(row):\n",
    "    length = row[['retweeted_status.extended_tweet.entities.user_mentions']].str.len().values\n",
    "    included = []\n",
    "    if length >= 0.0:\n",
    "        if length != 0:\n",
    "            for i in range(int(length)):\n",
    "                sname = row[['retweeted_status.extended_tweet.entities.user_mentions']].apply(pd.Series).iloc[:,i].apply(pd.Series).iloc[:,-1].values\n",
    "                included.append(sname)\n",
    "    return list(itertools.chain.from_iterable(included))\n",
    "\n",
    "def exqt_mentions(row):\n",
    "    length = row[['quoted_status.extended_tweet.entities.user_mentions']].str.len().values\n",
    "    included = []\n",
    "    if length >= 0.0:\n",
    "        if length != 0:\n",
    "            for i in range(int(length)):\n",
    "                sname = row[['quoted_status.extended_tweet.entities.user_mentions']].apply(pd.Series).iloc[:,i].apply(pd.Series).iloc[:,-1].values\n",
    "                included.append(sname)\n",
    "    return list(itertools.chain.from_iterable(included))\n",
    "\n",
    "def exrtqt_mentions(row):\n",
    "    length = row[['retweeted_status.quoted_status.extended_tweet.entities.user_mentions']].str.len().values\n",
    "    included = []\n",
    "    if length >= 0.0:\n",
    "        if length != 0:\n",
    "            for i in range(int(length)):\n",
    "                sname = row[['retweeted_status.quoted_status.extended_tweet.entities.user_mentions']].apply(pd.Series).iloc[:,i].apply(pd.Series).iloc[:,-1].values\n",
    "                included.append(sname)\n",
    "    return list(itertools.chain.from_iterable(included))\n",
    "\n",
    "def mentions(row):\n",
    "    length = row[['entities.user_mentions']].str.len().values\n",
    "    included = []\n",
    "    if length >= 0.0:\n",
    "        if length != 0:\n",
    "            for i in range(int(length)):\n",
    "                sname = row[['entities.user_mentions']].apply(pd.Series).iloc[:,i].apply(pd.Series).iloc[:,-1].values\n",
    "                included.append(sname)\n",
    "    return list(itertools.chain.from_iterable(included))\n",
    "\n",
    "def rt_mentions(row):\n",
    "    length = row[['retweeted_status.entities.user_mentions']].str.len().values\n",
    "    included = []\n",
    "    if length >= 0.0:\n",
    "        if length != 0:\n",
    "            for i in range(int(length)):\n",
    "                sname = row[['retweeted_status.entities.user_mentions']].apply(pd.Series).iloc[:,i].apply(pd.Series).iloc[:,-1].values\n",
    "                included.append(sname)\n",
    "    return list(itertools.chain.from_iterable(included))\n",
    "\n",
    "def qt_mentions(row):\n",
    "    length = row[['quoted_status.entities.user_mentions']].str.len().values\n",
    "    included = []\n",
    "    if length >= 0.0:\n",
    "        if length != 0:\n",
    "            for i in range(int(length)):\n",
    "                sname = row[['quoted_status.entities.user_mentions']].apply(pd.Series).iloc[:,i].apply(pd.Series).iloc[:,-1].values\n",
    "                included.append(sname)\n",
    "    return list(itertools.chain.from_iterable(included))\n",
    "\n",
    "def rtqt_mentions(row):\n",
    "    length = row[['retweeted_status.quoted_status.entities.user_mentions']].str.len().values\n",
    "    included = []\n",
    "    if length >= 0.0:\n",
    "        if length != 0:\n",
    "            for i in range(int(length)):\n",
    "                sname = row[['retweeted_status.quoted_status.entities.user_mentions']].apply(pd.Series).iloc[:,i].apply(pd.Series).iloc[:,-1].values\n",
    "                included.append(sname)\n",
    "    return list(itertools.chain.from_iterable(included))"
   ]
  },
  {
   "cell_type": "code",
   "execution_count": 3,
   "metadata": {
    "collapsed": true
   },
   "outputs": [],
   "source": [
    "file1 = '/Users/matthewcassi/documents/nhl_sentiment/raw_data/hockeytweets5.csv'\n",
    "hockey1 = make_df(file1)"
   ]
  },
  {
   "cell_type": "code",
   "execution_count": 4,
   "metadata": {
    "collapsed": true
   },
   "outputs": [],
   "source": [
    "hockey1 = remove_columns(hockey1)"
   ]
  },
  {
   "cell_type": "code",
   "execution_count": 5,
   "metadata": {
    "collapsed": true
   },
   "outputs": [],
   "source": [
    "hockey1['hastags'] = hockey1.apply(hashtags, axis=1)"
   ]
  },
  {
   "cell_type": "code",
   "execution_count": 6,
   "metadata": {},
   "outputs": [],
   "source": [
    "hockey1['ex_hastags'] = hockey1.apply(ex_hashtags, axis=1)"
   ]
  },
  {
   "cell_type": "code",
   "execution_count": 7,
   "metadata": {
    "collapsed": true
   },
   "outputs": [],
   "source": [
    "hockey1['rt_hastags'] = hockey1.apply(rt_hashtags, axis=1)\n",
    "hockey1['exrt_hastags'] = hockey1.apply(exrt_hashtags, axis=1)"
   ]
  },
  {
   "cell_type": "code",
   "execution_count": 8,
   "metadata": {
    "collapsed": true
   },
   "outputs": [],
   "source": [
    "hockey1['qt_hastags'] = hockey1.apply(qt_hashtags, axis=1)\n",
    "hockey1['exqt_hastags'] = hockey1.apply(exqt_hashtags, axis=1)"
   ]
  },
  {
   "cell_type": "code",
   "execution_count": 9,
   "metadata": {
    "collapsed": true
   },
   "outputs": [],
   "source": [
    "hockey1['qtrt_hastags'] = hockey1.apply(qtrt_hashtags, axis=1)\n",
    "hockey1['exqtrt_hastags'] = hockey1.apply(exqtrt_hashtags, axis=1)"
   ]
  },
  {
   "cell_type": "code",
   "execution_count": 10,
   "metadata": {
    "collapsed": true
   },
   "outputs": [],
   "source": [
    "hockey1['mentions'] = hockey1.apply(mentions, axis=1)\n",
    "hockey1['rt_mentions'] = hockey1.apply(rt_mentions, axis=1)\n",
    "hockey1['qt_mentions'] = hockey1.apply(qt_mentions, axis=1)\n",
    "hockey1['rtqt_mentions'] = hockey1.apply(rtqt_mentions, axis=1)"
   ]
  },
  {
   "cell_type": "code",
   "execution_count": 11,
   "metadata": {
    "collapsed": true
   },
   "outputs": [],
   "source": [
    "hockey1['ex_mentions'] = hockey1.apply(ex_mentions, axis=1)\n",
    "hockey1['exrt_mentions'] = hockey1.apply(exrt_mentions, axis=1)\n",
    "hockey1['exqt_mentions'] = hockey1.apply(exqt_mentions, axis=1)\n",
    "hockey1['exrtqt_mentions'] = hockey1.apply(exrtqt_mentions, axis=1)\n",
    "hockey1['source'] = hockey1[['source']].fillna(' ')\n",
    "hockey1['source_parse'] = hockey1.apply(html_parse, axis=1)"
   ]
  },
  {
   "cell_type": "code",
   "execution_count": 12,
   "metadata": {
    "collapsed": true
   },
   "outputs": [],
   "source": [
    "remove = ['extended_tweet.entities.hashtags','retweeted_status.extended_tweet.entities.hashtags','quoted_status.extended_tweet.entities.hashtags','retweeted_status.quoted_status.extended_tweet.entities.hashtags','entities.hashtags','retweeted_status.entities.hashtags','quoted_status.entities.hashtags','retweeted_status.quoted_status.entities.hashtags','extended_tweet.entities.user_mentions','retweeted_status.extended_tweet.entities.user_mentions','quoted_status.extended_tweet.entities.user_mentions','retweeted_status.quoted_status.extended_tweet.entities.user_mentions','entities.user_mentions','retweeted_status.entities.user_mentions','quoted_status.entities.user_mentions','retweeted_status.quoted_status.extended_tweet.entities.user_mentions','source']\n",
    "hockey1 = hockey1.drop(remove, 1)"
   ]
  },
  {
   "cell_type": "code",
   "execution_count": 13,
   "metadata": {},
   "outputs": [
    {
     "data": {
      "text/plain": [
       "Index(['created_at', 'extended_tweet.full_text', 'in_reply_to_screen_name',\n",
       "       'lang', 'quoted_status.extended_tweet.full_text',\n",
       "       'quoted_status.in_reply_to_screen_name', 'quoted_status.text',\n",
       "       'quoted_status.user.screen_name',\n",
       "       'retweeted_status.extended_tweet.full_text',\n",
       "       'retweeted_status.in_reply_to_screen_name',\n",
       "       'retweeted_status.quoted_status.extended_tweet.full_text',\n",
       "       'retweeted_status.quoted_status.in_reply_to_screen_name',\n",
       "       'retweeted_status.quoted_status.text',\n",
       "       'retweeted_status.quoted_status.user.screen_name',\n",
       "       'retweeted_status.text', 'retweeted_status.user.screen_name', 'text',\n",
       "       'user.lang', 'user.screen_name',\n",
       "       'retweeted_status.quoted_status.entities.user_mentions', 'hastags',\n",
       "       'ex_hastags', 'rt_hastags', 'exrt_hastags', 'qt_hastags',\n",
       "       'exqt_hastags', 'qtrt_hastags', 'exqtrt_hastags', 'mentions',\n",
       "       'rt_mentions', 'qt_mentions', 'rtqt_mentions', 'ex_mentions',\n",
       "       'exrt_mentions', 'exqt_mentions', 'exrtqt_mentions', 'source_parse'],\n",
       "      dtype='object')"
      ]
     },
     "execution_count": 13,
     "metadata": {},
     "output_type": "execute_result"
    }
   ],
   "source": [
    "hockey1.columns"
   ]
  },
  {
   "cell_type": "code",
   "execution_count": 14,
   "metadata": {
    "collapsed": true
   },
   "outputs": [],
   "source": [
    "hockey1['text'] = hockey1['text'].str.replace('\\r', ' ')\n",
    "hockey1['text'] = hockey1['text'].str.replace('\\n', ' ')\n",
    "hockey1['extended_tweet.full_text'] = hockey1['extended_tweet.full_text'].str.replace('\\r', ' ')\n",
    "hockey1['extended_tweet.full_text'] = hockey1['extended_tweet.full_text'].str.replace('\\n', ' ')\n",
    "hockey1['quoted_status.text'] = hockey1['quoted_status.text'].str.replace('\\r', ' ')\n",
    "hockey1['quoted_status.text'] = hockey1['quoted_status.text'].str.replace('\\n', ' ')\n",
    "hockey1['quoted_status.extended_tweet.full_text'] = hockey1['quoted_status.extended_tweet.full_text'].str.replace('\\r', ' ')\n",
    "\n",
    "hockey1['quoted_status.extended_tweet.full_text'] = hockey1['quoted_status.extended_tweet.full_text'].str.replace('\\n', ' ')\n",
    "\n",
    "hockey1['retweeted_status.extended_tweet.full_text'] = hockey1['retweeted_status.extended_tweet.full_text'].str.replace('\\r', ' ')\n",
    "\n",
    "hockey1['retweeted_status.extended_tweet.full_text'] = hockey1['retweeted_status.extended_tweet.full_text'].str.replace('\\n', ' ')\n",
    "\n",
    "hockey1['retweeted_status.text'] = hockey1['retweeted_status.text'].str.replace('\\r', ' ')\n",
    "hockey1['retweeted_status.text'] = hockey1['retweeted_status.text'].str.replace('\\n', ' ')\n",
    "hockey1['retweeted_status.quoted_status.extended_tweet.full_text'] = hockey1['retweeted_status.quoted_status.extended_tweet.full_text'].str.replace('\\r', ' ')\n",
    "\n",
    "hockey1['retweeted_status.quoted_status.extended_tweet.full_text'] = hockey1['retweeted_status.quoted_status.extended_tweet.full_text'].str.replace('\\n', ' ')\n",
    "\n",
    "hockey1['retweeted_status.quoted_status.text'] = hockey1['retweeted_status.quoted_status.text'].str.replace('\\r', ' ')\n",
    "\n",
    "hockey1['retweeted_status.quoted_status.text'] = hockey1['retweeted_status.quoted_status.text'].str.replace('\\n', ' ')"
   ]
  },
  {
   "cell_type": "code",
   "execution_count": 15,
   "metadata": {
    "collapsed": true
   },
   "outputs": [],
   "source": [
    "def lower_hash(row, col):\n",
    "    lower_list = [x.lower() for x in row[col]]\n",
    "    return lower_list"
   ]
  },
  {
   "cell_type": "code",
   "execution_count": 16,
   "metadata": {
    "collapsed": true
   },
   "outputs": [],
   "source": [
    "hockey1['hastags'] = hockey1.apply(lower_hash, axis=1, col='hastags')\n",
    "hockey1['rt_hastags'] = hockey1.apply(lower_hash, axis=1, col='rt_hastags')\n",
    "hockey1['qt_hastags'] = hockey1.apply(lower_hash, axis=1, col='qt_hastags')\n",
    "hockey1['qtrt_hastags'] = hockey1.apply(lower_hash, axis=1, col='qtrt_hastags')\n",
    "hockey1['ex_hastags'] = hockey1.apply(lower_hash, axis=1, col='ex_hastags')\n",
    "hockey1['exrt_hastags'] = hockey1.apply(lower_hash, axis=1, col='exrt_hastags')\n",
    "hockey1['exqt_hastags'] = hockey1.apply(lower_hash, axis=1, col='exqt_hastags')\n",
    "hockey1['exqtrt_hastags'] = hockey1.apply(lower_hash, axis=1, col='exqtrt_hastags')\n",
    "\n",
    "hockey1['mentions'] = hockey1.apply(lower_hash, axis=1, col='mentions')\n",
    "hockey1['ex_mentions'] = hockey1.apply(lower_hash, axis=1, col='ex_mentions')\n",
    "hockey1['rt_mentions'] = hockey1.apply(lower_hash, axis=1, col='rt_mentions')\n",
    "hockey1['qt_mentions'] = hockey1.apply(lower_hash, axis=1, col='qt_mentions')\n",
    "hockey1['rtqt_mentions'] = hockey1.apply(lower_hash, axis=1, col='rtqt_mentions')\n",
    "hockey1['exrt_mentions'] = hockey1.apply(lower_hash, axis=1, col='exrt_mentions')\n",
    "hockey1['exqt_mentions'] = hockey1.apply(lower_hash, axis=1, col='exqt_mentions')\n",
    "hockey1['exrtqt_mentions'] = hockey1.apply(lower_hash, axis=1, col='exrtqt_mentions')"
   ]
  },
  {
   "cell_type": "code",
   "execution_count": 17,
   "metadata": {
    "collapsed": true
   },
   "outputs": [],
   "source": [
    "hockey1['text'] = hockey1['text'].str.lower()\n",
    "hockey1['extended_tweet.full_text'] = hockey1['extended_tweet.full_text'].str.lower()\n",
    "hockey1['quoted_status.text'] = hockey1['quoted_status.text'].str.lower()\n",
    "hockey1['quoted_status.extended_tweet.full_text'] = hockey1['quoted_status.extended_tweet.full_text'].str.lower()\n",
    "hockey1['retweeted_status.extended_tweet.full_text'] = hockey1['retweeted_status.extended_tweet.full_text'].str.lower()\n",
    "hockey1['retweeted_status.text'] = hockey1['retweeted_status.text'].str.lower()\n",
    "hockey1['retweeted_status.quoted_status.extended_tweet.full_text'] = hockey1['retweeted_status.quoted_status.extended_tweet.full_text'].str.lower()\n",
    "hockey1['retweeted_status.quoted_status.text'] = hockey1['retweeted_status.quoted_status.text'].str.lower()"
   ]
  },
  {
   "cell_type": "code",
   "execution_count": 18,
   "metadata": {
    "collapsed": true
   },
   "outputs": [],
   "source": [
    "def determine_team(row):\n",
    "    team = set()\n",
    "    if (row['user.screen_name'] == 'adamzherman') | (row['user.screen_name'] == 'hockeystatminer') | (row['user.screen_name'] == 'vallysview') | (row['user.screen_name'] == 'tomurtzjr') | (row['user.screen_name'] == 'blueseatblogs') | (row['user.screen_name'] == 'blueshirtbanter') | ('nyr' in row['hastags']) | ('nyr' in row['rt_hastags']) | ('nyr' in row['qt_hastags']) | ('nyr' in row['qtrt_hastags']) | (row['retweeted_status.user.screen_name'] == 'adamzherman') | (row['retweeted_status.user.screen_name'] == 'hockeystatminer') | (row['retweeted_status.user.screen_name'] == 'vallysview') | (row['retweeted_status.user.screen_name'] == 'tomurtzjr') | (row['retweeted_status.user.screen_name'] == 'blueseatblogs') | (row['retweeted_status.user.screen_name'] == 'nyrangers') | ('adamzherman' in row['mentions']) | ('hockeystatminer' in row['mentions']) | ('blueshirtbanter' in row['mentions']) | ('vallysview' in row['mentions']) | ('tomurtzjr' in row['mentions']) | ('blueseatblogs' in row['mentions']) | ('nyrangers' in row['mentions']) | (row['in_reply_to_screen_name'] == 'adamzherman') | (row['in_reply_to_screen_name'] == 'hockeystatminer') | (row['in_reply_to_screen_name'] == 'vallysview') | (row['in_reply_to_screen_name'] == 'tomurtzjr') | (row['in_reply_to_screen_name'] == 'blueseatblogs') | (row['in_reply_to_screen_name'] == 'blueshirtbanter') | (row['in_reply_to_screen_name'] == 'nyrangers') | (row['retweeted_status.in_reply_to_screen_name'] == 'adamzherman') | (row['retweeted_status.in_reply_to_screen_name'] == 'hockeystatminer') | (row['retweeted_status.in_reply_to_screen_name'] == 'vallysview') | (row['retweeted_status.in_reply_to_screen_name'] == 'tomurtzjr') | (row['retweeted_status.in_reply_to_screen_name'] == 'blueseatblogs') | (row['retweeted_status.in_reply_to_screen_name'] == 'nyrangers') | (row['retweeted_status.in_reply_to_screen_name'] == 'nblueshirtbanter') | (row['quoted_status.user.screen_name'] == 'adamzherman') | (row['quoted_status.user.screen_name'] == 'hockeystatminer') | (row['quoted_status.user.screen_name'] == 'vallysview') | (row['quoted_status.user.screen_name'] == 'tomurtzjr') | (row['quoted_status.user.screen_name'] == 'blueseatblogs') | (row['quoted_status.user.screen_name'] == 'nyrangers') | (row['quoted_status.user.screen_name'] == 'blueshirtbanter') | (row['quoted_status.in_reply_to_screen_name'] == 'adamzherman') | (row['quoted_status.in_reply_to_screen_name'] == 'hockeystatminer') | (row['quoted_status.in_reply_to_screen_name'] == 'vallysview') | (row['quoted_status.in_reply_to_screen_name'] == 'tomurtzjr') | (row['quoted_status.in_reply_to_screen_name'] == 'blueseatblogs') | (row['quoted_status.in_reply_to_screen_name'] == 'nyrangers') | (row['quoted_status.in_reply_to_screen_name'] == 'blueshirtbanter') | (row['retweeted_status.quoted_status.in_reply_to_screen_name'] == 'adamzherman') | (row['retweeted_status.quoted_status.in_reply_to_screen_name'] == 'hockeystatminer') | (row['retweeted_status.quoted_status.in_reply_to_screen_name'] == 'vallysview') | (row['retweeted_status.quoted_status.in_reply_to_screen_name'] == 'tomurtzjr') | (row['retweeted_status.quoted_status.in_reply_to_screen_name'] == 'blueseatblogs') | (row['retweeted_status.quoted_status.in_reply_to_screen_name'] == 'nyrangers') | (row['retweeted_status.quoted_status.in_reply_to_screen_name'] == 'blueshirtbanter') | ('nyr' in row['ex_hastags']) | ('nyr' in row['exrt_hastags']) | ('nyr' in row['exqt_hastags']) | ('nyr' in row['exqtrt_hastags']) | ('adamzherman' in row['ex_mentions']) | ('hockeystatminer' in row['ex_mentions']) | ('blueshirtbanter' in row['ex_mentions']) | ('vallysview' in row['ex_mentions']) | ('tomurtzjr' in row['ex_mentions']) | ('blueseatblogs' in row['ex_mentions']) | ('nyrangers' in row['ex_mentions']) | ('adamzherman' in row['rt_mentions']) | ('hockeystatminer' in row['rt_mentions']) | ('blueshirtbanter' in row['rt_mentions']) | ('vallysview' in row['rt_mentions']) | ('tomurtzjr' in row['rt_mentions']) | ('blueseatblogs' in row['rt_mentions']) | ('nyrangers' in row['rt_mentions']) | ('adamzherman' in row['qt_mentions']) | ('hockeystatminer' in row['qt_mentions']) | ('blueshirtbanter' in row['qt_mentions']) | ('vallysview' in row['qt_mentions']) | ('tomurtzjr' in row['qt_mentions']) | ('blueseatblogs' in row['qt_mentions']) | ('nyrangers' in row['qt_mentions']) | ('adamzherman' in row['rtqt_mentions']) | ('hockeystatminer' in row['rtqt_mentions']) | ('blueshirtbanter' in row['rtqt_mentions']) | ('vallysview' in row['rtqt_mentions']) | ('tomurtzjr' in row['rtqt_mentions']) | ('blueseatblogs' in row['rtqt_mentions']) | ('nyrangers' in row['rtqt_mentions']) | ('adamzherman' in row['exrt_mentions']) | ('hockeystatminer' in row['exrt_mentions']) | ('blueshirtbanter' in row['exrt_mentions']) | ('vallysview' in row['exrt_mentions']) | ('tomurtzjr' in row['exrt_mentions']) | ('blueseatblogs' in row['exrt_mentions']) | ('nyrangers' in row['exrt_mentions']) | ('adamzherman' in row['exqt_mentions']) | ('hockeystatminer' in row['exqt_mentions']) | ('blueshirtbanter' in row['exqt_mentions']) | ('vallysview' in row['exqt_mentions']) | ('tomurtzjr' in row['exqt_mentions']) | ('blueseatblogs' in row['exqt_mentions']) | ('nyrangers' in row['exqt_mentions']) | ('adamzherman' in row['exrtqt_mentions']) | ('hockeystatminer' in row['exrtqt_mentions']) | ('blueshirtbanter' in row['exrtqt_mentions']) | ('vallysview' in row['exrtqt_mentions']) | ('tomurtzjr' in row['exrtqt_mentions']) | ('blueseatblogs' in row['exrtqt_mentions']) | ('nyrangers' in row['rtqt_mentions']):\n",
    "        \n",
    "        team.add('nyr')    \n",
    "        \n",
    "    if (row['user.screen_name'] =='pucksofafeather') | (row['user.screen_name'] =='anaheimcalling') | ('ducks' in row['hastags']) | ('ducks' in row['rt_hastags']) | ('ducks' in row['qt_hastags']) | ('ducks' in row['qtrt_hastags']) | (row['retweeted_status.user.screen_name'] =='pucksofafeather') | (row['retweeted_status.user.screen_name'] =='anaheimcalling') | (row['retweeted_status.user.screen_name'] =='anaheimducks') | ('pucksofafeather' in row['mentions']) | ('anaheimcalling' in row['mentions']) | ('anaheimducks' in row['mentions']) | (row['in_reply_to_screen_name'] =='pucksofafeather') | (row['in_reply_to_screen_name'] =='anaheimcalling') | (row['in_reply_to_screen_name'] =='anaheimducks') | (row['retweeted_status.in_reply_to_screen_name'] =='pucksofafeather') | (row['retweeted_status.in_reply_to_screen_name'] =='anaheimcalling') | (row['retweeted_status.in_reply_to_screen_name'] =='anaheimducks') | (row['quoted_status.user.screen_name'] =='pucksofafeather') | (row['quoted_status.user.screen_name'] =='anaheimcalling') | (row['quoted_status.user.screen_name'] =='anaheimducks') | (row['quoted_status.in_reply_to_screen_name'] =='pucksofafeather') | (row['quoted_status.in_reply_to_screen_name'] =='anaheimcalling') | (row['quoted_status.in_reply_to_screen_name'] =='anaheimducks') | (row['retweeted_status.quoted_status.in_reply_to_screen_name'] =='pucksofafeather') | (row['retweeted_status.quoted_status.in_reply_to_screen_name'] =='anaheimcalling') | (row['retweeted_status.quoted_status.in_reply_to_screen_name'] =='anaheimducks') | ('ducks' in row['ex_hastags']) | ('ducks' in row['exrt_hastags']) | ('ducks' in row['exqt_hastags']) | ('ducks' in row['exqtrt_hastags']) |('pucksofafeather' in row['ex_mentions']) | ('anaheimcalling' in row['ex_mentions']) | ('anaheimducks' in row['ex_mentions']) | ('pucksofafeather' in row['rt_mentions']) | ('anaheimcalling' in row['rt_mentions']) | ('anaheimducks' in row['rt_mentions']) | ('pucksofafeather' in row['qt_mentions']) | ('anaheimcalling' in row['qt_mentions']) | ('anaheimducks' in row['qt_mentions']) | ('pucksofafeather' in row['rtqt_mentions']) | ('anaheimcalling' in row['rtqt_mentions']) | ('anaheimducks' in row['rtqt_mentions']) | ('pucksofafeather' in row['exrt_mentions']) | ('anaheimcalling' in row['exrt_mentions']) | ('anaheimducks' in row['exrt_mentions']) | ('pucksofafeather' in row['exqt_mentions']) | ('anaheimcalling' in row['exqt_mentions']) | ('anaheimducks' in row['exqt_mentions']) | ('pucksofafeather' in row['exrtqt_mentions']) | ('anaheimcalling' in row['exrtqt_mentions']) | ('anaheimducks' in row['exrtqt_mentions']):\n",
    "        \n",
    "        team.add('ducks') \n",
    "    \n",
    "    if (row['user.screen_name'] =='howlinhockey') | (row['user.screen_name'] =='five4howling') | ('yotes' in row['hastags']) | ('yotes' in row['rt_hastags']) | ('yotes' in row['qt_hastags']) | ('yotes' in row['qtrt_hastags']) | (row['retweeted_status.user.screen_name'] =='howlinhockey') | (row['retweeted_status.user.screen_name'] =='five4howling') | (row['retweeted_status.user.screen_name'] =='arizonacoyotes') | ('howlinhockey' in row['mentions']) | ('five4howling' in row['mentions']) | ('arizonacoyotes' in row['mentions']) | (row['in_reply_to_screen_name'] =='howlinhockey') | (row['in_reply_to_screen_name'] =='five4howling') | (row['in_reply_to_screen_name'] =='arizonacoyotes') | (row['retweeted_status.in_reply_to_screen_name'] =='howlinhockey') | (row['retweeted_status.in_reply_to_screen_name'] =='five4howling') | (row['retweeted_status.in_reply_to_screen_name'] =='arizonacoyotes') | (row['quoted_status.user.screen_name'] =='howlinhockey') | (row['quoted_status.user.screen_name'] =='five4howling') | (row['quoted_status.user.screen_name'] =='arizonacoyotes') | (row['quoted_status.in_reply_to_screen_name'] =='howlinhockey') | (row['quoted_status.in_reply_to_screen_name'] =='five4howling') | (row['quoted_status.in_reply_to_screen_name'] =='arizonacoyotes') | (row['retweeted_status.quoted_status.in_reply_to_screen_name'] =='howlinhockey') | (row['retweeted_status.quoted_status.in_reply_to_screen_name'] =='five4howling') | (row['retweeted_status.quoted_status.in_reply_to_screen_name'] =='arizonacoyotes') | ('yotes' in row['ex_hastags']) | ('yotes' in row['exrt_hastags']) | ('yotes' in row['exqt_hastags']) | ('yotes' in row['exqtrt_hastags']) | ('howlinhockey' in row['ex_mentions']) | ('five4howling' in row['ex_mentions']) | ('arizonacoyotes' in row['ex_mentions']) | ('howlinhockey' in row['rt_mentions']) | ('five4howling' in row['rt_mentions']) | ('arizonacoyotes' in row['rt_mentions']) | ('howlinhockey' in row['qt_mentions']) | ('five4howling' in row['qt_mentions']) | ('arizonacoyotes' in row['qt_mentions']) | ('howlinhockey' in row['rtqt_mentions']) | ('five4howling' in row['rtqt_mentions']) | ('arizonacoyotes' in row['rtqt_mentions']) | ('howlinhockey' in row['exrt_mentions']) | ('five4howling' in row['exrt_mentions']) | ('arizonacoyotes' in row['exrt_mentions']) | ('howlinhockey' in row['exqt_mentions']) | ('five4howling' in row['exqt_mentions']) | ('arizonacoyotes' in row['exqt_mentions']) | ('howlinhockey' in row['exrtqt_mentions']) | ('five4howling' in row['exrtqt_mentions']) | ('arizonacoyotes' in row['exrtqt_mentions']):\n",
    "        \n",
    "        team.add('yotes')\n",
    "        \n",
    "    if (row['user.screen_name'] =='daysofyorr') | (row['user.screen_name'] =='causeway_crowd') | (row['user.screen_name'] =='cupofchowdah') | ('bruins' in row['hastags']) | ('bruins' in row['rt_hastags']) | ('bruins' in row['qt_hastags']) | ('bruins' in row['qtrt_hastags']) | (row['retweeted_status.user.screen_name'] =='daysofyorr') | (row['retweeted_status.user.screen_name'] =='causeway_crowd') | (row['retweeted_status.user.screen_name'] =='cupofchowdah') | (row['retweeted_status.user.screen_name'] =='nhlbruins') | ('daysofyorr' in row['mentions'] ) | ('causeway_crowd' in row['mentions']) | ('cupofchowdah' in row['mentions']) | ('nhlbruins' in row['mentions']) | (row['in_reply_to_screen_name'] =='daysofyorr') | (row['in_reply_to_screen_name'] =='causeway_crowd') | (row['in_reply_to_screen_name'] =='cupofchowdah') | (row['in_reply_to_screen_name'] =='nhlbruins') | (row['retweeted_status.in_reply_to_screen_name'] =='daysofyorr') | (row['retweeted_status.in_reply_to_screen_name'] =='causeway_crowd') | (row['retweeted_status.in_reply_to_screen_name'] =='cupofchowdah') | (row['retweeted_status.in_reply_to_screen_name'] =='nhlbruins') | (row['quoted_status.user.screen_name'] =='daysofyorr') | (row['quoted_status.user.screen_name'] =='causeway_crowd') | (row['quoted_status.user.screen_name'] =='cupofchowdah') | (row['quoted_status.user.screen_name'] =='nhlbruins') | (row['quoted_status.in_reply_to_screen_name'] =='daysofyorr') | (row['quoted_status.in_reply_to_screen_name'] =='causeway_crowd') | (row['quoted_status.in_reply_to_screen_name'] =='cupofchowdah') | (row['quoted_status.in_reply_to_screen_name'] =='nhlbruins') | (row['retweeted_status.quoted_status.in_reply_to_screen_name'] =='daysofyorr') | (row['retweeted_status.quoted_status.in_reply_to_screen_name'] =='causeway_crowd') | (row['retweeted_status.quoted_status.in_reply_to_screen_name'] =='cupofchowdah') | (row['retweeted_status.quoted_status.in_reply_to_screen_name'] =='nhlbruins') | ('bruins' in row['ex_hastags']) | ('bruins' in row['exrt_hastags']) | ('bruins' in row['exqt_hastags']) | ('bruins' in row['exqtrt_hastags']) | ('daysofyorr' in row['ex_mentions'] ) | ('causeway_crowd' in row['ex_mentions']) | ('cupofchowdah' in row['ex_mentions']) | ('nhlbruins' in row['ex_mentions']) | ('daysofyorr' in row['rt_mentions'] ) | ('causeway_crowd' in row['rt_mentions']) | ('cupofchowdah' in row['rt_mentions']) | ('nhlbruins' in row['rt_mentions']) | ('daysofyorr' in row['qt_mentions'] ) | ('causeway_crowd' in row['qt_mentions']) | ('cupofchowdah' in row['qt_mentions']) | ('nhlbruins' in row['qt_mentions']) | ('daysofyorr' in row['rtqt_mentions'] ) | ('causeway_crowd' in row['rtqt_mentions']) | ('cupofchowdah' in row['rtqt_mentions']) | ('nhlbruins' in row['rtqt_mentions']) | ('daysofyorr' in row['exrt_mentions'] ) | ('causeway_crowd' in row['exrt_mentions']) | ('cupofchowdah' in row['exrt_mentions']) | ('nhlbruins' in row['exrt_mentions']) | ('daysofyorr' in row['exqt_mentions'] ) | ('causeway_crowd' in row['exqt_mentions']) | ('cupofchowdah' in row['exqt_mentions']) | ('nhlbruins' in row['exqt_mentions']) | ('daysofyorr' in row['exrtqt_mentions'] ) | ('causeway_crowd' in row['exrtqt_mentions']) | ('cupofchowdah' in row['exrtqt_mentions']) | ('nhlbruins' in row['exrtqt_mentions']):\n",
    "        \n",
    "        team.add('bruins')\n",
    "        \n",
    "    if (row['user.screen_name'] =='sabrenoise') | (row['user.screen_name'] =='diebytheblade') | ('sabres' in row['hastags']) | ('sabres' in row['rt_hastags']) | ('sabres' in row['qt_hastags']) | ('sabres' in row['qtrt_hastags']) | (row['retweeted_status.user.screen_name'] =='sabrenoise') | (row['retweeted_status.user.screen_name'] =='diebytheblade') | (row['retweeted_status.user.screen_name'] =='buffalosabres') | ('sabrenoise' in row['mentions']) | ('diebytheblade' in row['mentions']) | ('buffalosabres' in row['mentions']) | (row['in_reply_to_screen_name'] =='sabrenoise') | (row['in_reply_to_screen_name'] =='diebytheblade') | (row['in_reply_to_screen_name'] =='buffalosabres') | (row['retweeted_status.in_reply_to_screen_name'] =='sabrenoise') | (row['retweeted_status.in_reply_to_screen_name'] =='diebytheblade') | (row['retweeted_status.in_reply_to_screen_name'] =='buffalosabres') | (row['quoted_status.user.screen_name'] =='sabrenoise') | (row['quoted_status.user.screen_name'] =='diebytheblade') | (row['quoted_status.user.screen_name'] =='buffalosabres') | (row['quoted_status.in_reply_to_screen_name'] =='sabrenoise') | (row['quoted_status.in_reply_to_screen_name'] =='diebytheblade') | (row['quoted_status.in_reply_to_screen_name'] =='buffalosabres') | (row['retweeted_status.quoted_status.in_reply_to_screen_name'] =='sabrenoise') | (row['retweeted_status.quoted_status.in_reply_to_screen_name'] =='diebytheblade') | (row['retweeted_status.quoted_status.in_reply_to_screen_name'] =='buffalosabres') | ('sabres' in row['ex_hastags']) | ('sabres' in row['exrt_hastags']) | ('sabres' in row['exqt_hastags']) | ('sabres' in row['exqtrt_hastags']) |  ('sabrenoise' in row['ex_mentions']) | ('diebytheblade' in row['ex_mentions']) | ('buffalosabres' in row['ex_mentions']) | ('sabrenoise' in row['rt_mentions']) | ('diebytheblade' in row['rt_mentions']) | ('buffalosabres' in row['rt_mentions']) | ('sabrenoise' in row['qt_mentions']) | ('diebytheblade' in row['qt_mentions']) | ('buffalosabres' in row['qt_mentions']) | ('sabrenoise' in row['rtqt_mentions']) | ('diebytheblade' in row['rtqt_mentions']) | ('buffalosabres' in row['rtqt_mentions']) | ('sabrenoise' in row['exrt_mentions']) | ('diebytheblade' in row['exrt_mentions']) | ('buffalosabres' in row['exrt_mentions']) |('sabrenoise' in row['exqt_mentions']) | ('diebytheblade' in row['exqt_mentions']) | ('buffalosabres' in row['exqt_mentions']) | ('sabrenoise' in row['exrtqt_mentions']) | ('diebytheblade' in row['exrtqt_mentions']) | ('buffalosabres' in row['exrtqt_mentions']):\n",
    "        \n",
    "        team.add('sabres')\n",
    "        \n",
    "    if (row['user.screen_name'] =='flame_4_thought') | (row['user.screen_name'] =='matchstickscgy') | (row['user.screen_name'] =='flamesnation') | ('flames' in row['hastags']) | ('flames' in row['rt_hastags']) | ('flames' in row['qt_hastags']) | ('flames' in row['qtrt_hastags']) | (row['retweeted_status.user.screen_name'] =='flame_4_thought') | (row['retweeted_status.user.screen_name'] =='matchstickscgy') | (row['retweeted_status.user.screen_name'] =='flamesnation') | (row['retweeted_status.user.screen_name'] =='nhlflames') | ('flame_4_thought' in row['mentions']) | ('matchstickscgy' in row['mentions']) | ('flamesnation' in row['mentions']) | ('nhlflames' in row['mentions']) | (row['in_reply_to_screen_name'] =='flame_4_thought') | (row['in_reply_to_screen_name'] =='matchstickscgy') | (row['in_reply_to_screen_name'] =='flamesnation') | (row['in_reply_to_screen_name'] =='nhlflames') | (row['retweeted_status.in_reply_to_screen_name'] =='flame_4_thought') | (row['retweeted_status.in_reply_to_screen_name'] =='matchstickscgy') | (row['retweeted_status.in_reply_to_screen_name'] =='flamesnation') | (row['retweeted_status.in_reply_to_screen_name'] =='nhlflames') | (row['quoted_status.user.screen_name'] =='flame_4_thought') | (row['quoted_status.user.screen_name'] =='matchstickscgy') | (row['quoted_status.user.screen_name'] =='flamesnation') | (row['quoted_status.user.screen_name'] =='nhlflames') | (row['quoted_status.in_reply_to_screen_name'] =='flame_4_thought') | (row['quoted_status.in_reply_to_screen_name'] =='matchstickscgy') | (row['quoted_status.in_reply_to_screen_name'] =='flamesnation') | (row['quoted_status.in_reply_to_screen_name'] =='nhlflames') | (row['retweeted_status.quoted_status.in_reply_to_screen_name'] =='flame_4_thought') | (row['retweeted_status.quoted_status.in_reply_to_screen_name'] =='matchstickscgy') | (row['retweeted_status.quoted_status.in_reply_to_screen_name'] =='flamesnation') | (row['retweeted_status.quoted_status.in_reply_to_screen_name'] =='nhlflames') | ('flames' in row['ex_hastags']) | ('flames' in row['exrt_hastags']) | ('flames' in row['exqt_hastags']) | ('flames' in row['exqtrt_hastags']) |('flame_4_thought' in row['ex_mentions']) | ('matchstickscgy' in row['ex_mentions']) | ('flamesnation' in row['ex_mentions']) | ('nhlflames' in row['ex_mentions']) | ('flame_4_thought' in row['rt_mentions']) | ('matchstickscgy' in row['rt_mentions']) | ('flamesnation' in row['rt_mentions']) | ('nhlflames' in row['rt_mentions']) | ('flame_4_thought' in row['qt_mentions']) | ('matchstickscgy' in row['qt_mentions']) | ('flamesnation' in row['qt_mentions']) | ('nhlflames' in row['qt_mentions']) | ('flame_4_thought' in row['rtqt_mentions']) | ('matchstickscgy' in row['rtqt_mentions']) | ('flamesnation' in row['rtqt_mentions']) | ('nhlflames' in row['rtqt_mentions']) | ('flame_4_thought' in row['exrt_mentions']) | ('matchstickscgy' in row['exrt_mentions']) | ('flamesnation' in row['exrt_mentions']) | ('nhlflames' in row['exrt_mentions']) | ('flame_4_thought' in row['exqt_mentions']) | ('matchstickscgy' in row['exqt_mentions']) | ('flamesnation' in row['exqt_mentions']) | ('nhlflames' in row['exqt_mentions']) | ('flame_4_thought' in row['exrtqt_mentions']) | ('matchstickscgy' in row['exrtqt_mentions']) | ('flamesnation' in row['exrtqt_mentions']) | ('nhlflames' in row['exrtqt_mentions']):\n",
    "        \n",
    "        team.add('flames')\n",
    "    \n",
    "    if (row['user.screen_name'] =='cardiaccane') | (row['user.screen_name'] =='canescountry') | ('canes' in row['hastags']) | ('canes' in row['rt_hastags']) | ('canes' in row['qt_hastags']) | ('canes' in row['qtrt_hastags']) | ('hurricanes' in row['hastags']) | ('hurricanes' in row['rt_hastags']) | ('hurricanes' in row['qt_hastags']) | ('hurricanes' in row['qtrt_hastags']) | (row['retweeted_status.user.screen_name'] =='cardiaccane') | (row['retweeted_status.user.screen_name'] =='canescountry') | (row['retweeted_status.user.screen_name'] =='nhlcanes') | ('cardiaccane' in row['mentions']) | ('canescountry' in row['mentions']) | ('nhlcanes' in row['mentions']) | (row['in_reply_to_screen_name'] =='cardiaccane') | (row['in_reply_to_screen_name'] =='canescountry') | (row['in_reply_to_screen_name'] =='nhlcanes') | (row['retweeted_status.in_reply_to_screen_name'] =='cardiaccane') | (row['retweeted_status.in_reply_to_screen_name'] =='canescountry') | (row['retweeted_status.in_reply_to_screen_name'] =='nhlcanes') | (row['quoted_status.user.screen_name'] =='cardiaccane') | (row['quoted_status.user.screen_name'] =='canescountry') | (row['quoted_status.user.screen_name'] =='nhlcanes') | (row['quoted_status.in_reply_to_screen_name'] =='cardiaccane') | (row['quoted_status.in_reply_to_screen_name'] =='canescountry') | (row['quoted_status.in_reply_to_screen_name'] =='nhlcanes') | (row['retweeted_status.quoted_status.in_reply_to_screen_name'] =='cardiaccane') | (row['retweeted_status.quoted_status.in_reply_to_screen_name'] =='canescountry') | (row['retweeted_status.quoted_status.in_reply_to_screen_name'] =='nhlcanes') | ('canes' in row['ex_hastags']) | ('canes' in row['exrt_hastags']) | ('canes' in row['exqt_hastags']) | ('canes' in row['exqtrt_hastags']) | ('hurricanes' in row['ex_hastags']) | ('hurricanes' in row['exrt_hastags']) | ('hurricanes' in row['exqt_hastags']) | ('hurricanes' in row['exqtrt_hastags']) | ('cardiaccane' in row['ex_mentions']) | ('canescountry' in row['ex_mentions']) | ('nhlcanes' in row['ex_mentions']) | ('cardiaccane' in row['rt_mentions']) | ('canescountry' in row['rt_mentions']) | ('nhlcanes' in row['rt_mentions']) | ('cardiaccane' in row['qt_mentions']) | ('canescountry' in row['qt_mentions']) | ('nhlcanes' in row['qt_mentions']) | ('cardiaccane' in row['rtqt_mentions']) | ('canescountry' in row['rtqt_mentions']) | ('nhlcanes' in row['rtqt_mentions']) | ('cardiaccane' in row['exrt_mentions']) | ('canescountry' in row['exrt_mentions']) | ('nhlcanes' in row['exrt_mentions']) | ('cardiaccane' in row['exqt_mentions']) | ('canescountry' in row['exqt_mentions']) | ('nhlcanes' in row['exqt_mentions']) | ('cardiaccane' in row['exrtqt_mentions']) | ('canescountry' in row['exrtqt_mentions']) | ('nhlcanes' in row['exrtqt_mentions']):\n",
    "        \n",
    "        team.add('canes')\n",
    "    \n",
    "    if (row['user.screen_name'] =='blackhawk_up') | (row['user.screen_name'] =='the1tab') | (row['user.screen_name'] =='2ndcityhockey') | ('blackhawks' in row['hastags']) | ('blackhawks' in row['rt_hastags']) | ('blackhawks' in row['qt_hastags']) | ('blackhawks' in row['qtrt_hastags']) | (row['retweeted_status.user.screen_name'] =='blackhawk_up') | (row['retweeted_status.user.screen_name'] =='the1tab') | (row['retweeted_status.user.screen_name'] =='2ndcityhockey') | (row['retweeted_status.user.screen_name'] =='nhlblackhawks') | ('blackhawk_up' in row['mentions']) | ('the1tab' in row['mentions']) | ('2ndcityhockey' in row['mentions']) | ('nhlblackhawks' in row['mentions']) | (row['in_reply_to_screen_name'] =='blackhawk_up') | (row['in_reply_to_screen_name'] =='the1tab') | (row['in_reply_to_screen_name'] =='2ndcityhockey') | (row['in_reply_to_screen_name'] =='nhlblackhawks') | (row['retweeted_status.in_reply_to_screen_name'] =='blackhawk_up') | (row['retweeted_status.in_reply_to_screen_name'] =='the1tab') | (row['retweeted_status.in_reply_to_screen_name'] =='2ndcityhockey') | (row['retweeted_status.in_reply_to_screen_name'] =='nhlblackhawks') | (row['quoted_status.user.screen_name'] =='blackhawk_up') | (row['quoted_status.user.screen_name'] =='the1tab') | (row['quoted_status.user.screen_name'] =='2ndcityhockey') | (row['quoted_status.user.screen_name'] =='nhlblackhawks') | (row['quoted_status.in_reply_to_screen_name'] =='blackhawk_up') | (row['quoted_status.in_reply_to_screen_name'] =='the1tab') | (row['quoted_status.in_reply_to_screen_name'] =='2ndcityhockey') | (row['quoted_status.in_reply_to_screen_name'] =='nhlblackhawks') | (row['retweeted_status.quoted_status.in_reply_to_screen_name'] =='blackhawk_up') | (row['retweeted_status.quoted_status.in_reply_to_screen_name'] =='the1tab') | (row['retweeted_status.quoted_status.in_reply_to_screen_name'] =='2ndcityhockey') | (row['retweeted_status.quoted_status.in_reply_to_screen_name'] =='nhlblackhawks') | ('blackhawks' in row['ex_hastags']) | ('blackhawks' in row['exrt_hastags']) | ('blackhawks' in row['exqt_hastags']) | ('blackhawks' in row['exqtrt_hastags']) | ('blackhawk_up' in row['ex_mentions']) | ('the1tab' in row['ex_mentions']) | ('2ndcityhockey' in row['ex_mentions']) | ('nhlblackhawks' in row['ex_mentions']) | ('blackhawk_up' in row['rt_mentions']) | ('the1tab' in row['rt_mentions']) | ('2ndcityhockey' in row['rt_mentions']) | ('nhlblackhawks' in row['rt_mentions']) | ('blackhawk_up' in row['qt_mentions']) | ('the1tab' in row['qt_mentions']) | ('2ndcityhockey' in row['qt_mentions']) | ('nhlblackhawks' in row['qt_mentions']) | ('blackhawk_up' in row['rtqt_mentions']) | ('the1tab' in row['rtqt_mentions']) | ('2ndcityhockey' in row['rtqt_mentions']) | ('nhlblackhawks' in row['rtqt_mentions']) | ('blackhawk_up' in row['exrt_mentions']) | ('the1tab' in row['exrt_mentions']) | ('2ndcityhockey' in row['exrt_mentions']) | ('nhlblackhawks' in row['exrt_mentions']) | ('blackhawk_up' in row['exqt_mentions']) | ('the1tab' in row['exqt_mentions']) | ('2ndcityhockey' in row['exqt_mentions']) | ('nhlblackhawks' in row['exqt_mentions']) | ('blackhawk_up' in row['exrtqt_mentions']) | ('the1tab' in row['exrtqt_mentions']) | ('2ndcityhockey' in row['exrtqt_mentions']) | ('nhlblackhawks' in row['exrtqt_mentions']):\n",
    "        \n",
    "        team.add('hawks')\n",
    "        \n",
    "    if (row['user.screen_name'] =='milehighhockey') | (row['user.screen_name'] =='mhsticking') | (row['user.screen_name'] =='brgbrigadekevin') | ('avs' in row['hastags']) | ('avs' in row['rt_hastags']) | ('avs' in row['qt_hastags']) | ('avs' in row['qtrt_hastags']) | ('goavsgo' in row['hastags']) | ('goavsgo' in row['rt_hastags']) | ('goavsgo' in row['qt_hastags']) | ('goavsgo' in row['qtrt_hastags']) | (row['retweeted_status.user.screen_name'] =='milehighhockey') | (row['retweeted_status.user.screen_name'] =='mhsticking') | (row['retweeted_status.user.screen_name'] =='brgbrigadekevin') | (row['retweeted_status.user.screen_name'] =='avalanche') | ('milehighhockey' in row['mentions']) | ('mhsticking' in row['mentions']) | ('brgbrigadekevin' in row['mentions']) | ('avalanche' in row['mentions']) | (row['in_reply_to_screen_name'] =='milehighhockey') | (row['in_reply_to_screen_name'] =='mhsticking') | (row['in_reply_to_screen_name'] =='brgbrigadekevin') | (row['in_reply_to_screen_name'] =='avalanche') | (row['retweeted_status.in_reply_to_screen_name'] =='milehighhockey') | (row['retweeted_status.in_reply_to_screen_name'] =='mhsticking') | (row['retweeted_status.in_reply_to_screen_name'] =='brgbrigadekevin') | (row['retweeted_status.in_reply_to_screen_name'] =='avalanche') | (row['quoted_status.user.screen_name'] =='milehighhockey') | (row['quoted_status.user.screen_name'] =='mhsticking') | (row['quoted_status.user.screen_name'] =='brgbrigadekevin') | (row['quoted_status.user.screen_name'] =='avalanche') | (row['quoted_status.in_reply_to_screen_name'] =='milehighhockey') | (row['quoted_status.in_reply_to_screen_name'] =='mhsticking') | (row['quoted_status.in_reply_to_screen_name'] =='brgbrigadekevin') | (row['quoted_status.in_reply_to_screen_name'] =='avalanche') | (row['retweeted_status.quoted_status.in_reply_to_screen_name'] =='milehighhockey') | (row['retweeted_status.quoted_status.in_reply_to_screen_name'] =='mhsticking') | (row['retweeted_status.quoted_status.in_reply_to_screen_name'] =='brgbrigadekevin') | (row['retweeted_status.quoted_status.in_reply_to_screen_name'] =='avalanche') | ('avs' in row['ex_hastags']) | ('avs' in row['exrt_hastags']) | ('avs' in row['exqt_hastags']) | ('avs' in row['exqtrt_hastags']) | ('goavsgo' in row['ex_hastags']) | ('goavsgo' in row['exrt_hastags']) | ('goavsgo' in row['exqt_hastags']) | ('goavsgo' in row['exqtrt_hastags']) | ('milehighhockey' in row['ex_mentions']) | ('mhsticking' in row['ex_mentions']) | ('brgbrigadekevin' in row['ex_mentions']) | ('avalanche' in row['ex_mentions']) | ('milehighhockey' in row['rt_mentions']) | ('mhsticking' in row['rt_mentions']) | ('brgbrigadekevin' in row['rt_mentions']) | ('avalanche' in row['rt_mentions']) | ('milehighhockey' in row['qt_mentions']) | ('mhsticking' in row['qt_mentions']) | ('brgbrigadekevin' in row['qt_mentions']) | ('avalanche' in row['qt_mentions']) | ('milehighhockey' in row['rtqt_mentions']) | ('mhsticking' in row['rtqt_mentions']) | ('brgbrigadekevin' in row['rtqt_mentions']) | ('avalanche' in row['rtqt_mentions']) | ('milehighhockey' in row['exrt_mentions']) | ('mhsticking' in row['exrt_mentions']) | ('brgbrigadekevin' in row['exrt_mentions']) | ('avalanche' in row['exrt_mentions']) | ('milehighhockey' in row['exqt_mentions']) | ('mhsticking' in row['exqt_mentions']) | ('brgbrigadekevin' in row['exqt_mentions']) | ('avalanche' in row['exqt_mentions']) | ('milehighhockey' in row['exrtqt_mentions']) | ('mhsticking' in row['exrtqt_mentions']) | ('brgbrigadekevin' in row['exrtqt_mentions']) | ('avalanche' in row['exrtqt_mentions']):\n",
    "        \n",
    "        team.add('avs')\n",
    "        \n",
    "    if (row['user.screen_name'] =='unionandblue') | (row['user.screen_name'] =='cbjcannon') | ('cbj' in row['hastags']) | ('cbj' in row['rt_hastags']) | ('cbj' in row['qt_hastags']) | ('cbj' in row['qtrt_hastags']) | (row['retweeted_status.user.screen_name'] =='unionandblue') | (row['retweeted_status.user.screen_name'] =='cbjcannon') | (row['retweeted_status.user.screen_name'] =='bluejacketsnhl') | ('unionandblue' in row['mentions']) | ('cbjcannon' in row['mentions']) | ('bluejacketsnhl' in row['mentions']) | (row['in_reply_to_screen_name'] =='unionandblue') | (row['in_reply_to_screen_name'] =='cbjcannon') | (row['in_reply_to_screen_name'] =='bluejacketsnhl') | (row['retweeted_status.in_reply_to_screen_name'] =='unionandblue') | (row['retweeted_status.in_reply_to_screen_name'] =='cbjcannon') | (row['retweeted_status.in_reply_to_screen_name'] =='bluejacketsnhl') | (row['quoted_status.user.screen_name'] =='unionandblue') | (row['quoted_status.user.screen_name'] =='cbjcannon') | (row['quoted_status.user.screen_name'] =='bluejacketsnhl') | (row['quoted_status.in_reply_to_screen_name'] =='unionandblue') | (row['quoted_status.in_reply_to_screen_name'] =='cbjcannon') | (row['quoted_status.in_reply_to_screen_name'] =='bluejacketsnhl') | (row['retweeted_status.quoted_status.in_reply_to_screen_name'] =='unionandblue') | (row['retweeted_status.quoted_status.in_reply_to_screen_name'] =='cbjcannon') | (row['retweeted_status.quoted_status.in_reply_to_screen_name'] =='bluejacketsnhl') | ('cbj' in row['ex_hastags']) | ('cbj' in row['exrt_hastags']) | ('cbj' in row['exqt_hastags']) | ('cbj' in row['exqtrt_hastags']) | ('unionandblue' in row['ex_mentions']) | ('cbjcannon' in row['ex_mentions']) | ('bluejacketsnhl' in row['ex_mentions']) | ('unionandblue' in row['rt_mentions']) | ('cbjcannon' in row['rt_mentions']) | ('bluejacketsnhl' in row['rt_mentions']) | ('unionandblue' in row['qt_mentions']) | ('cbjcannon' in row['qt_mentions']) | ('bluejacketsnhl' in row['qt_mentions']) |('unionandblue' in row['rtqt_mentions']) | ('cbjcannon' in row['rtqt_mentions']) | ('bluejacketsnhl' in row['rtqt_mentions']) | ('unionandblue' in row['exrt_mentions']) | ('cbjcannon' in row['exrt_mentions']) | ('bluejacketsnhl' in row['exrt_mentions']) | ('unionandblue' in row['exqt_mentions']) | ('cbjcannon' in row['exqt_mentions']) | ('bluejacketsnhl' in row['exqt_mentions']) |('unionandblue' in row['exrtqt_mentions']) | ('cbjcannon' in row['exrtqt_mentions']) | ('bluejacketsnhl' in row['exrtqt_mentions']):\n",
    "        \n",
    "        team.add('jackets')\n",
    "        \n",
    "    if (row['user.screen_name'] =='classlicity') | (row['user.screen_name'] =='starsinsideedge') | (row['user.screen_name'] =='blackoutdallas') | (row['user.screen_name'] =='defendingbigd') | ('gostars' in row['hastags']) | ('gostars' in row['rt_hastags']) | ('gostars' in row['qt_hastags']) | ('gostars' in row['qtrt_hastags']) | (row['retweeted_status.user.screen_name'] =='classlicity') | (row['retweeted_status.user.screen_name'] =='starsinsideedge') | (row['retweeted_status.user.screen_name'] =='blackoutdallas') | (row['retweeted_status.user.screen_name'] =='defendingbigd') | (row['retweeted_status.user.screen_name'] =='dallasstars') | ('classlicity' in row['mentions']) | ('starsinsideedge' in row['mentions']) | ('blackoutdallas' in row['mentions']) | ('defendingbigd' in row['mentions']) | ('dallasstars' in row['mentions']) | (row['in_reply_to_screen_name'] =='classlicity') | (row['in_reply_to_screen_name'] =='starsinsideedge') | (row['in_reply_to_screen_name'] =='blackoutdallas') | (row['in_reply_to_screen_name'] =='defendingbigd') | (row['in_reply_to_screen_name'] =='dallasstars') | (row['retweeted_status.in_reply_to_screen_name'] =='classlicity') | (row['retweeted_status.in_reply_to_screen_name'] =='starsinsideedge') | (row['retweeted_status.in_reply_to_screen_name'] =='blackoutdallas') | (row['retweeted_status.in_reply_to_screen_name'] =='defendingbigd') | (row['retweeted_status.in_reply_to_screen_name'] =='dallasstars') | (row['quoted_status.user.screen_name'] =='classlicity') | (row['quoted_status.user.screen_name'] =='starsinsideedge') | (row['quoted_status.user.screen_name'] =='blackoutdallas') | (row['quoted_status.user.screen_name'] =='defendingbigd') | (row['quoted_status.user.screen_name'] =='dallasstars') | (row['quoted_status.in_reply_to_screen_name'] =='classlicity') | (row['quoted_status.in_reply_to_screen_name'] =='starsinsideedge') | (row['quoted_status.in_reply_to_screen_name'] =='blackoutdallas') | (row['quoted_status.in_reply_to_screen_name'] =='defendingbigd') | (row['quoted_status.in_reply_to_screen_name'] =='dallasstars') | (row['retweeted_status.quoted_status.in_reply_to_screen_name'] =='classlicity') | (row['retweeted_status.quoted_status.in_reply_to_screen_name'] =='starsinsideedge') | (row['retweeted_status.quoted_status.in_reply_to_screen_name'] =='blackoutdallas') | (row['retweeted_status.quoted_status.in_reply_to_screen_name'] =='defendingbigd') | (row['retweeted_status.quoted_status.in_reply_to_screen_name'] =='dallasstars') | ('gostars' in row['ex_hastags']) | ('gostars' in row['exrt_hastags']) | ('gostars' in row['exqt_hastags']) | ('gostars' in row['exqtrt_hastags']) | ('classlicity' in row['ex_mentions']) | ('starsinsideedge' in row['ex_mentions']) | ('blackoutdallas' in row['ex_mentions']) | ('defendingbigd' in row['ex_mentions']) | ('dallasstars' in row['ex_mentions']) | ('classlicity' in row['rt_mentions']) | ('starsinsideedge' in row['rt_mentions']) | ('blackoutdallas' in row['rt_mentions']) | ('defendingbigd' in row['rt_mentions']) | ('dallasstars' in row['rt_mentions']) | ('classlicity' in row['qt_mentions']) | ('starsinsideedge' in row['qt_mentions']) | ('blackoutdallas' in row['qt_mentions']) | ('defendingbigd' in row['qt_mentions']) | ('dallasstars' in row['qt_mentions']) | ('classlicity' in row['rtqt_mentions']) | ('starsinsideedge' in row['rtqt_mentions']) | ('blackoutdallas' in row['rtqt_mentions']) | ('defendingbigd' in row['rtqt_mentions']) | ('dallasstars' in row['rtqt_mentions']) | ('classlicity' in row['exrt_mentions']) | ('starsinsideedge' in row['exrt_mentions']) | ('blackoutdallas' in row['exrt_mentions']) | ('defendingbigd' in row['exrt_mentions']) | ('dallasstars' in row['exrt_mentions']) | ('classlicity' in row['exqt_mentions']) | ('starsinsideedge' in row['exqt_mentions']) | ('blackoutdallas' in row['exqt_mentions']) | ('defendingbigd' in row['exqt_mentions']) | ('dallasstars' in row['exqt_mentions']) | ('classlicity' in row['exrtqt_mentions']) | ('starsinsideedge' in row['exrtqt_mentions']) | ('blackoutdallas' in row['exrtqt_mentions']) | ('defendingbigd' in row['exrtqt_mentions']) | ('dallasstars' in row['exrtqt_mentions']):\n",
    "        \n",
    "        team.add('stars')\n",
    "        \n",
    "    if (row['user.screen_name'] =='octopusthrower_') | (row['user.screen_name'] =='wingingitmotown') | ('wings' in row['hastags']) | ('wings' in row['rt_hastags']) | ('wings' in row['qt_hastags']) | ('wings' in row['qtrt_hastags']) | ('lgrw' in row['hastags']) | ('lgrw' in row['rt_hastags']) | ('lgrw' in row['qt_hastags']) | ('lgrw' in row['qtrt_hastags']) | (row['retweeted_status.user.screen_name'] =='octopusthrower_') | (row['retweeted_status.user.screen_name'] =='wingingitmotown') | (row['retweeted_status.user.screen_name'] =='detroitredwings') | ('octopusthrower_' in row['mentions']) | ('wingingitmotown' in row['mentions']) | ('detroitredwings' in row['mentions']) | (row['in_reply_to_screen_name'] =='octopusthrower_') | (row['in_reply_to_screen_name'] =='wingingitmotown') | (row['in_reply_to_screen_name'] =='detroitredwings') | (row['retweeted_status.in_reply_to_screen_name'] =='octopusthrower_') | (row['retweeted_status.in_reply_to_screen_name'] =='wingingitmotown') | (row['retweeted_status.in_reply_to_screen_name'] =='detroitredwings') | (row['quoted_status.user.screen_name'] =='octopusthrower_') | (row['quoted_status.user.screen_name'] =='wingingitmotown') | (row['quoted_status.user.screen_name'] =='detroitredwings') | (row['quoted_status.in_reply_to_screen_name'] =='octopusthrower_') | (row['quoted_status.in_reply_to_screen_name'] =='wingingitmotown') | (row['quoted_status.in_reply_to_screen_name'] =='detroitredwings') | (row['retweeted_status.quoted_status.in_reply_to_screen_name'] =='octopusthrower_') | (row['retweeted_status.quoted_status.in_reply_to_screen_name'] =='wingingitmotown') | (row['retweeted_status.quoted_status.in_reply_to_screen_name'] =='detroitredwings') | ('wings' in row['ex_hastags']) | ('wings' in row['exrt_hastags']) | ('wings' in row['exqt_hastags']) | ('wings' in row['exqtrt_hastags']) | ('lgrw' in row['ex_hastags']) | ('lgrw' in row['exrt_hastags']) | ('lgrw' in row['exqt_hastags']) | ('lgrw' in row['exqtrt_hastags']) | ('octopusthrower_' in row['ex_mentions']) | ('wingingitmotown' in row['ex_mentions']) | ('detroitredwings' in row['ex_mentions']) |('octopusthrower_' in row['rt_mentions']) | ('wingingitmotown' in row['rt_mentions']) | ('detroitredwings' in row['rt_mentions']) | ('octopusthrower_' in row['qt_mentions']) | ('wingingitmotown' in row['qt_mentions']) | ('detroitredwings' in row['qt_mentions']) | ('octopusthrower_' in row['rtqt_mentions']) | ('wingingitmotown' in row['rtqt_mentions']) | ('detroitredwings' in row['rtqt_mentions']) | ('octopusthrower_' in row['exrt_mentions']) | ('wingingitmotown' in row['exrt_mentions']) | ('detroitredwings' in row['exrt_mentions']) | ('octopusthrower_' in row['exqt_mentions']) | ('wingingitmotown' in row['exqt_mentions']) | ('detroitredwings' in row['exqt_mentions']) | ('octopusthrower_' in row['exrtqt_mentions']) | ('wingingitmotown' in row['exrtqt_mentions']) | ('detroitredwings' in row['exrtqt_mentions']):\n",
    "        \n",
    "        team.add('wings')\n",
    "        \n",
    "    if (row['user.screen_name'] =='copperandblue') | (row['user.screen_name'] =='oilersnation') | ('letsgooilers' in row['hastags']) | ('letsgooilers' in row['rt_hastags']) | ('letsgooilers' in row['qt_hastags']) | ('letsgooilers' in row['qtrt_hastags']) | (row['retweeted_status.user.screen_name'] =='copperandblue') | (row['retweeted_status.user.screen_name'] =='oilersnation') | (row['retweeted_status.user.screen_name'] =='edmontonoilers') | ('copperandblue' in row['mentions']) | ('oilersnation' in row['mentions']) | ('edmontonoilers' in row['mentions']) | (row['in_reply_to_screen_name'] =='copperandblue') | (row['in_reply_to_screen_name'] =='oilersnation') | (row['in_reply_to_screen_name'] =='edmontonoilers') | (row['retweeted_status.in_reply_to_screen_name'] =='copperandblue') | (row['retweeted_status.in_reply_to_screen_name'] =='oilersnation') | (row['retweeted_status.in_reply_to_screen_name'] =='edmontonoilers') | (row['quoted_status.user.screen_name'] =='copperandblue') | (row['quoted_status.user.screen_name'] =='oilersnation') | (row['quoted_status.user.screen_name'] =='edmontonoilers') | (row['quoted_status.in_reply_to_screen_name'] =='copperandblue') | (row['quoted_status.in_reply_to_screen_name'] =='oilersnation') | (row['quoted_status.in_reply_to_screen_name'] =='edmontonoilers') | (row['retweeted_status.quoted_status.in_reply_to_screen_name'] =='copperandblue') | (row['retweeted_status.quoted_status.in_reply_to_screen_name'] =='oilersnation') | (row['retweeted_status.quoted_status.in_reply_to_screen_name'] =='edmontonoilers') | ('letsgooilers' in row['ex_hastags']) | ('letsgooilers' in row['exrt_hastags']) | ('letsgooilers' in row['exqt_hastags']) | ('letsgooilers' in row['exqtrt_hastags']) | ('copperandblue' in row['ex_mentions']) | ('oilersnation' in row['ex_mentions']) | ('edmontonoilers' in row['ex_mentions']) | ('copperandblue' in row['rt_mentions']) | ('oilersnation' in row['rt_mentions']) | ('edmontonoilers' in row['rt_mentions']) | ('copperandblue' in row['qt_mentions']) | ('oilersnation' in row['qt_mentions']) | ('edmontonoilers' in row['qt_mentions']) | ('copperandblue' in row['rtqt_mentions']) | ('oilersnation' in row['rtqt_mentions']) | ('edmontonoilers' in row['rtqt_mentions']) | ('copperandblue' in row['exrt_mentions']) | ('oilersnation' in row['exrt_mentions']) | ('edmontonoilers' in row['exrt_mentions']) | ('copperandblue' in row['exqt_mentions']) | ('oilersnation' in row['exqt_mentions']) | ('edmontonoilers' in row['exqt_mentions']) | ('copperandblue' in row['exrtqt_mentions']) | ('oilersnation' in row['exrtqt_mentions']) | ('edmontonoilers' in row['exrtqt_mentions']) | ('oilers' in row['hastags']) | ('oilers' in row['rt_hastags']) | ('oilers' in row['qt_hastags']) | ('oilers' in row['qtrt_hastags']) | ('oilers' in row['ex_hastags']) | ('oilers' in row['exrt_hastags']) | ('oilers' in row['exqt_hastags']) | ('oilers' in row['exqtrt_hastags']):\n",
    "        \n",
    "        team.add('oilers')\n",
    "        \n",
    "    if (row['user.screen_name'] =='sun_puck') | (row['user.screen_name'] =='fansidedtherat') | (row['user.screen_name'] =='litterboxcats') | ('flapanthers' in row['hastags']) | ('flapanthers' in row['rt_hastags']) | ('flapanthers' in row['qt_hastags']) | ('flapanthers' in row['qtrt_hastags']) | (row['retweeted_status.user.screen_name'] =='sun_puck') | (row['retweeted_status.user.screen_name'] =='fansidedtherat') | (row['retweeted_status.user.screen_name'] =='litterboxcats') | (row['retweeted_status.user.screen_name'] =='flapanthers') | ('sun_puck' in row['mentions']) | ('fansidedtherat' in row['mentions']) | ('litterboxcats' in row['mentions']) | ('flapanthers' in row['mentions']) | (row['in_reply_to_screen_name'] =='sun_puck') | (row['in_reply_to_screen_name'] =='fansidedtherat') | (row['in_reply_to_screen_name'] =='litterboxcats') | (row['in_reply_to_screen_name'] =='flapanthers') | (row['retweeted_status.in_reply_to_screen_name'] =='sun_puck') | (row['retweeted_status.in_reply_to_screen_name'] =='fansidedtherat') | (row['retweeted_status.in_reply_to_screen_name'] =='litterboxcats') | (row['retweeted_status.in_reply_to_screen_name'] =='flapanthers') | (row['quoted_status.user.screen_name'] =='sun_puck') | (row['quoted_status.user.screen_name'] =='fansidedtherat') | (row['quoted_status.user.screen_name'] =='litterboxcats') | (row['quoted_status.user.screen_name'] =='flapanthers') | (row['quoted_status.in_reply_to_screen_name'] =='sun_puck') | (row['quoted_status.in_reply_to_screen_name'] =='fansidedtherat') | (row['quoted_status.in_reply_to_screen_name'] =='litterboxcats') | (row['quoted_status.in_reply_to_screen_name'] =='flapanthers') | (row['retweeted_status.quoted_status.in_reply_to_screen_name'] =='sun_puck') | (row['retweeted_status.quoted_status.in_reply_to_screen_name'] =='fansidedtherat') | (row['retweeted_status.quoted_status.in_reply_to_screen_name'] =='litterboxcats') | (row['retweeted_status.quoted_status.in_reply_to_screen_name'] =='flapanthers') | ('flapanthers' in row['ex_hastags']) | ('flapanthers' in row['exrt_hastags']) | ('flapanthers' in row['exqt_hastags']) | ('flapanthers' in row['exqtrt_hastags']) | ('sun_puck' in row['ex_mentions']) | ('fansidedtherat' in row['ex_mentions']) | ('litterboxcats' in row['ex_mentions']) | ('flapanthers' in row['ex_mentions']) | ('sun_puck' in row['rt_mentions']) | ('fansidedtherat' in row['rt_mentions']) | ('litterboxcats' in row['rt_mentions']) | ('flapanthers' in row['rt_mentions']) | ('sun_puck' in row['qt_mentions']) | ('fansidedtherat' in row['qt_mentions']) | ('litterboxcats' in row['qt_mentions']) | ('flapanthers' in row['qt_mentions']) | ('sun_puck' in row['rtqt_mentions']) | ('fansidedtherat' in row['rtqt_mentions']) | ('litterboxcats' in row['rtqt_mentions']) | ('flapanthers' in row['rtqt_mentions']) | ('sun_puck' in row['exrt_mentions']) | ('fansidedtherat' in row['exrt_mentions']) | ('litterboxcats' in row['exrt_mentions']) | ('flapanthers' in row['exrt_mentions']) | ('sun_puck' in row['exqt_mentions']) | ('fansidedtherat' in row['exqt_mentions']) | ('litterboxcats' in row['exqt_mentions']) | ('flapanthers' in row['exqt_mentions']) | ('sun_puck' in row['exrtqt_mentions']) | ('fansidedtherat' in row['exrtqt_mentions']) | ('litterboxcats' in row['exrtqt_mentions']) | ('flapanthers' in row['exrtqt_mentions']):\n",
    "        \n",
    "        team.add('panthers')\n",
    "        \n",
    "    if (row['user.screen_name'] =='rinkroyalty') | (row['user.screen_name'] =='lakingsinsider') | (row['user.screen_name'] =='jftc_kings') | ('gokingsgo' in row['hastags']) | ('gokingsgo' in row['rt_hastags']) | ('gokingsgo' in row['qt_hastags']) | ('gokingsgo' in row['qtrt_hastags']) | (row['retweeted_status.user.screen_name'] =='rinkroyalty') | (row['retweeted_status.user.screen_name'] =='lakingsinsider') | (row['retweeted_status.user.screen_name'] =='jftc_kings') | (row['retweeted_status.user.screen_name'] =='lakings') | ('rinkroyalty' in row['mentions']) | ('lakingsinsider' in row['mentions']) | ('jftc_kings' in row['mentions']) | ('lakings' in row['mentions']) | (row['in_reply_to_screen_name'] =='rinkroyalty') | (row['in_reply_to_screen_name'] =='lakingsinsider') | (row['in_reply_to_screen_name'] =='jftc_kings') | (row['in_reply_to_screen_name'] =='lakings') | (row['retweeted_status.in_reply_to_screen_name'] =='rinkroyalty') | (row['retweeted_status.in_reply_to_screen_name'] =='lakingsinsider') | (row['retweeted_status.in_reply_to_screen_name'] =='jftc_kings') | (row['retweeted_status.in_reply_to_screen_name'] =='lakings') | (row['quoted_status.user.screen_name'] =='rinkroyalty') | (row['quoted_status.user.screen_name'] =='lakingsinsider') | (row['quoted_status.user.screen_name'] =='jftc_kings') | (row['quoted_status.user.screen_name'] =='lakings') | (row['quoted_status.in_reply_to_screen_name'] =='rinkroyalty') | (row['quoted_status.in_reply_to_screen_name'] =='lakingsinsider') | (row['quoted_status.in_reply_to_screen_name'] =='jftc_kings') | (row['quoted_status.in_reply_to_screen_name'] =='lakings') | (row['retweeted_status.quoted_status.in_reply_to_screen_name'] =='rinkroyalty') | (row['retweeted_status.quoted_status.in_reply_to_screen_name'] =='lakingsinsider') | (row['retweeted_status.quoted_status.in_reply_to_screen_name'] =='jftc_kings') | (row['retweeted_status.quoted_status.in_reply_to_screen_name'] =='lakings') | ('gokingsgo' in row['ex_hastags']) | ('gokingsgo' in row['exrt_hastags']) | ('gokingsgo' in row['exqt_hastags']) | ('gokingsgo' in row['exqtrt_hastags']) | ('rinkroyalty' in row['ex_mentions']) | ('lakingsinsider' in row['ex_mentions']) | ('jftc_kings' in row['ex_mentions']) | ('lakings' in row['ex_mentions']) | ('rinkroyalty' in row['rt_mentions']) | ('lakingsinsider' in row['rt_mentions']) | ('jftc_kings' in row['rt_mentions']) | ('lakings' in row['rt_mentions']) | ('rinkroyalty' in row['qt_mentions']) | ('lakingsinsider' in row['qt_mentions']) | ('jftc_kings' in row['qt_mentions']) | ('lakings' in row['qt_mentions']) | ('rinkroyalty' in row['rtqt_mentions']) | ('lakingsinsider' in row['rtqt_mentions']) | ('jftc_kings' in row['rtqt_mentions']) | ('lakings' in row['rtqt_mentions']) | ('rinkroyalty' in row['exrt_mentions']) | ('lakingsinsider' in row['exrt_mentions']) | ('jftc_kings' in row['exrt_mentions']) | ('lakings' in row['exrt_mentions']) | ('rinkroyalty' in row['exqt_mentions']) | ('lakingsinsider' in row['exqt_mentions']) | ('jftc_kings' in row['exqt_mentions']) | ('lakings' in row['exqt_mentions']) | ('rinkroyalty' in row['exrtqt_mentions']) | ('lakingsinsider' in row['exrtqt_mentions']) | ('jftc_kings' in row['exrtqt_mentions']) | ('lakings' in row['exrtqt_mentions']):\n",
    "        \n",
    "        team.add('kings')\n",
    "        \n",
    "    if (row['user.screen_name'] =='fsgonepuckwild') | (row['user.screen_name'] =='hockeywildernes') | ('mnwild' in row['hastags']) | ('mnwild' in row['rt_hastags']) | ('mnwild' in row['qt_hastags']) | ('mnwild' in row['qtrt_hastags']) | (row['retweeted_status.user.screen_name'] =='fsgonepuckwild') | (row['retweeted_status.user.screen_name'] =='hockeywildernes') | (row['retweeted_status.user.screen_name'] =='mnwild') | ('fsgonepuckwild' in row['mentions']) | ('hockeywildernes' in row['mentions']) | ('mnwild' in row['mentions']) | (row['in_reply_to_screen_name'] =='fsgonepuckwild') | (row['in_reply_to_screen_name'] =='hockeywildernes') | (row['in_reply_to_screen_name'] =='mnwild') | (row['retweeted_status.in_reply_to_screen_name'] =='fsgonepuckwild') | (row['retweeted_status.in_reply_to_screen_name'] =='hockeywildernes') | (row['retweeted_status.in_reply_to_screen_name'] =='mnwild') | (row['quoted_status.user.screen_name'] =='fsgonepuckwild') | (row['quoted_status.user.screen_name'] =='hockeywildernes') | (row['quoted_status.user.screen_name'] =='mnwild') | (row['quoted_status.in_reply_to_screen_name'] =='fsgonepuckwild') | (row['quoted_status.in_reply_to_screen_name'] =='hockeywildernes') | (row['quoted_status.in_reply_to_screen_name'] =='mnwild') | (row['retweeted_status.quoted_status.in_reply_to_screen_name'] =='fsgonepuckwild') | (row['retweeted_status.quoted_status.in_reply_to_screen_name'] =='hockeywildernes') | (row['retweeted_status.quoted_status.in_reply_to_screen_name'] =='mnwild') | ('mnwild' in row['ex_hastags']) | ('mnwild' in row['exrt_hastags']) | ('mnwild' in row['exqt_hastags']) | ('mnwild' in row['exqtrt_hastags']) | ('fsgonepuckwild' in row['ex_mentions']) | ('hockeywildernes' in row['ex_mentions']) | ('mnwild' in row['ex_mentions']) | ('fsgonepuckwild' in row['rt_mentions']) | ('hockeywildernes' in row['rt_mentions']) | ('mnwild' in row['rt_mentions']) | ('fsgonepuckwild' in row['qt_mentions']) | ('hockeywildernes' in row['qt_mentions']) | ('mnwild' in row['qt_mentions']) | ('fsgonepuckwild' in row['rtqt_mentions']) | ('hockeywildernes' in row['rtqt_mentions']) | ('mnwild' in row['rtqt_mentions']) | ('fsgonepuckwild' in row['exrt_mentions']) | ('hockeywildernes' in row['exrt_mentions']) | ('mnwild' in row['exrt_mentions']) | ('fsgonepuckwild' in row['exqt_mentions']) | ('hockeywildernes' in row['exqt_mentions']) | ('mnwild' in row['exqt_mentions']) | ('fsgonepuckwild' in row['exrtqt_mentions']) | ('hockeywildernes' in row['exrtqt_mentions']) | ('mnwild' in row['exrtqt_mentions']):\n",
    "        \n",
    "        team.add('wild')\n",
    "        \n",
    "    if (row['user.screen_name'] =='allhabs') | (row['user.screen_name'] =='fsawinninghabit') | (row['user.screen_name'] =='habseotp') | ('habs' in row['hastags']) | ('habs' in row['rt_hastags']) | ('habs' in row['qt_hastags']) | ('habs' in row['qtrt_hastags']) | (row['retweeted_status.user.screen_name'] =='allhabs') | (row['retweeted_status.user.screen_name'] =='fsawinninghabit') | (row['retweeted_status.user.screen_name'] =='habseotp') | (row['retweeted_status.user.screen_name'] =='canadiensmtl') | ('allhabs' in row['mentions']) | ('fsawinninghabit' in row['mentions']) | ('habseotp' in row['mentions']) | ('canadiensmtl' in row['mentions']) | (row['in_reply_to_screen_name'] =='allhabs') | (row['in_reply_to_screen_name'] =='fsawinninghabit') | (row['in_reply_to_screen_name'] =='habseotp') | (row['in_reply_to_screen_name'] =='canadiensmtl') | (row['retweeted_status.in_reply_to_screen_name'] =='allhabs') | (row['retweeted_status.in_reply_to_screen_name'] =='fsawinninghabit') | (row['retweeted_status.in_reply_to_screen_name'] =='habseotp') | (row['retweeted_status.in_reply_to_screen_name'] =='canadiensmtl') | (row['quoted_status.user.screen_name'] =='allhabs') | (row['quoted_status.user.screen_name'] =='fsawinninghabit') | (row['quoted_status.user.screen_name'] =='habseotp') | (row['quoted_status.user.screen_name'] =='canadiensmtl') | (row['quoted_status.in_reply_to_screen_name'] =='allhabs') | (row['quoted_status.in_reply_to_screen_name'] =='fsawinninghabit') | (row['quoted_status.in_reply_to_screen_name'] =='habseotp') | (row['quoted_status.in_reply_to_screen_name'] =='canadiensmtl') | (row['retweeted_status.quoted_status.in_reply_to_screen_name'] =='allhabs') | (row['retweeted_status.quoted_status.in_reply_to_screen_name'] =='fsawinninghabit') | (row['retweeted_status.quoted_status.in_reply_to_screen_name'] =='habseotp') | (row['retweeted_status.quoted_status.in_reply_to_screen_name'] =='canadiensmtl') | ('habs' in row['ex_hastags']) | ('habs' in row['exrt_hastags']) | ('habs' in row['exqt_hastags']) | ('habs' in row['exqtrt_hastags']) | ('allhabs' in row['ex_mentions']) | ('fsawinninghabit' in row['ex_mentions']) | ('habseotp' in row['ex_mentions']) | ('canadiensmtl' in row['ex_mentions']) | ('allhabs' in row['rt_mentions']) | ('fsawinninghabit' in row['rt_mentions']) | ('habseotp' in row['rt_mentions']) | ('canadiensmtl' in row['rt_mentions']) | ('allhabs' in row['qt_mentions']) | ('fsawinninghabit' in row['qt_mentions']) | ('habseotp' in row['qt_mentions']) | ('canadiensmtl' in row['qt_mentions']) | ('allhabs' in row['rtqt_mentions']) | ('fsawinninghabit' in row['rtqt_mentions']) | ('habseotp' in row['rtqt_mentions']) | ('canadiensmtl' in row['rtqt_mentions']) | ('allhabs' in row['exrt_mentions']) | ('fsawinninghabit' in row['exrt_mentions']) | ('habseotp' in row['exrt_mentions']) | ('canadiensmtl' in row['exrt_mentions']) | ('allhabs' in row['exqt_mentions']) | ('fsawinninghabit' in row['exqt_mentions']) | ('habseotp' in row['exqt_mentions']) | ('canadiensmtl' in row['exqt_mentions']) | ('allhabs' in row['exrtqt_mentions']) | ('fsawinninghabit' in row['exrtqt_mentions']) | ('habseotp' in row['exrtqt_mentions']) | ('canadiensmtl' in row['exrtqt_mentions']):\n",
    "        \n",
    "        team.add('habs')\n",
    "        \n",
    "    if (row['user.screen_name'] =='predlinesnsh') | (row['user.screen_name'] =='ontheforecheck') | ('preds' in row['hastags']) | ('preds' in row['rt_hastags']) | ('preds' in row['qt_hastags']) | ('preds' in row['qtrt_hastags']) | (row['retweeted_status.user.screen_name'] =='predlinesnsh') | (row['retweeted_status.user.screen_name'] =='ontheforecheck') | (row['retweeted_status.user.screen_name'] =='predsnhl') | ('predlinesnsh' in row['mentions']) | ('ontheforecheck' in row['mentions']) | ('predsnhl' in row['mentions']) | (row['in_reply_to_screen_name'] =='predlinesnsh') | (row['in_reply_to_screen_name'] =='ontheforecheck') | (row['in_reply_to_screen_name'] =='predsnhl') | (row['retweeted_status.in_reply_to_screen_name'] =='predlinesnsh') | (row['retweeted_status.in_reply_to_screen_name'] =='ontheforecheck') | (row['retweeted_status.in_reply_to_screen_name'] =='predsnhl') | (row['quoted_status.user.screen_name'] =='predlinesnsh') | (row['quoted_status.user.screen_name'] =='ontheforecheck') | (row['quoted_status.user.screen_name'] =='predsnhl') | (row['quoted_status.in_reply_to_screen_name'] =='predlinesnsh') | (row['quoted_status.in_reply_to_screen_name'] =='ontheforecheck') | (row['quoted_status.in_reply_to_screen_name'] =='predsnhl') | (row['retweeted_status.quoted_status.in_reply_to_screen_name'] =='predlinesnsh') | (row['retweeted_status.quoted_status.in_reply_to_screen_name'] =='ontheforecheck') | (row['retweeted_status.quoted_status.in_reply_to_screen_name'] =='predsnhl') | ('preds' in row['ex_hastags']) | ('preds' in row['exrt_hastags']) | ('preds' in row['exqt_hastags']) | ('preds' in row['exqtrt_hastags']) | ('predlinesnsh' in row['ex_mentions']) | ('ontheforecheck' in row['ex_mentions']) | ('predsnhl' in row['ex_mentions']) | ('predlinesnsh' in row['rt_mentions']) | ('ontheforecheck' in row['rt_mentions']) | ('predsnhl' in row['rt_mentions']) | ('predlinesnsh' in row['qt_mentions']) | ('ontheforecheck' in row['qt_mentions']) | ('predsnhl' in row['qt_mentions']) | ('predlinesnsh' in row['rtqt_mentions']) | ('ontheforecheck' in row['rtqt_mentions']) | ('predsnhl' in row['rtqt_mentions']) | ('predlinesnsh' in row['exrt_mentions']) | ('ontheforecheck' in row['exrt_mentions']) | ('predsnhl' in row['exrt_mentions']) | ('predlinesnsh' in row['exqt_mentions']) | ('ontheforecheck' in row['exqt_mentions']) | ('predsnhl' in row['exqt_mentions']) | ('predlinesnsh' in row['exrtqt_mentions']) | ('ontheforecheck' in row['exrtqt_mentions']) | ('predsnhl' in row['exrtqt_mentions']):\n",
    "        \n",
    "        team.add('preds')\n",
    "        \n",
    "    if (row['user.screen_name'] =='devilsarmyblog') | (row['user.screen_name'] =='pitchforkedpuck') | (row['user.screen_name'] =='aatjerseyblog') | ('njdevils' in row['hastags']) | ('njdevils' in row['rt_hastags']) | ('njdevils' in row['qt_hastags']) | ('njdevils' in row['qtrt_hastags']) | (row['retweeted_status.user.screen_name'] =='devilsarmyblog') | (row['retweeted_status.user.screen_name'] =='pitchforkedpuck') | (row['retweeted_status.user.screen_name'] =='aatjerseyblog') | (row['retweeted_status.user.screen_name'] =='njdevils') | ('devilsarmyblog' in row['mentions']) | ('pitchforkedpuck' in row['mentions']) | ('aatjerseyblog' in row['mentions']) | ('njdevils' in row['mentions']) | (row['in_reply_to_screen_name'] =='devilsarmyblog') | (row['in_reply_to_screen_name'] =='pitchforkedpuck') | (row['in_reply_to_screen_name'] =='aatjerseyblog') | (row['in_reply_to_screen_name'] =='njdevils') | (row['retweeted_status.in_reply_to_screen_name'] =='devilsarmyblog') | (row['retweeted_status.in_reply_to_screen_name'] =='pitchforkedpuck') | (row['retweeted_status.in_reply_to_screen_name'] =='aatjerseyblog') | (row['retweeted_status.in_reply_to_screen_name'] =='njdevils') | (row['quoted_status.user.screen_name'] =='devilsarmyblog') | (row['quoted_status.user.screen_name'] =='pitchforkedpuck') | (row['quoted_status.user.screen_name'] =='aatjerseyblog') | (row['quoted_status.user.screen_name'] =='njdevils') | (row['quoted_status.in_reply_to_screen_name'] =='devilsarmyblog') | (row['quoted_status.in_reply_to_screen_name'] =='pitchforkedpuck') | (row['quoted_status.in_reply_to_screen_name'] =='aatjerseyblog') | (row['quoted_status.in_reply_to_screen_name'] =='njdevils') | (row['retweeted_status.quoted_status.in_reply_to_screen_name'] =='devilsarmyblog') | (row['retweeted_status.quoted_status.in_reply_to_screen_name'] =='pitchforkedpuck') | (row['retweeted_status.quoted_status.in_reply_to_screen_name'] =='aatjerseyblog') | (row['retweeted_status.quoted_status.in_reply_to_screen_name'] =='njdevils') | ('njdevils' in row['ex_hastags']) | ('njdevils' in row['exrt_hastags']) | ('njdevils' in row['exqt_hastags']) | ('njdevils' in row['exqtrt_hastags']) | ('devilsarmyblog' in row['ex_mentions']) | ('pitchforkedpuck' in row['ex_mentions']) | ('aatjerseyblog' in row['ex_mentions']) | ('njdevils' in row['ex_mentions']) | ('devilsarmyblog' in row['rt_mentions']) | ('pitchforkedpuck' in row['rt_mentions']) | ('aatjerseyblog' in row['rt_mentions']) | ('njdevils' in row['rt_mentions']) | ('devilsarmyblog' in row['qt_mentions']) | ('pitchforkedpuck' in row['qt_mentions']) | ('aatjerseyblog' in row['qt_mentions']) | ('njdevils' in row['qt_mentions']) | ('devilsarmyblog' in row['rtqt_mentions']) | ('pitchforkedpuck' in row['rtqt_mentions']) | ('aatjerseyblog' in row['rtqt_mentions']) | ('njdevils' in row['rtqt_mentions']) | ('devilsarmyblog' in row['exrt_mentions']) | ('pitchforkedpuck' in row['exrt_mentions']) | ('aatjerseyblog' in row['exrt_mentions']) | ('njdevils' in row['exrt_mentions']) | ('devilsarmyblog' in row['exqt_mentions']) | ('pitchforkedpuck' in row['exqt_mentions']) | ('aatjerseyblog' in row['exqt_mentions']) | ('njdevils' in row['exqt_mentions']) | ('devilsarmyblog' in row['exrtqt_mentions']) | ('pitchforkedpuck' in row['exrtqt_mentions']) | ('aatjerseyblog' in row['exrtqt_mentions']) | ('njdevils' in row['exrtqt_mentions']):\n",
    "        \n",
    "        team.add('devils')\n",
    "        \n",
    "    if (row['user.screen_name'] =='eyesonislesfs') | (row['user.screen_name'] =='lhhockey') | ('isles' in row['hastags']) | ('isles' in row['rt_hastags']) | ('isles' in row['qt_hastags']) | ('isles' in row['qtrt_hastags']) | (row['retweeted_status.user.screen_name'] =='eyesonislesfs') | (row['retweeted_status.user.screen_name'] =='lhhockey') | (row['retweeted_status.user.screen_name'] == 'nyislanders') | ('eyesonislesfs' in row['mentions']) | ('lhhockey' in row['mentions']) | ('nyislanders' in row['mentions']) | (row['in_reply_to_screen_name'] =='eyesonislesfs') | (row['in_reply_to_screen_name'] =='lhhockey') | (row['in_reply_to_screen_name'] == 'nyislanders') | (row['retweeted_status.in_reply_to_screen_name'] =='eyesonislesfs') | (row['retweeted_status.in_reply_to_screen_name'] =='lhhockey') | (row['retweeted_status.in_reply_to_screen_name'] == 'nyislanders') | (row['quoted_status.user.screen_name'] =='eyesonislesfs') | (row['quoted_status.user.screen_name'] =='lhhockey') | (row['quoted_status.user.screen_name'] == 'nyislanders') | (row['quoted_status.in_reply_to_screen_name'] =='eyesonislesfs') | (row['quoted_status.in_reply_to_screen_name'] =='lhhockey') | (row['quoted_status.in_reply_to_screen_name'] == 'nyislanders') | (row['retweeted_status.quoted_status.in_reply_to_screen_name'] =='eyesonislesfs') | (row['retweeted_status.quoted_status.in_reply_to_screen_name'] =='lhhockey') | (row['retweeted_status.quoted_status.in_reply_to_screen_name'] == 'nyislanders') | ('isles' in row['ex_hastags']) | ('isles' in row['exrt_hastags']) | ('isles' in row['exqt_hastags']) | ('isles' in row['exqtrt_hastags']) | ('eyesonislesfs' in row['ex_mentions']) | ('lhhockey' in row['ex_mentions']) | ('nyislanders' in row['ex_mentions']) | ('eyesonislesfs' in row['rt_mentions']) | ('lhhockey' in row['rt_mentions']) | ('nyislanders' in row['rt_mentions']) | ('eyesonislesfs' in row['qt_mentions']) | ('lhhockey' in row['qt_mentions']) | ('nyislanders' in row['qt_mentions']) | ('eyesonislesfs' in row['rtqt_mentions']) | ('lhhockey' in row['rtqt_mentions']) | ('nyislanders' in row['rtqt_mentions']) |('eyesonislesfs' in row['exrt_mentions']) | ('lhhockey' in row['exrt_mentions']) | ('nyislanders' in row['exrt_mentions']) | ('eyesonislesfs' in row['exqt_mentions']) | ('lhhockey' in row['exqt_mentions']) | ('nyislanders' in row['exqt_mentions']) | ('eyesonislesfs' in row['exrtqt_mentions']) | ('lhhockey' in row['exrtqt_mentions']) | ('nyislanders' in row['exrtqt_mentions']):\n",
    "        \n",
    "        team.add('isles')\n",
    "        \n",
    "    if (row['user.screen_name'] =='senshot_fs') | (row['user.screen_name'] =='senschirp') | (row['user.screen_name'] =='silversevensens') | ('sens' in row['hastags']) | ('sens' in row['rt_hastags']) | ('sens' in row['qt_hastags']) | ('sens' in row['qtrt_hastags']) | (row['retweeted_status.user.screen_name'] =='senshot_fs') | (row['retweeted_status.user.screen_name'] =='senschirp') | (row['retweeted_status.user.screen_name'] =='silversevensens') | (row['retweeted_status.user.screen_name'] =='senators') | ('senshot_fs' in row['mentions']) | ('senschirp' in row['mentions']) | ('silversevensens' in row['mentions']) | ('senators' in row['mentions']) | (row['in_reply_to_screen_name'] =='senshot_fs') | (row['in_reply_to_screen_name'] =='senschirp') | (row['in_reply_to_screen_name'] =='silversevensens') | (row['in_reply_to_screen_name'] =='senators') | (row['retweeted_status.in_reply_to_screen_name'] =='senshot_fs') | (row['retweeted_status.in_reply_to_screen_name'] =='senschirp') | (row['retweeted_status.in_reply_to_screen_name'] =='silversevensens') | (row['retweeted_status.in_reply_to_screen_name'] =='senators') | (row['quoted_status.user.screen_name'] =='senshot_fs') | (row['quoted_status.user.screen_name'] =='senschirp') | (row['quoted_status.user.screen_name'] =='silversevensens') | (row['quoted_status.user.screen_name'] =='senators') | (row['quoted_status.in_reply_to_screen_name'] =='senshot_fs') | (row['quoted_status.in_reply_to_screen_name'] =='senschirp') | (row['quoted_status.in_reply_to_screen_name'] =='silversevensens') | (row['quoted_status.in_reply_to_screen_name'] =='senators') | (row['retweeted_status.quoted_status.in_reply_to_screen_name'] =='senshot_fs') | (row['retweeted_status.quoted_status.in_reply_to_screen_name'] =='senschirp') | (row['retweeted_status.quoted_status.in_reply_to_screen_name'] =='silversevensens') | (row['retweeted_status.quoted_status.in_reply_to_screen_name'] =='senators') | ('sens' in row['ex_hastags']) | ('sens' in row['exrt_hastags']) | ('sens' in row['exqt_hastags']) | ('sens' in row['exqtrt_hastags']) | ('senshot_fs' in row['ex_mentions']) | ('senschirp' in row['ex_mentions']) | ('silversevensens' in row['ex_mentions']) | ('senators' in row['ex_mentions']) | ('senshot_fs' in row['rt_mentions']) | ('senschirp' in row['rt_mentions']) | ('silversevensens' in row['rt_mentions']) | ('senators' in row['rt_mentions']) |('senshot_fs' in row['qt_mentions']) | ('senschirp' in row['qt_mentions']) | ('silversevensens' in row['qt_mentions']) | ('senators' in row['qt_mentions']) | ('senshot_fs' in row['rtqt_mentions']) | ('senschirp' in row['rtqt_mentions']) | ('silversevensens' in row['rtqt_mentions']) | ('senators' in row['rtqt_mentions']) | ('senshot_fs' in row['exrt_mentions']) | ('senschirp' in row['exrt_mentions']) | ('silversevensens' in row['exrt_mentions']) | ('senators' in row['exrt_mentions']) |('senshot_fs' in row['exqt_mentions']) | ('senschirp' in row['exqt_mentions']) | ('silversevensens' in row['exqt_mentions']) | ('senators' in row['exqt_mentions']) | ('senshot_fs' in row['exrtqt_mentions']) | ('senschirp' in row['exrtqt_mentions']) | ('silversevensens' in row['exrtqt_mentions']) | ('senators' in row['exrtqt_mentions']):\n",
    "        \n",
    "        team.add('sens')\n",
    "        \n",
    "    if (row['user.screen_name'] =='broadsthockey') | (row['user.screen_name'] =='broadstreetbuzz') | ('flyers' in row['hastags']) | ('flyers' in row['rt_hastags']) | ('flyers' in row['qt_hastags']) | ('flyers' in row['qtrt_hastags']) | (row['retweeted_status.user.screen_name'] =='broadsthockey') | (row['retweeted_status.user.screen_name'] =='broadstreetbuzz') | (row['retweeted_status.user.screen_name'] =='nhlflyers') | ('broadsthockey' in row['mentions']) | ('broadstreetbuzz' in row['mentions']) | ('nhlflyers' in row['mentions']) | (row['in_reply_to_screen_name'] =='broadsthockey') | (row['in_reply_to_screen_name'] =='broadstreetbuzz') | (row['in_reply_to_screen_name'] =='nhlflyers') | (row['retweeted_status.in_reply_to_screen_name'] =='broadsthockey') | (row['retweeted_status.in_reply_to_screen_name'] =='broadstreetbuzz') | (row['retweeted_status.in_reply_to_screen_name'] =='nhlflyers') | (row['quoted_status.user.screen_name'] =='broadsthockey') | (row['quoted_status.user.screen_name'] =='broadstreetbuzz') | (row['quoted_status.user.screen_name'] =='nhlflyers') | (row['quoted_status.in_reply_to_screen_name'] =='broadsthockey') | (row['quoted_status.in_reply_to_screen_name'] =='broadstreetbuzz') | (row['quoted_status.in_reply_to_screen_name'] =='nhlflyers') | (row['retweeted_status.quoted_status.in_reply_to_screen_name'] =='broadsthockey') | (row['retweeted_status.quoted_status.in_reply_to_screen_name'] =='broadstreetbuzz') | (row['retweeted_status.quoted_status.in_reply_to_screen_name'] =='nhlflyers') | ('flyers' in row['ex_hastags']) | ('flyers' in row['exrt_hastags']) | ('flyers' in row['exqt_hastags']) | ('flyers' in row['exqtrt_hastags']) | ('broadsthockey' in row['ex_mentions']) | ('broadstreetbuzz' in row['ex_mentions']) | ('nhlflyers' in row['ex_mentions']) | ('broadsthockey' in row['rt_mentions']) | ('broadstreetbuzz' in row['rt_mentions']) | ('nhlflyers' in row['rt_mentions']) | ('broadsthockey' in row['qt_mentions']) | ('broadstreetbuzz' in row['qt_mentions']) | ('nhlflyers' in row['qt_mentions']) | ('broadsthockey' in row['rtqt_mentions']) | ('broadstreetbuzz' in row['rtqt_mentions']) | ('nhlflyers' in row['rtqt_mentions']) | ('broadsthockey' in row['exrt_mentions']) | ('broadstreetbuzz' in row['exrt_mentions']) | ('nhlflyers' in row['exrt_mentions']) | ('broadsthockey' in row['exqt_mentions']) | ('broadstreetbuzz' in row['exqt_mentions']) | ('nhlflyers' in row['exqt_mentions']) | ('broadsthockey' in row['exrtqt_mentions']) | ('broadstreetbuzz' in row['exrtqt_mentions']) | ('nhlflyers' in row['exrtqt_mentions']):\n",
    "        \n",
    "        team.add('flyers')\n",
    "        \n",
    "    if (row['user.screen_name'] =='penslabyrinthfs') | (row['user.screen_name'] =='pensblog') | (row['user.screen_name'] =='pensburgh') | ('pens' in row['hastags']) | ('pens' in row['rt_hastags']) | ('pens' in row['qt_hastags']) | ('pens' in row['qtrt_hastags']) | (row['retweeted_status.user.screen_name'] =='penslabyrinthfs') | (row['retweeted_status.user.screen_name'] =='pensblog') | (row['retweeted_status.user.screen_name'] =='pensburgh') | (row['retweeted_status.user.screen_name'] =='penguins') | ('penslabyrinthfs' in row['mentions']) | ('pensblog' in row['mentions']) | ('pensburgh' in row['mentions']) | ('penguins' in row['mentions']) | (row['in_reply_to_screen_name'] =='penslabyrinthfs') | (row['in_reply_to_screen_name'] =='pensblog') | (row['in_reply_to_screen_name'] =='pensburgh') | (row['in_reply_to_screen_name'] =='penguins') | (row['retweeted_status.in_reply_to_screen_name'] =='penslabyrinthfs') | (row['retweeted_status.in_reply_to_screen_name'] =='pensblog') | (row['retweeted_status.in_reply_to_screen_name'] =='pensburgh') | (row['retweeted_status.in_reply_to_screen_name'] =='penguins') | (row['quoted_status.user.screen_name'] =='penslabyrinthfs') | (row['quoted_status.user.screen_name'] =='pensblog') | (row['quoted_status.user.screen_name'] =='pensburgh') | (row['quoted_status.user.screen_name'] =='penguins') | (row['quoted_status.in_reply_to_screen_name'] =='penslabyrinthfs') | (row['quoted_status.in_reply_to_screen_name'] =='pensblog') | (row['quoted_status.in_reply_to_screen_name'] =='pensburgh') | (row['quoted_status.in_reply_to_screen_name'] =='penguins') | (row['retweeted_status.quoted_status.in_reply_to_screen_name'] =='penslabyrinthfs') | (row['retweeted_status.quoted_status.in_reply_to_screen_name'] =='pensblog') | (row['retweeted_status.quoted_status.in_reply_to_screen_name'] =='pensburgh') | (row['retweeted_status.quoted_status.in_reply_to_screen_name'] =='penguins') | ('pens' in row['ex_hastags']) | ('pens' in row['exrt_hastags']) | ('pens' in row['exqt_hastags']) | ('pens' in row['exqtrt_hastags']) | ('penslabyrinthfs' in row['ex_mentions']) | ('pensblog' in row['ex_mentions']) | ('pensburgh' in row['ex_mentions']) | ('penguins' in row['ex_mentions']) | ('penslabyrinthfs' in row['rt_mentions']) | ('pensblog' in row['rt_mentions']) | ('pensburgh' in row['rt_mentions']) | ('penguins' in row['rt_mentions']) | ('penslabyrinthfs' in row['qt_mentions']) | ('pensblog' in row['qt_mentions']) | ('pensburgh' in row['qt_mentions']) | ('penguins' in row['qt_mentions']) | ('penslabyrinthfs' in row['rtqt_mentions']) | ('pensblog' in row['rtqt_mentions']) | ('pensburgh' in row['rtqt_mentions']) | ('penguins' in row['rtqt_mentions']) | ('penslabyrinthfs' in row['exrt_mentions']) | ('pensblog' in row['exrt_mentions']) | ('pensburgh' in row['exrt_mentions']) | ('penguins' in row['exrt_mentions']) | ('penslabyrinthfs' in row['exqt_mentions']) | ('pensblog' in row['exqt_mentions']) | ('pensburgh' in row['exqt_mentions']) | ('penguins' in row['exqt_mentions']) | ('penslabyrinthfs' in row['exrtqt_mentions']) | ('pensblog' in row['exrtqt_mentions']) | ('pensburgh' in row['exrtqt_mentions']) | ('penguins' in row['exrtqt_mentions']):\n",
    "        \n",
    "        team.add('pens')\n",
    "        \n",
    "    if (row['user.screen_name'] =='bladesofteal') | (row['user.screen_name'] =='fearthefin') | ('sjsharks' in row['hastags']) | ('sjsharks' in row['rt_hastags']) | ('sjsharks' in row['qt_hastags']) | ('sjsharks' in row['qtrt_hastags']) | ('sharks' in row['hastags']) | ('sharks' in row['rt_hastags']) | ('sharks' in row['qt_hastags']) | ('sharks' in row['qtrt_hastags']) | (row['retweeted_status.user.screen_name'] =='bladesofteal') | (row['retweeted_status.user.screen_name'] =='fearthefin') | (row['retweeted_status.user.screen_name'] =='sanjosesharks') | ('bladesofteal' in row['mentions']) | ('fearthefin' in row['mentions']) | ('sanjosesharks' in row['mentions']) | (row['in_reply_to_screen_name'] =='bladesofteal') | (row['in_reply_to_screen_name'] =='fearthefin') | (row['in_reply_to_screen_name'] =='sanjosesharks') | (row['retweeted_status.in_reply_to_screen_name'] =='bladesofteal') | (row['retweeted_status.in_reply_to_screen_name'] =='fearthefin') | (row['retweeted_status.in_reply_to_screen_name'] =='sanjosesharks') | (row['quoted_status.user.screen_name'] =='bladesofteal') | (row['quoted_status.user.screen_name'] =='fearthefin') | (row['quoted_status.user.screen_name'] =='sanjosesharks') | (row['quoted_status.in_reply_to_screen_name'] =='bladesofteal') | (row['quoted_status.in_reply_to_screen_name'] =='fearthefin') | (row['quoted_status.in_reply_to_screen_name'] =='sanjosesharks') | (row['retweeted_status.quoted_status.in_reply_to_screen_name'] =='bladesofteal') | (row['retweeted_status.quoted_status.in_reply_to_screen_name'] =='fearthefin') | (row['retweeted_status.quoted_status.in_reply_to_screen_name'] =='sanjosesharks') | ('sjsharks' in row['ex_hastags']) | ('sjsharks' in row['exrt_hastags']) | ('sjsharks' in row['exqt_hastags']) | ('sjsharks' in row['exqtrt_hastags']) | ('sharks' in row['ex_hastags']) | ('sharks' in row['exrt_hastags']) | ('sharks' in row['exqt_hastags']) | ('sharks' in row['exqtrt_hastags']) | ('bladesofteal' in row['ex_mentions']) | ('fearthefin' in row['ex_mentions']) | ('sanjosesharks' in row['ex_mentions']) | ('bladesofteal' in row['rt_mentions']) | ('fearthefin' in row['rt_mentions']) | ('sanjosesharks' in row['rt_mentions']) | ('bladesofteal' in row['qt_mentions']) | ('fearthefin' in row['qt_mentions']) | ('sanjosesharks' in row['qt_mentions']) | ('bladesofteal' in row['rtqt_mentions']) | ('fearthefin' in row['rtqt_mentions']) | ('sanjosesharks' in row['rtqt_mentions']) | ('bladesofteal' in row['exrt_mentions']) | ('fearthefin' in row['exrt_mentions']) | ('sanjosesharks' in row['exrt_mentions']) | ('bladesofteal' in row['exqt_mentions']) | ('fearthefin' in row['exqt_mentions']) | ('sanjosesharks' in row['exqt_mentions']) | ('bladesofteal' in row['exrtqt_mentions']) | ('fearthefin' in row['exrtqt_mentions']) | ('sanjosesharks' in row['exrtqt_mentions']):\n",
    "        \n",
    "        team.add('sharks')\n",
    "        \n",
    "    if (row['user.screen_name'] =='stlouisgametime') | (row['user.screen_name'] =='bleedinbluefs') | (row['user.screen_name'] =='frozennotes') | ('stlblues' in row['hastags']) | ('stlblues' in row['rt_hastags']) | ('stlblues' in row['qt_hastags']) | ('stlblues' in row['qtrt_hastags']) | (row['retweeted_status.user.screen_name'] =='stlouisgametime') | (row['retweeted_status.user.screen_name'] =='bleedinbluefs') | (row['retweeted_status.user.screen_name'] =='frozennotes') | (row['retweeted_status.user.screen_name'] =='stlouisblues') | ('stlouisgametime' in row['mentions']) | ('bleedinbluefs' in row['mentions']) | ('frozennotes' in row['mentions']) | ('stlouisblues' in row['mentions']) | (row['in_reply_to_screen_name'] =='stlouisgametime') | (row['in_reply_to_screen_name'] =='bleedinbluefs') | (row['in_reply_to_screen_name'] =='frozennotes') | (row['in_reply_to_screen_name'] =='stlouisblues') | (row['retweeted_status.in_reply_to_screen_name'] =='stlouisgametime') | (row['retweeted_status.in_reply_to_screen_name'] =='bleedinbluefs') | (row['retweeted_status.in_reply_to_screen_name'] =='frozennotes') | (row['retweeted_status.in_reply_to_screen_name'] =='stlouisblues') | (row['quoted_status.user.screen_name'] =='stlouisgametime') | (row['quoted_status.user.screen_name'] =='bleedinbluefs') | (row['quoted_status.user.screen_name'] =='frozennotes') | (row['quoted_status.user.screen_name'] =='stlouisblues') | (row['quoted_status.in_reply_to_screen_name'] =='stlouisgametime') | (row['quoted_status.in_reply_to_screen_name'] =='bleedinbluefs') | (row['quoted_status.in_reply_to_screen_name'] =='frozennotes') | (row['quoted_status.in_reply_to_screen_name'] =='stlouisblues') | (row['retweeted_status.quoted_status.in_reply_to_screen_name'] =='stlouisgametime') | (row['retweeted_status.quoted_status.in_reply_to_screen_name'] =='bleedinbluefs') | (row['retweeted_status.quoted_status.in_reply_to_screen_name'] =='frozennotes') | (row['retweeted_status.quoted_status.in_reply_to_screen_name'] =='stlouisblues') | ('stlblues' in row['ex_hastags']) | ('stlblues' in row['exrt_hastags']) | ('stlblues' in row['exqt_hastags']) | ('stlblues' in row['exqtrt_hastags']) | ('stlouisgametime' in row['ex_mentions']) | ('bleedinbluefs' in row['ex_mentions']) | ('frozennotes' in row['ex_mentions']) | ('stlouisblues' in row['ex_mentions']) | ('stlouisgametime' in row['rt_mentions']) | ('bleedinbluefs' in row['rt_mentions']) | ('frozennotes' in row['rt_mentions']) | ('stlouisblues' in row['rt_mentions']) | ('stlouisgametime' in row['qt_mentions']) | ('bleedinbluefs' in row['qt_mentions']) | ('frozennotes' in row['qt_mentions']) | ('stlouisblues' in row['qt_mentions']) | ('stlouisgametime' in row['rtqt_mentions']) | ('bleedinbluefs' in row['rtqt_mentions']) | ('frozennotes' in row['rtqt_mentions']) | ('stlouisblues' in row['rtqt_mentions']) | ('stlouisgametime' in row['exrt_mentions']) | ('bleedinbluefs' in row['exrt_mentions']) | ('frozennotes' in row['exrt_mentions']) | ('stlouisblues' in row['exrt_mentions']) | ('stlouisgametime' in row['exqt_mentions']) | ('bleedinbluefs' in row['exqt_mentions']) | ('frozennotes' in row['exqt_mentions']) | ('stlouisblues' in row['exqt_mentions']) | ('stlouisgametime' in row['exrtqt_mentions']) | ('bleedinbluefs' in row['exrtqt_mentions']) | ('frozennotes' in row['exrtqt_mentions']) | ('stlouisblues' in row['exrtqt_mentions']):\n",
    "        \n",
    "        team.add('blues')\n",
    "        \n",
    "    if (row['user.screen_name'] =='boltsbythebay') | (row['user.screen_name'] =='rawcharge') | ('bolts' in row['hastags']) | ('bolts' in row['rt_hastags']) | ('bolts' in row['qt_hastags']) | ('bolts' in row['qtrt_hastags']) | (row['retweeted_status.user.screen_name'] =='boltsbythebay') | (row['retweeted_status.user.screen_name'] =='rawcharge') | (row['retweeted_status.user.screen_name'] =='tblightning') | ('boltsbythebay' in row['mentions']) | ('rawcharge' in row['mentions']) | ('tblightning' in row['mentions']) | (row['in_reply_to_screen_name'] =='boltsbythebay') | (row['in_reply_to_screen_name'] =='rawcharge') | (row['in_reply_to_screen_name'] =='tblightning') | (row['retweeted_status.in_reply_to_screen_name'] =='boltsbythebay') | (row['retweeted_status.in_reply_to_screen_name'] =='rawcharge') | (row['retweeted_status.in_reply_to_screen_name'] =='tblightning') | (row['quoted_status.user.screen_name'] =='boltsbythebay') | (row['quoted_status.user.screen_name'] =='rawcharge') | (row['quoted_status.user.screen_name'] =='tblightning') | (row['quoted_status.in_reply_to_screen_name'] =='boltsbythebay') | (row['quoted_status.in_reply_to_screen_name'] =='rawcharge') | (row['quoted_status.in_reply_to_screen_name'] =='tblightning') | (row['retweeted_status.quoted_status.in_reply_to_screen_name'] =='boltsbythebay') | (row['retweeted_status.quoted_status.in_reply_to_screen_name'] =='rawcharge') | (row['retweeted_status.quoted_status.in_reply_to_screen_name'] =='tblightning') | ('bolts' in row['ex_hastags']) | ('bolts' in row['exrt_hastags']) | ('bolts' in row['exqt_hastags']) | ('bolts' in row['exqtrt_hastags']) | ('boltsbythebay' in row['ex_mentions']) | ('rawcharge' in row['ex_mentions']) | ('tblightning' in row['ex_mentions']) | ('boltsbythebay' in row['rt_mentions']) | ('rawcharge' in row['rt_mentions']) | ('tblightning' in row['rt_mentions']) | ('boltsbythebay' in row['qt_mentions']) | ('rawcharge' in row['qt_mentions']) | ('tblightning' in row['qt_mentions']) | ('boltsbythebay' in row['rtqt_mentions']) | ('rawcharge' in row['rtqt_mentions']) | ('tblightning' in row['rtqt_mentions']) |('boltsbythebay' in row['exrt_mentions']) | ('rawcharge' in row['exrt_mentions']) | ('tblightning' in row['exrt_mentions']) | ('boltsbythebay' in row['exqt_mentions']) | ('rawcharge' in row['exqt_mentions']) | ('tblightning' in row['exqt_mentions']) | ('boltsbythebay' in row['exrtqt_mentions']) | ('rawcharge' in row['exrtqt_mentions']) | ('tblightning' in row['exrtqt_mentions']):\n",
    "        \n",
    "        team.add('bolts')\n",
    "        \n",
    "    if (row['user.screen_name'] =='tlndc') | (row['user.screen_name'] =='editorinleaf') | (row['user.screen_name'] =='pppleafs') | (row['user.screen_name'] =='leafsnews') | ('leafs' in row['hastags']) | ('leafs' in row['rt_hastags']) | ('leafs' in row['qt_hastags']) | ('leafs' in row['qtrt_hastags']) | (row['retweeted_status.user.screen_name'] =='tlndc') | (row['retweeted_status.user.screen_name'] =='editorinleaf') | (row['retweeted_status.user.screen_name'] =='pppleafs') | (row['retweeted_status.user.screen_name'] =='leafsnews') | (row['retweeted_status.user.screen_name'] =='mapleleafs') | ('tlndc' in row['mentions']) | ('editorinleaf' in row['mentions']) | ('pppleafs' in row['mentions']) | ('leafsnews' in row['mentions']) | ('mapleleafs' in row['mentions']) | (row['in_reply_to_screen_name'] =='tlndc') | (row['in_reply_to_screen_name'] =='editorinleaf') | (row['in_reply_to_screen_name'] =='pppleafs') | (row['in_reply_to_screen_name'] =='leafsnews') | (row['in_reply_to_screen_name'] =='mapleleafs') | (row['retweeted_status.in_reply_to_screen_name'] =='tlndc') | (row['retweeted_status.in_reply_to_screen_name'] =='editorinleaf') | (row['retweeted_status.in_reply_to_screen_name'] =='pppleafs') | (row['retweeted_status.in_reply_to_screen_name'] =='leafsnews') | (row['retweeted_status.in_reply_to_screen_name'] =='mapleleafs') | (row['quoted_status.user.screen_name'] =='tlndc') | (row['quoted_status.user.screen_name'] =='editorinleaf') | (row['quoted_status.user.screen_name'] =='pppleafs') | (row['quoted_status.user.screen_name'] =='leafsnews') | (row['quoted_status.user.screen_name'] =='mapleleafs') | (row['quoted_status.in_reply_to_screen_name'] =='tlndc') | (row['quoted_status.in_reply_to_screen_name'] =='editorinleaf') | (row['quoted_status.in_reply_to_screen_name'] =='pppleafs') | (row['quoted_status.in_reply_to_screen_name'] =='leafsnews') | (row['quoted_status.in_reply_to_screen_name'] =='mapleleafs') | (row['retweeted_status.quoted_status.in_reply_to_screen_name'] =='tlndc') | (row['retweeted_status.quoted_status.in_reply_to_screen_name'] =='editorinleaf') | (row['retweeted_status.quoted_status.in_reply_to_screen_name'] =='pppleafs') | (row['retweeted_status.quoted_status.in_reply_to_screen_name'] =='leafsnews') | (row['retweeted_status.quoted_status.in_reply_to_screen_name'] =='mapleleafs') | ('leafs' in row['ex_hastags']) | ('leafs' in row['exrt_hastags']) | ('leafs' in row['exqt_hastags']) | ('leafs' in row['exqtrt_hastags']) | ('tlndc' in row['ex_mentions']) | ('editorinleaf' in row['ex_mentions']) | ('pppleafs' in row['ex_mentions']) | ('leafsnews' in row['ex_mentions']) | ('mapleleafs' in row['ex_mentions']) | ('tlndc' in row['rt_mentions']) | ('editorinleaf' in row['rt_mentions']) | ('pppleafs' in row['rt_mentions']) | ('leafsnews' in row['rt_mentions']) | ('mapleleafs' in row['rt_mentions']) | ('tlndc' in row['qt_mentions']) | ('editorinleaf' in row['qt_mentions']) | ('pppleafs' in row['qt_mentions']) | ('leafsnews' in row['qt_mentions']) | ('mapleleafs' in row['qt_mentions']) | ('tlndc' in row['rtqt_mentions']) | ('editorinleaf' in row['rtqt_mentions']) | ('pppleafs' in row['rtqt_mentions']) | ('leafsnews' in row['rtqt_mentions']) | ('mapleleafs' in row['rtqt_mentions']) | ('tlndc' in row['exrt_mentions']) | ('editorinleaf' in row['exrt_mentions']) | ('pppleafs' in row['exrt_mentions']) | ('leafsnews' in row['exrt_mentions']) | ('mapleleafs' in row['exrt_mentions']) | ('tlndc' in row['exqt_mentions']) | ('editorinleaf' in row['exqt_mentions']) | ('pppleafs' in row['exqt_mentions']) | ('leafsnews' in row['exqt_mentions']) | ('mapleleafs' in row['exqt_mentions']) | ('tlndc' in row['exrtqt_mentions']) | ('editorinleaf' in row['exrtqt_mentions']) | ('pppleafs' in row['exrtqt_mentions']) | ('leafsnews' in row['exrtqt_mentions']) | ('mapleleafs' in row['exrtqt_mentions']):\n",
    "        \n",
    "        team.add('leafs')\n",
    "        \n",
    "    if (row['user.screen_name'] =='sportsnetmurph') | (row['user.screen_name'] =='canucksarmy') | ('canucks' in row['hastags']) | ('canucks' in row['rt_hastags']) | ('canucks' in row['qt_hastags']) | ('canucks' in row['qtrt_hastags']) | (row['retweeted_status.user.screen_name'] =='sportsnetmurph') | (row['retweeted_status.user.screen_name'] =='canucksarmy') | (row['retweeted_status.user.screen_name'] =='canucks') | ('sportsnetmurph' in row['mentions']) | ('canucksarmy' in row['mentions']) | ('canucks' in row['mentions']) | (row['in_reply_to_screen_name'] =='sportsnetmurph') | (row['in_reply_to_screen_name'] =='canucksarmy') | (row['in_reply_to_screen_name'] =='canucks') | (row['retweeted_status.in_reply_to_screen_name'] =='sportsnetmurph') | (row['retweeted_status.in_reply_to_screen_name'] =='canucksarmy') | (row['retweeted_status.in_reply_to_screen_name'] =='canucks') | (row['quoted_status.user.screen_name'] =='sportsnetmurph') | (row['quoted_status.user.screen_name'] =='canucksarmy') | (row['quoted_status.user.screen_name'] =='canucks') | (row['quoted_status.in_reply_to_screen_name'] =='sportsnetmurph') | (row['quoted_status.in_reply_to_screen_name'] =='canucksarmy') | (row['quoted_status.in_reply_to_screen_name'] =='canucks') | (row['retweeted_status.quoted_status.in_reply_to_screen_name'] =='sportsnetmurph') | (row['retweeted_status.quoted_status.in_reply_to_screen_name'] =='canucksarmy') | (row['retweeted_status.quoted_status.in_reply_to_screen_name'] =='canucks') | ('canucks' in row['ex_hastags']) | ('canucks' in row['exrt_hastags']) | ('canucks' in row['exqt_hastags']) | ('canucks' in row['exqtrt_hastags']) | ('sportsnetmurph' in row['ex_mentions']) | ('canucksarmy' in row['ex_mentions']) | ('canucks' in row['ex_mentions']) | ('sportsnetmurph' in row['rt_mentions']) | ('canucksarmy' in row['rt_mentions']) | ('canucks' in row['rt_mentions']) | ('sportsnetmurph' in row['qt_mentions']) | ('canucksarmy' in row['qt_mentions']) | ('canucks' in row['qt_mentions']) | ('sportsnetmurph' in row['rtqt_mentions']) | ('canucksarmy' in row['rtqt_mentions']) | ('canucks' in row['rtqt_mentions']) |('sportsnetmurph' in row['exrt_mentions']) | ('canucksarmy' in row['exrt_mentions']) | ('canucks' in row['exrt_mentions']) | ('sportsnetmurph' in row['exqt_mentions']) | ('canucksarmy' in row['exqt_mentions']) | ('canucks' in row['exqt_mentions']) | ('sportsnetmurph' in row['exrtqt_mentions']) | ('canucksarmy' in row['exrtqt_mentions']) | ('canucks' in row['exrtqt_mentions']):\n",
    "        \n",
    "        team.add('canucks')\n",
    "        \n",
    "    if (row['user.screen_name'] =='knightsonice') | (row['user.screen_name'] =='sinbinvegas') | ('goldenknights' in row['hastags']) | ('goldenknights' in row['rt_hastags']) | ('goldenknights' in row['qt_hastags']) | ('goldenknights' in row['qtrt_hastags']) | (row['retweeted_status.user.screen_name'] =='knightsonice') | (row['retweeted_status.user.screen_name'] =='sinbinvegas') | (row['retweeted_status.user.screen_name'] =='goldenknights') | ('knightsonice' in row['mentions']) | ('sinbinvegas' in row['mentions']) | ('goldenknights' in row['mentions']) | (row['in_reply_to_screen_name'] =='knightsonice') | (row['in_reply_to_screen_name'] =='sinbinvegas') | (row['in_reply_to_screen_name'] =='goldenknights') | (row['retweeted_status.in_reply_to_screen_name'] =='knightsonice') | (row['retweeted_status.in_reply_to_screen_name'] =='sinbinvegas') | (row['retweeted_status.in_reply_to_screen_name'] =='goldenknights') | (row['quoted_status.user.screen_name'] =='knightsonice') | (row['quoted_status.user.screen_name'] =='sinbinvegas') | (row['quoted_status.user.screen_name'] =='goldenknights') | (row['quoted_status.in_reply_to_screen_name'] =='knightsonice') | (row['quoted_status.in_reply_to_screen_name'] =='sinbinvegas') | (row['quoted_status.in_reply_to_screen_name'] =='goldenknights') | (row['retweeted_status.quoted_status.in_reply_to_screen_name'] =='knightsonice') | (row['retweeted_status.quoted_status.in_reply_to_screen_name'] =='sinbinvegas') | (row['retweeted_status.quoted_status.in_reply_to_screen_name'] =='goldenknights') | ('goldenknights' in row['ex_hastags']) | ('goldenknights' in row['exrt_hastags']) | ('goldenknights' in row['exqt_hastags']) | ('goldenknights' in row['exqtrt_hastags']) | ('knightsonice' in row['ex_mentions']) | ('sinbinvegas' in row['ex_mentions']) | ('goldenknights' in row['ex_mentions']) | ('knightsonice' in row['rt_mentions']) | ('sinbinvegas' in row['rt_mentions']) | ('goldenknights' in row['rt_mentions']) | ('knightsonice' in row['qt_mentions']) | ('sinbinvegas' in row['qt_mentions']) | ('goldenknights' in row['qt_mentions']) | ('knightsonice' in row['rtqt_mentions']) | ('sinbinvegas' in row['rtqt_mentions']) | ('goldenknights' in row['rtqt_mentions']) | ('knightsonice' in row['exrt_mentions']) | ('sinbinvegas' in row['exrt_mentions']) | ('goldenknights' in row['exrt_mentions']) | ('knightsonice' in row['exqt_mentions']) | ('sinbinvegas' in row['exqt_mentions']) | ('goldenknights' in row['exqt_mentions']) | ('knightsonice' in row['exrtqt_mentions']) | ('sinbinvegas' in row['exrtqt_mentions']) | ('goldenknights' in row['exrtqt_mentions']):\n",
    "        \n",
    "        team.add('knights')\n",
    "        \n",
    "    if (row['user.screen_name'] =='japersrink') | (row['user.screen_name'] =='vogscaps') | (row['user.screen_name'] =='russianmachine') | ('caps' in row['hastags']) | ('caps' in row['rt_hastags']) | ('caps' in row['qt_hastags']) | ('caps' in row['qtrt_hastags']) | ('allcaps' in row['hastags']) | ('allcaps' in row['rt_hastags']) | ('allcaps' in row['qt_hastags']) | ('allcaps' in row['qtrt_hastags']) | (row['retweeted_status.user.screen_name'] =='japersrink') | (row['retweeted_status.user.screen_name'] =='vogscaps') | (row['retweeted_status.user.screen_name'] =='russianmachine') | (row['retweeted_status.user.screen_name'] =='capitals') | ('japersrink' in row['mentions']) | ('vogscaps' in row['mentions']) | ('russianmachine' in row['mentions']) | ('capitals' in row['mentions']) | (row['in_reply_to_screen_name'] =='japersrink') | (row['in_reply_to_screen_name'] =='vogscaps') | (row['in_reply_to_screen_name'] =='russianmachine') | (row['in_reply_to_screen_name'] =='capitals') | (row['retweeted_status.in_reply_to_screen_name'] =='japersrink') | (row['retweeted_status.in_reply_to_screen_name'] =='vogscaps') | (row['retweeted_status.in_reply_to_screen_name'] =='russianmachine') | (row['retweeted_status.in_reply_to_screen_name'] =='capitals') | (row['quoted_status.user.screen_name'] =='japersrink') | (row['quoted_status.user.screen_name'] =='vogscaps') | (row['quoted_status.user.screen_name'] =='russianmachine') | (row['quoted_status.user.screen_name'] =='capitals') | (row['quoted_status.in_reply_to_screen_name'] =='japersrink') | (row['quoted_status.in_reply_to_screen_name'] =='vogscaps') | (row['quoted_status.in_reply_to_screen_name'] =='russianmachine') | (row['quoted_status.in_reply_to_screen_name'] =='capitals') | (row['retweeted_status.quoted_status.in_reply_to_screen_name'] =='japersrink') | (row['retweeted_status.quoted_status.in_reply_to_screen_name'] =='vogscaps') | (row['retweeted_status.quoted_status.in_reply_to_screen_name'] =='russianmachine') | (row['retweeted_status.quoted_status.in_reply_to_screen_name'] =='capitals') | ('caps' in row['ex_hastags']) | ('caps' in row['exrt_hastags']) | ('caps' in row['exqt_hastags']) | ('caps' in row['exqtrt_hastags']) | ('allcaps' in row['ex_hastags']) | ('allcaps' in row['exrt_hastags']) | ('allcaps' in row['exqt_hastags']) | ('allcaps' in row['exqtrt_hastags']) | ('japersrink' in row['ex_mentions']) | ('vogscaps' in row['ex_mentions']) | ('russianmachine' in row['ex_mentions']) | ('capitals' in row['ex_mentions']) | ('japersrink' in row['rt_mentions']) | ('vogscaps' in row['rt_mentions']) | ('russianmachine' in row['rt_mentions']) | ('capitals' in row['rt_mentions']) | ('japersrink' in row['qt_mentions']) | ('vogscaps' in row['qt_mentions']) | ('russianmachine' in row['qt_mentions']) | ('capitals' in row['qt_mentions']) |('japersrink' in row['rtqt_mentions']) | ('vogscaps' in row['rtqt_mentions']) | ('russianmachine' in row['rtqt_mentions']) | ('capitals' in row['rtqt_mentions']) | ('japersrink' in row['exrt_mentions']) | ('vogscaps' in row['exrt_mentions']) | ('russianmachine' in row['exrt_mentions']) | ('capitals' in row['exrt_mentions']) | ('japersrink' in row['exqt_mentions']) | ('vogscaps' in row['exqt_mentions']) | ('russianmachine' in row['exqt_mentions']) | ('capitals' in row['exqt_mentions']) |('japersrink' in row['exrtqt_mentions']) | ('vogscaps' in row['exrtqt_mentions']) | ('russianmachine' in row['exrtqt_mentions']) | ('capitals' in row['exrtqt_mentions']):\n",
    "        \n",
    "        team.add('caps')\n",
    "        \n",
    "    if (row['user.screen_name'] == 'illegalcurve') | (row['user.screen_name'] == 'nhljetsnation') | (row['user.screen_name'] == 'arcticicehockey') | ('winnipegjets' in row['hastags']) | ('winnipegjets' in row['rt_hastags']) | ('winnipegjets' in row['qt_hastags']) | ('winnipegjets' in row['qtrt_hastags']) | (row['retweeted_status.user.screen_name'] == 'illegalcurve') | (row['retweeted_status.user.screen_name'] == 'nhljetsnation') | (row['retweeted_status.user.screen_name'] == 'arcticicehockey') | (row['retweeted_status.user.screen_name'] == 'nhljets') | ('illegalcurve' in row['mentions']) | ('nhljetsnation' in row['mentions']) | ('arcticicehockey' in row['mentions']) | ('nhljets' in row['mentions']) | (row['in_reply_to_screen_name'] == 'illegalcurve') | (row['in_reply_to_screen_name'] == 'nhljetsnation') | (row['in_reply_to_screen_name'] == 'arcticicehockey') | (row['in_reply_to_screen_name'] == 'nhljets') | (row['retweeted_status.in_reply_to_screen_name'] == 'illegalcurve') | (row['retweeted_status.in_reply_to_screen_name'] == 'nhljetsnation') | (row['retweeted_status.in_reply_to_screen_name'] == 'arcticicehockey') | (row['retweeted_status.in_reply_to_screen_name'] == 'nhljets') | (row['quoted_status.user.screen_name'] == 'illegalcurve') | (row['quoted_status.user.screen_name'] == 'nhljetsnation') | (row['quoted_status.user.screen_name'] == 'arcticicehockey') | (row['quoted_status.user.screen_name'] == 'nhljets') | (row['quoted_status.in_reply_to_screen_name'] == 'illegalcurve') | (row['quoted_status.in_reply_to_screen_name'] == 'nhljetsnation') | (row['quoted_status.in_reply_to_screen_name'] == 'arcticicehockey') | (row['quoted_status.in_reply_to_screen_name'] == 'nhljets') | (row['retweeted_status.quoted_status.in_reply_to_screen_name'] == 'illegalcurve') | (row['retweeted_status.quoted_status.in_reply_to_screen_name'] == 'nhljetsnation') | (row['retweeted_status.quoted_status.in_reply_to_screen_name'] == 'arcticicehockey') | (row['retweeted_status.quoted_status.in_reply_to_screen_name'] == 'nhljets') | ('winnipegjets' in row['ex_hastags']) | ('winnipegjets' in row['exrt_hastags']) | ('winnipegjets' in row['exqt_hastags']) | ('winnipegjets' in row['exqtrt_hastags']) | ('illegalcurve' in row['ex_mentions']) | ('nhljetsnation' in row['ex_mentions']) | ('arcticicehockey' in row['ex_mentions']) | ('nhljets' in row['ex_mentions']) | ('illegalcurve' in row['rt_mentions']) | ('nhljetsnation' in row['rt_mentions']) | ('arcticicehockey' in row['rt_mentions']) | ('nhljets' in row['rt_mentions']) | ('illegalcurve' in row['qt_mentions']) | ('nhljetsnation' in row['qt_mentions']) | ('arcticicehockey' in row['qt_mentions']) | ('nhljets' in row['qt_mentions']) | ('illegalcurve' in row['rtqt_mentions']) | ('nhljetsnation' in row['rtqt_mentions']) | ('arcticicehockey' in row['rtqt_mentions']) | ('nhljets' in row['rtqt_mentions']) | ('illegalcurve' in row['exrt_mentions']) | ('nhljetsnation' in row['exrt_mentions']) | ('arcticicehockey' in row['exrt_mentions']) | ('nhljets' in row['exrt_mentions']) | ('illegalcurve' in row['exqt_mentions']) | ('nhljetsnation' in row['exqt_mentions']) | ('arcticicehockey' in row['exqt_mentions']) | ('nhljets' in row['exqt_mentions']) | ('illegalcurve' in row['exrtqt_mentions']) | ('nhljetsnation' in row['exrtqt_mentions']) | ('arcticicehockey' in row['exrtqt_mentions']) | ('nhljets' in row['exrtqt_mentions']):\n",
    "        \n",
    "        team.add('jets')\n",
    "        \n",
    "    return team"
   ]
  },
  {
   "cell_type": "code",
   "execution_count": 19,
   "metadata": {
    "collapsed": true
   },
   "outputs": [],
   "source": [
    "hockey1['team'] = hockey1.apply(determine_team, axis=1)"
   ]
  },
  {
   "cell_type": "code",
   "execution_count": 20,
   "metadata": {
    "collapsed": true
   },
   "outputs": [],
   "source": [
    "hockey1.to_csv('hockey_tweets5.csv', sep=',')"
   ]
  }
 ],
 "metadata": {
  "kernelspec": {
   "display_name": "Python 3",
   "language": "python",
   "name": "python3"
  },
  "language_info": {
   "codemirror_mode": {
    "name": "ipython",
    "version": 3
   },
   "file_extension": ".py",
   "mimetype": "text/x-python",
   "name": "python",
   "nbconvert_exporter": "python",
   "pygments_lexer": "ipython3",
   "version": "3.6.1"
  }
 },
 "nbformat": 4,
 "nbformat_minor": 2
}

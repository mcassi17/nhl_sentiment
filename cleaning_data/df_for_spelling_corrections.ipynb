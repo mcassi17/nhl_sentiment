{
 "cells": [
  {
   "cell_type": "code",
   "execution_count": 1,
   "metadata": {
    "collapsed": true
   },
   "outputs": [],
   "source": [
    "import pandas as pd\n",
    "import numpy as np\n",
    "import preprocessor as p\n",
    "import re\n",
    "import time"
   ]
  },
  {
   "cell_type": "code",
   "execution_count": 2,
   "metadata": {
    "collapsed": true
   },
   "outputs": [],
   "source": [
    "col_dict = {\"hastags\": lambda x: x.strip(\"[]\").replace('\\'', '').split(\", \"), \"ex_hastags\": lambda x: x.strip(\"[]\").replace('\\'', '').split(\", \"), \"rt_hastags\": lambda x: x.strip(\"[]\").replace('\\'', '').split(\", \"), \"exrt_hastags\": lambda x: x.strip(\"[]\").replace('\\'', '').split(\", \"), \"qt_hastags\": lambda x: x.strip(\"[]\").replace('\\'', '').split(\", \"), \"exqt_hastags\": lambda x: x.strip(\"[]\").replace('\\'', '').split(\", \"), \"qtrt_hastags\": lambda x: x.strip(\"[]\").replace('\\'', '').split(\", \"), \"exqtrt_hastags\": lambda x: x.strip(\"[]\").replace('\\'', '').split(\", \"), \"mentions\": lambda x: x.strip(\"[]\").replace('\\'', '').split(\", \"), \"ex_mentions\": lambda x: x.strip(\"[]\").replace('\\'', '').split(\", \"), \"rt_mentions\": lambda x: x.strip(\"[]\").replace('\\'', '').split(\", \"), \"exrt_mentions\": lambda x: x.strip(\"[]\").replace('\\'', '').split(\", \"), \"qt_mentions\": lambda x: x.strip(\"[]\").replace('\\'', '').split(\", \"), \"exqt_mentions\": lambda x: x.strip(\"[]\").replace('\\'', '').split(\", \"), \"rtqt_mentions\": lambda x: x.strip(\"[]\").replace('\\'', '').split(\", \"), \"exqtrt_mentions\": lambda x: x.strip(\"[]\").replace('\\'', '').split(\", \"),\"team\": lambda x: x.strip(\"{}\").replace('\\'', '').split(\", \")}"
   ]
  },
  {
   "cell_type": "code",
   "execution_count": 3,
   "metadata": {},
   "outputs": [],
   "source": [
    "hockey1 = pd.read_csv('/Users/matthewcassi/Documents/nhl_sentiment/clean_data/hockey_tweets1.csv', converters=col_dict)\n",
    "hockey2 = pd.read_csv('/Users/matthewcassi/Documents/nhl_sentiment/clean_data/hockey_tweets2.csv', converters=col_dict)\n",
    "hockey3 = pd.read_csv('/Users/matthewcassi/Documents/nhl_sentiment/clean_data/hockey_tweets3.csv', converters=col_dict)\n",
    "hockey4 = pd.read_csv('/Users/matthewcassi/Documents/nhl_sentiment/clean_data/hockey_tweets4.csv', converters=col_dict)\n",
    "hockey5 = pd.read_csv('/Users/matthewcassi/Documents/nhl_sentiment/clean_data/hockey_tweets5.csv', converters=col_dict)\n",
    "hockey6 = pd.read_csv('/Users/matthewcassi/Documents/nhl_sentiment/clean_data/hockey_tweets6.csv', converters=col_dict)\n",
    "hockey7 = pd.read_csv('/Users/matthewcassi/Documents/nhl_sentiment/clean_data/hockey_tweets7.csv', converters=col_dict)\n",
    "hockey8 = pd.read_csv('/Users/matthewcassi/Documents/nhl_sentiment/clean_data/hockey_tweets8.csv', converters=col_dict)\n",
    "hockey9 = pd.read_csv('/Users/matthewcassi/Documents/nhl_sentiment/clean_data/hockey_tweets9.csv', converters=col_dict)\n",
    "hockey10 = pd.read_csv('/Users/matthewcassi/Documents/nhl_sentiment/clean_data/hockey_tweets10.csv', converters=col_dict)"
   ]
  },
  {
   "cell_type": "code",
   "execution_count": 4,
   "metadata": {
    "collapsed": true
   },
   "outputs": [],
   "source": [
    "hockey1 = hockey1.drop('Unnamed: 0', 1)\n",
    "hockey2 = hockey2.drop('Unnamed: 0', 1)\n",
    "hockey3 = hockey3.drop('Unnamed: 0', 1)\n",
    "hockey4 = hockey4.drop('Unnamed: 0', 1)\n",
    "hockey5 = hockey5.drop('Unnamed: 0', 1)\n",
    "hockey6 = hockey6.drop('Unnamed: 0', 1)\n",
    "hockey7 = hockey7.drop('Unnamed: 0', 1)\n",
    "hockey8 = hockey8.drop('Unnamed: 0', 1)\n",
    "hockey9 = hockey9.drop('Unnamed: 0', 1)\n",
    "hockey10 = hockey10.drop('Unnamed: 0', 1)"
   ]
  },
  {
   "cell_type": "code",
   "execution_count": 5,
   "metadata": {
    "collapsed": true
   },
   "outputs": [],
   "source": [
    "hockey = pd.concat([hockey1, hockey2, hockey3, hockey4, hockey5, hockey6, hockey7, hockey8,hockey9,hockey10], axis=0).reset_index()"
   ]
  },
  {
   "cell_type": "code",
   "execution_count": 6,
   "metadata": {},
   "outputs": [
    {
     "data": {
      "text/plain": [
       "424751"
      ]
     },
     "execution_count": 6,
     "metadata": {},
     "output_type": "execute_result"
    }
   ],
   "source": [
    "len(hockey)"
   ]
  },
  {
   "cell_type": "code",
   "execution_count": 7,
   "metadata": {
    "collapsed": true
   },
   "outputs": [],
   "source": [
    "def text_column(row, col1, col2):\n",
    "    text = row[col1]\n",
    "    if (type(row[col1]) == str) & (type(row[col2]) == str):\n",
    "        text = row[col2]\n",
    "    return text"
   ]
  },
  {
   "cell_type": "code",
   "execution_count": 8,
   "metadata": {
    "collapsed": true
   },
   "outputs": [],
   "source": [
    "hockey['tweet'] = hockey.apply(text_column, axis=1, col1='text', col2='extended_tweet.full_text')\n",
    "hockey['retweet'] = hockey.apply(text_column, axis=1, col1='retweeted_status.text', col2='retweeted_status.extended_tweet.full_text')\n",
    "hockey['quote'] = hockey.apply(text_column, axis=1, col1='quoted_status.text', col2='quoted_status.extended_tweet.full_text')\n",
    "hockey['retweet_quote'] = hockey.apply(text_column, axis=1, col1='retweeted_status.quoted_status.text', col2='retweeted_status.quoted_status.extended_tweet.full_text')"
   ]
  },
  {
   "cell_type": "code",
   "execution_count": 9,
   "metadata": {
    "collapsed": true
   },
   "outputs": [],
   "source": [
    "hockey['tweet_1'] = hockey.apply(text_column, axis=1, col1='tweet', col2='retweet')\n",
    "hockey['tweet_2'] = hockey.apply(text_column, axis=1, col1='quote', col2='retweet_quote')"
   ]
  },
  {
   "cell_type": "code",
   "execution_count": 10,
   "metadata": {
    "collapsed": true
   },
   "outputs": [],
   "source": [
    "hockey['created_at'] = pd.to_datetime(hockey['created_at'])"
   ]
  },
  {
   "cell_type": "code",
   "execution_count": 11,
   "metadata": {
    "collapsed": true
   },
   "outputs": [],
   "source": [
    "hockey['hour'] = hockey['created_at'].apply(lambda x: x.hour)"
   ]
  },
  {
   "cell_type": "code",
   "execution_count": 12,
   "metadata": {
    "collapsed": true
   },
   "outputs": [],
   "source": [
    "hockey = hockey.drop(['text','extended_tweet.full_text','retweeted_status.text','retweeted_status.extended_tweet.full_text','quoted_status.text','quoted_status.extended_tweet.full_text','retweeted_status.quoted_status.text','retweeted_status.quoted_status.extended_tweet.full_text','tweet','retweet','quote','retweet_quote'], 1)"
   ]
  },
  {
   "cell_type": "code",
   "execution_count": 13,
   "metadata": {
    "collapsed": true
   },
   "outputs": [],
   "source": [
    "def non_hockey(row, col, sub):\n",
    "    non_hockey_bool = True\n",
    "    if type(row[col]) != float:\n",
    "        non_hockey_bool = sub not in row[col]\n",
    "    return non_hockey_bool"
   ]
  },
  {
   "cell_type": "code",
   "execution_count": 14,
   "metadata": {},
   "outputs": [
    {
     "name": "stdout",
     "output_type": "stream",
     "text": [
      "424621\n"
     ]
    }
   ],
   "source": [
    "# eat #fish\n",
    "filter1 = hockey.apply(non_hockey, axis=1, col='tweet_1', sub='eat #fish')\n",
    "hockey = hockey[filter1].reset_index(drop=True)\n",
    "\n",
    "filter2 = hockey.apply(non_hockey, axis=1, col='tweet_2', sub='eat #fish')\n",
    "hockey = hockey[filter2].reset_index(drop=True)\n",
    "print(len(hockey))"
   ]
  },
  {
   "cell_type": "code",
   "execution_count": 15,
   "metadata": {},
   "outputs": [
    {
     "name": "stdout",
     "output_type": "stream",
     "text": [
      "424039\n"
     ]
    }
   ],
   "source": [
    "# miami hurricanes\n",
    "filter1 = hockey.apply(non_hockey, axis=1, col='tweet_1', sub='miami hurricanes')\n",
    "hockey = hockey[filter1].reset_index(drop=True)\n",
    "\n",
    "filter2 = hockey.apply(non_hockey, axis=1, col='tweet_2', sub='miami hurricanes')\n",
    "hockey = hockey[filter2].reset_index(drop=True)\n",
    "print(len(hockey))"
   ]
  },
  {
   "cell_type": "code",
   "execution_count": 16,
   "metadata": {},
   "outputs": [
    {
     "name": "stdout",
     "output_type": "stream",
     "text": [
      "424034\n"
     ]
    }
   ],
   "source": [
    "# stanley the #swan\n",
    "filter1 = hockey.apply(non_hockey, axis=1, col='tweet_1', sub='stanley the #swan')\n",
    "hockey = hockey[filter1].reset_index(drop=True)\n",
    "\n",
    "filter2 = hockey.apply(non_hockey, axis=1, col='tweet_2', sub='stanley the #swan')\n",
    "hockey = hockey[filter2].reset_index(drop=True)\n",
    "print(len(hockey))"
   ]
  },
  {
   "cell_type": "code",
   "execution_count": 17,
   "metadata": {},
   "outputs": [
    {
     "name": "stdout",
     "output_type": "stream",
     "text": [
      "422661\n"
     ]
    }
   ],
   "source": [
    "# #trending #video #shark #sharktank\n",
    "filter1 = hockey.apply(non_hockey, axis=1, col='tweet_1', sub='#trending #video #shark #sharktank')\n",
    "hockey = hockey[filter1].reset_index(drop=True)\n",
    "\n",
    "filter2 = hockey.apply(non_hockey, axis=1, col='tweet_2', sub='#trending #video #shark #sharktank')\n",
    "hockey = hockey[filter2].reset_index(drop=True)\n",
    "print(len(hockey))"
   ]
  },
  {
   "cell_type": "code",
   "execution_count": 18,
   "metadata": {},
   "outputs": [
    {
     "name": "stdout",
     "output_type": "stream",
     "text": [
      "422660\n"
     ]
    }
   ],
   "source": [
    "# our @natureecoevo paper\n",
    "filter1 = hockey.apply(non_hockey, axis=1, col='tweet_1', sub='our @natureecoevo paper')\n",
    "hockey = hockey[filter1].reset_index(drop=True)\n",
    "\n",
    "filter2 = hockey.apply(non_hockey, axis=1, col='tweet_2', sub='our @natureecoevo paper')\n",
    "hockey = hockey[filter2].reset_index(drop=True)\n",
    "print(len(hockey))"
   ]
  },
  {
   "cell_type": "code",
   "execution_count": 19,
   "metadata": {},
   "outputs": [
    {
     "name": "stdout",
     "output_type": "stream",
     "text": [
      "422655\n"
     ]
    }
   ],
   "source": [
    "# #derbyshire\n",
    "filter1 = hockey.apply(non_hockey, axis=1, col='tweet_1', sub='#derbyshire')\n",
    "hockey = hockey[filter1].reset_index(drop=True)\n",
    "\n",
    "filter2 = hockey.apply(non_hockey, axis=1, col='tweet_2', sub='#derbyshire')\n",
    "hockey = hockey[filter2].reset_index(drop=True)\n",
    "print(len(hockey))"
   ]
  },
  {
   "cell_type": "code",
   "execution_count": 20,
   "metadata": {},
   "outputs": [
    {
     "name": "stdout",
     "output_type": "stream",
     "text": [
      "422651\n"
     ]
    }
   ],
   "source": [
    "# #naturalengland\n",
    "filter1 = hockey.apply(non_hockey, axis=1, col='tweet_1', sub='#naturalengland')\n",
    "hockey = hockey[filter1].reset_index(drop=True)\n",
    "\n",
    "filter2 = hockey.apply(non_hockey, axis=1, col='tweet_2', sub='#naturalengland')\n",
    "hockey = hockey[filter2].reset_index(drop=True)\n",
    "print(len(hockey))"
   ]
  },
  {
   "cell_type": "code",
   "execution_count": 21,
   "metadata": {},
   "outputs": [
    {
     "name": "stdout",
     "output_type": "stream",
     "text": [
      "422648\n"
     ]
    }
   ],
   "source": [
    "# #alps\n",
    "filter1 = hockey.apply(non_hockey, axis=1, col='tweet_1', sub='#alps')\n",
    "hockey = hockey[filter1].reset_index(drop=True)\n",
    "\n",
    "filter2 = hockey.apply(non_hockey, axis=1, col='tweet_2', sub='#alps')\n",
    "hockey = hockey[filter2].reset_index(drop=True)\n",
    "print(len(hockey))"
   ]
  },
  {
   "cell_type": "code",
   "execution_count": 22,
   "metadata": {},
   "outputs": [
    {
     "name": "stdout",
     "output_type": "stream",
     "text": [
      "422168\n"
     ]
    }
   ],
   "source": [
    "# #iheartawards\n",
    "filter1 = hockey.apply(non_hockey, axis=1, col='tweet_1', sub='#iheartawards')\n",
    "hockey = hockey[filter1].reset_index(drop=True)\n",
    "\n",
    "filter2 = hockey.apply(non_hockey, axis=1, col='tweet_2', sub='#iheartawards')\n",
    "hockey = hockey[filter2].reset_index(drop=True)\n",
    "print(len(hockey))"
   ]
  },
  {
   "cell_type": "code",
   "execution_count": 23,
   "metadata": {},
   "outputs": [
    {
     "name": "stdout",
     "output_type": "stream",
     "text": [
      "422167\n"
     ]
    }
   ],
   "source": [
    "# @floridaaquarium\n",
    "filter1 = hockey.apply(non_hockey, axis=1, col='tweet_1', sub='@floridaaquarium')\n",
    "hockey = hockey[filter1].reset_index(drop=True)\n",
    "\n",
    "filter2 = hockey.apply(non_hockey, axis=1, col='tweet_2', sub='@floridaaquarium')\n",
    "hockey = hockey[filter2].reset_index(drop=True)\n",
    "print(len(hockey))"
   ]
  },
  {
   "cell_type": "code",
   "execution_count": 24,
   "metadata": {},
   "outputs": [
    {
     "name": "stdout",
     "output_type": "stream",
     "text": [
      "422162\n"
     ]
    }
   ],
   "source": [
    "# #fairylights\n",
    "filter1 = hockey.apply(non_hockey, axis=1, col='tweet_1', sub='#fairylights')\n",
    "hockey = hockey[filter1].reset_index(drop=True)\n",
    "\n",
    "filter2 = hockey.apply(non_hockey, axis=1, col='tweet_2', sub='#fairylights')\n",
    "hockey = hockey[filter2].reset_index(drop=True)\n",
    "print(len(hockey))"
   ]
  },
  {
   "cell_type": "code",
   "execution_count": 25,
   "metadata": {},
   "outputs": [
    {
     "name": "stdout",
     "output_type": "stream",
     "text": [
      "421924\n"
     ]
    }
   ],
   "source": [
    "# #northernlights\n",
    "filter1 = hockey.apply(non_hockey, axis=1, col='tweet_1', sub='#northernlights')\n",
    "hockey = hockey[filter1].reset_index(drop=True)\n",
    "\n",
    "filter2 = hockey.apply(non_hockey, axis=1, col='tweet_2', sub='#northernlights')\n",
    "hockey = hockey[filter2].reset_index(drop=True)\n",
    "print(len(hockey))"
   ]
  },
  {
   "cell_type": "code",
   "execution_count": 26,
   "metadata": {},
   "outputs": [
    {
     "name": "stdout",
     "output_type": "stream",
     "text": [
      "421923\n"
     ]
    }
   ],
   "source": [
    "# lacazette\n",
    "filter1 = hockey.apply(non_hockey, axis=1, col='tweet_1', sub='lacazette')\n",
    "hockey = hockey[filter1].reset_index(drop=True)\n",
    "\n",
    "filter2 = hockey.apply(non_hockey, axis=1, col='tweet_2', sub='lacazette')\n",
    "hockey = hockey[filter2].reset_index(drop=True)\n",
    "print(len(hockey))"
   ]
  },
  {
   "cell_type": "code",
   "execution_count": 27,
   "metadata": {},
   "outputs": [
    {
     "name": "stdout",
     "output_type": "stream",
     "text": [
      "419533\n"
     ]
    }
   ],
   "source": [
    "# #realtor\n",
    "filter1 = hockey.apply(non_hockey, axis=1, col='tweet_1', sub='#realtor')\n",
    "hockey = hockey[filter1].reset_index(drop=True)\n",
    "\n",
    "filter2 = hockey.apply(non_hockey, axis=1, col='tweet_2', sub='#realtor')\n",
    "hockey = hockey[filter2].reset_index(drop=True)\n",
    "print(len(hockey))"
   ]
  },
  {
   "cell_type": "code",
   "execution_count": 28,
   "metadata": {},
   "outputs": [
    {
     "name": "stdout",
     "output_type": "stream",
     "text": [
      "419445\n"
     ]
    }
   ],
   "source": [
    "# #sportfishing\n",
    "filter1 = hockey.apply(non_hockey, axis=1, col='tweet_1', sub='#sportfishing')\n",
    "hockey = hockey[filter1].reset_index(drop=True)\n",
    "\n",
    "filter2 = hockey.apply(non_hockey, axis=1, col='tweet_2', sub='#sportfishing')\n",
    "hockey = hockey[filter2].reset_index(drop=True)\n",
    "print(len(hockey))"
   ]
  },
  {
   "cell_type": "code",
   "execution_count": 29,
   "metadata": {},
   "outputs": [
    {
     "name": "stdout",
     "output_type": "stream",
     "text": [
      "419435\n"
     ]
    }
   ],
   "source": [
    "# @thestateoftheu\n",
    "filter1 = hockey.apply(non_hockey, axis=1, col='tweet_1', sub='@thestateoftheu')\n",
    "hockey = hockey[filter1].reset_index(drop=True)\n",
    "\n",
    "filter2 = hockey.apply(non_hockey, axis=1, col='tweet_2', sub='@thestateoftheu')\n",
    "hockey = hockey[filter2].reset_index(drop=True)\n",
    "print(len(hockey))"
   ]
  },
  {
   "cell_type": "code",
   "execution_count": 30,
   "metadata": {},
   "outputs": [
    {
     "name": "stdout",
     "output_type": "stream",
     "text": [
      "419421\n"
     ]
    }
   ],
   "source": [
    "# @peterariz\n",
    "filter1 = hockey.apply(non_hockey, axis=1, col='tweet_1', sub='@peterariz')\n",
    "hockey = hockey[filter1].reset_index(drop=True)\n",
    "\n",
    "filter2 = hockey.apply(non_hockey, axis=1, col='tweet_2', sub='@peterariz')\n",
    "hockey = hockey[filter2].reset_index(drop=True)\n",
    "print(len(hockey))"
   ]
  },
  {
   "cell_type": "code",
   "execution_count": 31,
   "metadata": {},
   "outputs": [
    {
     "name": "stdout",
     "output_type": "stream",
     "text": [
      "419421\n"
     ]
    }
   ],
   "source": [
    "# @dougrrose\n",
    "filter1 = hockey.apply(non_hockey, axis=1, col='tweet_1', sub='@dougrrose')\n",
    "hockey = hockey[filter1].reset_index(drop=True)\n",
    "\n",
    "filter2 = hockey.apply(non_hockey, axis=1, col='tweet_2', sub='@dougrrose')\n",
    "hockey = hockey[filter2].reset_index(drop=True)\n",
    "print(len(hockey))"
   ]
  },
  {
   "cell_type": "code",
   "execution_count": 32,
   "metadata": {},
   "outputs": [
    {
     "name": "stdout",
     "output_type": "stream",
     "text": [
      "419391\n"
     ]
    }
   ],
   "source": [
    "# @bts_bighit\n",
    "filter1 = hockey.apply(non_hockey, axis=1, col='tweet_1', sub='@bts_bighit')\n",
    "hockey = hockey[filter1].reset_index(drop=True)\n",
    "\n",
    "filter2 = hockey.apply(non_hockey, axis=1, col='tweet_2', sub='@bts_bighit')\n",
    "hockey = hockey[filter2].reset_index(drop=True)\n",
    "print(len(hockey))"
   ]
  },
  {
   "cell_type": "code",
   "execution_count": 33,
   "metadata": {},
   "outputs": [
    {
     "name": "stdout",
     "output_type": "stream",
     "text": [
      "419286\n"
     ]
    }
   ],
   "source": [
    "# #couponcode\n",
    "filter1 = hockey.apply(non_hockey, axis=1, col='tweet_1', sub='#couponcode')\n",
    "hockey = hockey[filter1].reset_index(drop=True)\n",
    "\n",
    "filter2 = hockey.apply(non_hockey, axis=1, col='tweet_2', sub='#couponcode')\n",
    "hockey = hockey[filter2].reset_index(drop=True)\n",
    "print(len(hockey))"
   ]
  },
  {
   "cell_type": "code",
   "execution_count": 34,
   "metadata": {},
   "outputs": [
    {
     "name": "stdout",
     "output_type": "stream",
     "text": [
      "419223\n",
      "419188\n",
      "419188\n",
      "419186\n",
      "418862\n"
     ]
    }
   ],
   "source": [
    "# donald trump\n",
    "trump1 = hockey.apply(non_hockey, axis=1, col='tweet_1', sub='donald trump')\n",
    "hockey = hockey[trump1].reset_index(drop=True)\n",
    "\n",
    "trump2 = hockey.apply(non_hockey, axis=1, col='tweet_2', sub='donald trump')\n",
    "hockey = hockey[trump2].reset_index(drop=True)\n",
    "print(len(hockey))\n",
    "\n",
    "# stormydaniels\n",
    "stormy1 = hockey.apply(non_hockey, axis=1, col='tweet_1', sub='#stormydaniels')\n",
    "hockey = hockey[stormy1].reset_index(drop=True)\n",
    "\n",
    "stormy2 = hockey.apply(non_hockey, axis=1, col='tweet_2', sub='#stormydaniels')\n",
    "hockey = hockey[stormy2].reset_index(drop=True)\n",
    "print(len(hockey))\n",
    "\n",
    "# magnetic field\n",
    "magnet1 = hockey.apply(non_hockey, axis=1, col='tweet_1', sub='#magneticfield')\n",
    "hockey = hockey[magnet1].reset_index(drop=True)\n",
    "\n",
    "magnet2 = hockey.apply(non_hockey, axis=1, col='tweet_2', sub='#magneticfield')\n",
    "hockey = hockey[magnet2].reset_index(drop=True)\n",
    "print(len(hockey))\n",
    "\n",
    "# @solarham\n",
    "solar1 = hockey.apply(non_hockey, axis=1, col='tweet_1', sub='@solarham')\n",
    "hockey = hockey[solar1].reset_index(drop=True)\n",
    "\n",
    "solar2 = hockey.apply(non_hockey, axis=1, col='tweet_2', sub='@solarham')\n",
    "hockey = hockey[solar2].reset_index(drop=True)\n",
    "print(len(hockey))\n",
    "\n",
    "# #trump\n",
    "trump1 = hockey.apply(non_hockey, axis=1, col='tweet_1', sub='#trump')\n",
    "hockey = hockey[trump1].reset_index(drop=True)\n",
    "\n",
    "trump2 = hockey.apply(non_hockey, axis=1, col='tweet_2', sub='#trump')\n",
    "hockey = hockey[trump2].reset_index(drop=True)\n",
    "print(len(hockey))"
   ]
  },
  {
   "cell_type": "code",
   "execution_count": 35,
   "metadata": {},
   "outputs": [
    {
     "name": "stdout",
     "output_type": "stream",
     "text": [
      "418774\n"
     ]
    }
   ],
   "source": [
    "# #espn300\n",
    "espn1 = hockey.apply(non_hockey, axis=1, col='tweet_1', sub='#espn300')\n",
    "hockey = hockey[espn1].reset_index(drop=True)\n",
    "\n",
    "espn2 = hockey.apply(non_hockey, axis=1, col='tweet_2', sub='#espn300')\n",
    "hockey = hockey[espn2].reset_index(drop=True)\n",
    "print(len(hockey))"
   ]
  },
  {
   "cell_type": "code",
   "execution_count": 36,
   "metadata": {},
   "outputs": [
    {
     "name": "stdout",
     "output_type": "stream",
     "text": [
      "418688\n"
     ]
    }
   ],
   "source": [
    "# #stormhour\n",
    "strmhour1 = hockey.apply(non_hockey, axis=1, col='tweet_1', sub='#stormhour')\n",
    "hockey = hockey[strmhour1].reset_index(drop=True)\n",
    "\n",
    "strmhour2 = hockey.apply(non_hockey, axis=1, col='tweet_2', sub='#stormhour')\n",
    "hockey = hockey[strmhour2].reset_index(drop=True)\n",
    "print(len(hockey))"
   ]
  },
  {
   "cell_type": "code",
   "execution_count": 37,
   "metadata": {},
   "outputs": [
    {
     "name": "stdout",
     "output_type": "stream",
     "text": [
      "411719\n"
     ]
    }
   ],
   "source": [
    "# @kristinewmusic\n",
    "music1 = hockey.apply(non_hockey, axis=1, col='tweet_1', sub='@kristinewmusic')\n",
    "hockey = hockey[music1].reset_index(drop=True)\n",
    "\n",
    "music2 = hockey.apply(non_hockey, axis=1, col='tweet_2', sub='@kristinewmusic')\n",
    "hockey = hockey[music2].reset_index(drop=True)\n",
    "print(len(hockey))"
   ]
  },
  {
   "cell_type": "code",
   "execution_count": 38,
   "metadata": {},
   "outputs": [
    {
     "name": "stdout",
     "output_type": "stream",
     "text": [
      "411707\n"
     ]
    }
   ],
   "source": [
    "# #marinelife\n",
    "marine1 = hockey.apply(non_hockey, axis=1, col='tweet_1', sub='#marinelife')\n",
    "hockey = hockey[marine1].reset_index(drop=True)\n",
    "\n",
    "marine2 = hockey.apply(non_hockey, axis=1, col='tweet_2', sub='#marinelife')\n",
    "hockey = hockey[marine2].reset_index(drop=True)\n",
    "print(len(hockey))"
   ]
  },
  {
   "cell_type": "code",
   "execution_count": 39,
   "metadata": {},
   "outputs": [
    {
     "name": "stdout",
     "output_type": "stream",
     "text": [
      "411660\n"
     ]
    }
   ],
   "source": [
    "# @oceana\n",
    "oceana1 = hockey.apply(non_hockey, axis=1, col='tweet_1', sub='@oceana')\n",
    "hockey = hockey[oceana1].reset_index(drop=True)\n",
    "\n",
    "oceana2 = hockey.apply(non_hockey, axis=1, col='tweet_2', sub='@oceana')\n",
    "hockey = hockey[oceana2].reset_index(drop=True)\n",
    "print(len(hockey))"
   ]
  },
  {
   "cell_type": "code",
   "execution_count": 40,
   "metadata": {},
   "outputs": [
    {
     "name": "stdout",
     "output_type": "stream",
     "text": [
      "411656\n"
     ]
    }
   ],
   "source": [
    "# @jaceticot\n",
    "jacet1 = hockey.apply(non_hockey, axis=1, col='tweet_1', sub='@jaceticot')\n",
    "hockey = hockey[jacet1].reset_index(drop=True)\n",
    "\n",
    "jacet2 = hockey.apply(non_hockey, axis=1, col='tweet_2', sub='@jaceticot')\n",
    "hockey = hockey[jacet2].reset_index(drop=True)\n",
    "print(len(hockey))"
   ]
  },
  {
   "cell_type": "code",
   "execution_count": 41,
   "metadata": {},
   "outputs": [
    {
     "name": "stdout",
     "output_type": "stream",
     "text": [
      "411656\n"
     ]
    }
   ],
   "source": [
    "# #mcmsharksxx\n",
    "shark1 = hockey.apply(non_hockey, axis=1, col='tweet_1', sub='#mcmsharksxx')\n",
    "hockey = hockey[shark1].reset_index(drop=True)\n",
    "\n",
    "shark2 = hockey.apply(non_hockey, axis=1, col='tweet_2', sub='#mcmsharksxx')\n",
    "hockey = hockey[shark2].reset_index(drop=True)\n",
    "print(len(hockey))"
   ]
  },
  {
   "cell_type": "code",
   "execution_count": 42,
   "metadata": {},
   "outputs": [
    {
     "name": "stdout",
     "output_type": "stream",
     "text": [
      "411598\n"
     ]
    }
   ],
   "source": [
    "# #sharkscience\n",
    "science1 = hockey.apply(non_hockey, axis=1, col='tweet_1', sub='#sharkscience')\n",
    "hockey = hockey[science1].reset_index(drop=True)\n",
    "\n",
    "science2 = hockey.apply(non_hockey, axis=1, col='tweet_2', sub='#sharkscience')\n",
    "hockey = hockey[science2].reset_index(drop=True)\n",
    "print(len(hockey))"
   ]
  },
  {
   "cell_type": "code",
   "execution_count": 43,
   "metadata": {},
   "outputs": [
    {
     "name": "stdout",
     "output_type": "stream",
     "text": [
      "411597\n"
     ]
    }
   ],
   "source": [
    "# @seethemilkyway\n",
    "milky1 = hockey.apply(non_hockey, axis=1, col='tweet_1', sub='@seethemilkyway')\n",
    "hockey = hockey[milky1].reset_index(drop=True)\n",
    "\n",
    "milky2 = hockey.apply(non_hockey, axis=1, col='tweet_2', sub='@seethemilkyway')\n",
    "hockey = hockey[milky2].reset_index(drop=True)\n",
    "print(len(hockey))"
   ]
  },
  {
   "cell_type": "code",
   "execution_count": 44,
   "metadata": {
    "collapsed": true
   },
   "outputs": [],
   "source": [
    "# row wise function to remove URLs and emojis. takes a row and a column\n",
    "def remove_urls(row, col):\n",
    "    # set tweet preprocessing to remove emojis and URLs\n",
    "    p.set_options(p.OPT.URL, p.OPT.EMOJI, p.OPT.HASHTAG, p.OPT.MENTION, p.OPT.SMILEY)\n",
    "    \n",
    "    # remove emojis and URLs from the column\n",
    "    if type(row[col]) == str:\n",
    "        return p.clean(row[col])"
   ]
  },
  {
   "cell_type": "code",
   "execution_count": 45,
   "metadata": {
    "collapsed": true
   },
   "outputs": [],
   "source": [
    "hockey['tweet_1'] = hockey.apply(remove_urls, axis=1, col='tweet_1')\n",
    "hockey['tweet_2'] = hockey.apply(remove_urls, axis=1, col='tweet_2')"
   ]
  },
  {
   "cell_type": "code",
   "execution_count": 46,
   "metadata": {
    "collapsed": true
   },
   "outputs": [],
   "source": [
    "# tweet_1 Column\n",
    "\n",
    "# replace the rt with nothing at the front of all tweet_1 columns\n",
    "hockey['tweet_1'] = hockey['tweet_1'].str.replace(r'(?<![a-z])rt(?![a-z])', '', case=False)\n",
    "# replace u/U with you\n",
    "hockey['tweet_1'] = hockey['tweet_1'].str.replace(r'(?<![a-z])u(?![a-z])', 'you', case=False) \n",
    "# replace r with are\n",
    "hockey['tweet_1'] = hockey['tweet_1'].str.replace(r'(?<![a-z])r(?![a-z])', 'are', case=False)\n",
    "# replace r with are\n",
    "hockey['tweet_1'] = hockey['tweet_1'].str.replace(r'(?<![a-z])r(?![a-z])', 'are', case=False)\n",
    "# replace r with are\n",
    "hockey['tweet_1'] = hockey['tweet_1'].str.replace(r'(?<![a-z])r(?![a-z])', 'are', case=False)\n",
    "# replace thx with thanks\n",
    "hockey['tweet_1'] = hockey['tweet_1'].str.replace(r'(?<![a-z])thx(?![a-z])', 'thanks', case=False)\n",
    "# replace ur with your\n",
    "hockey['tweet_1'] = hockey['tweet_1'].str.replace(r'(?<![a-z])ur(?![a-z])', 'your', case=False)\n",
    "# replace bc with because\n",
    "hockey['tweet_1'] = hockey['tweet_1'].str.replace(r'(?<![a-z])bc(?![a-z])', 'because', case=False)\n",
    "# replace abt with about\n",
    "hockey['tweet_1'] = hockey['tweet_1'].str.replace(r'(?<![a-z])abt(?![a-z])', 'about', case=False)\n",
    "# replace txt with tweet_1\n",
    "hockey['tweet_1'] = hockey['tweet_1'].str.replace(r'(?<![a-z])txt(?![a-z])', 'tweet_1', case=False)\n",
    "# replace fb with facebook\n",
    "hockey['tweet_1'] = hockey['tweet_1'].str.replace(r'(?<![a-z])fb(?![a-z])', 'facebook', case=False)\n",
    "# replace w with with\n",
    "hockey['tweet_1'] = hockey['tweet_1'].str.replace(r'(?<![a-z])w(?![a-z])', 'with', case=False)\n",
    "# replace b4 with before\n",
    "hockey['tweet_1'] = hockey['tweet_1'].str.replace(r'(?<![a-z])b4(?![a-z])', 'before', case=False)\n",
    "# replace ast with assist\n",
    "hockey['tweet_1'] = hockey['tweet_1'].str.replace(r'(?<![a-z])ast(?![a-z])', 'assist', case=False)\n",
    "# replace tgif with thank god its friday\n",
    "hockey['tweet_1'] = hockey['tweet_1'].str.replace(r'(?<![a-z])tgif(?![a-z])', 'thank god its friday', case=False)\n",
    "# replace ily with i love you\n",
    "hockey['tweet_1'] = hockey['tweet_1'].str.replace(r'(?<![a-z])ily(?![a-z])', 'i love you', case=False)\n",
    "# replace irl with in real life\n",
    "hockey['tweet_1'] = hockey['tweet_1'].str.replace(r'(?<![a-z])irl(?![a-z])', 'in real life', case=False)\n",
    "# replace idk with i dont know\n",
    "hockey['tweet_1'] = hockey['tweet_1'].str.replace(r'(?<![a-z])idk(?![a-z])', 'i dont know', case=False)\n",
    "# replace ftw with for the win\n",
    "hockey['tweet_1'] = hockey['tweet_1'].str.replace(r'(?<![a-z])ftw(?![a-z])', 'for the win', case=False)\n",
    "# replace idc with i dont care\n",
    "hockey['tweet_1'] = hockey['tweet_1'].str.replace(r'(?<![a-z])idc(?![a-z])', 'i dont care', case=False)\n",
    "# replace tbt with throwback thursday\n",
    "hockey['tweet_1'] = hockey['tweet_1'].str.replace(r'(?<![a-z])tbt(?![a-z])', 'throwback thursday', case=False)\n",
    "# replace tbh with to be honest\n",
    "hockey['tweet_1'] = hockey['tweet_1'].str.replace(r'(?<![a-z])tbh(?![a-z])', 'to be honest', case=False)\n",
    "# replace tfw with that face when\n",
    "hockey['tweet_1'] = hockey['tweet_1'].str.replace(r'(?<![a-z])tfw(?![a-z])', 'that face when', case=False)\n",
    "# replace qotd with quote of the day\n",
    "hockey['tweet_1'] = hockey['tweet_1'].str.replace(r'(?<![a-z])qotd(?![a-z])', 'quote of the day', case=False)\n",
    "# replace bff with best friends forever\n",
    "hockey['tweet_1'] = hockey['tweet_1'].str.replace(r'(?<![a-z])bff(?![a-z])', 'best friends forever', case=False)\n",
    "# replace jk with just kidding\n",
    "hockey['tweet_1'] = hockey['tweet_1'].str.replace(r'(?<![a-z])jk(?![a-z])', 'just kidding', case=False)\n",
    "# replace smh with shaking my head\n",
    "hockey['tweet_1'] = hockey['tweet_1'].str.replace(r'(?<![a-z])smh(?![a-z])', 'shaking my head', case=False)\n",
    "# replace btw with by the way\n",
    "hockey['tweet_1'] = hockey['tweet_1'].str.replace(r'(?<![a-z])btw(?![a-z])', 'by the way', case=False)\n",
    "# replace imo with in my opinion\n",
    "hockey['tweet_1'] = hockey['tweet_1'].str.replace(r'(?<![a-z])imo(?![a-z])', 'in my opinion', case=False)\n",
    "# replace imho with in my honest opinion\n",
    "hockey['tweet_1'] = hockey['tweet_1'].str.replace(r'(?<![a-z])imho(?![a-z])', 'in my honest opinion', case=False)\n",
    "# replace icymi with in case you missed it\n",
    "hockey['tweet_1'] = hockey['tweet_1'].str.replace(r'(?<![a-z])icymi(?![a-z])', 'in case you missed it', case=False)\n",
    "# replace lol with laugh out loud\n",
    "hockey['tweet_1'] = hockey['tweet_1'].str.replace(r'(?<![a-z])lol(?![a-z])', 'laugh out loud', case=False)\n",
    "# replace fwiw with for what its worth\n",
    "hockey['tweet_1'] = hockey['tweet_1'].str.replace(r'(?<![a-z])fwiw(?![a-z])', 'for what its worth', case=False)\n",
    "# replace afaik with as far as i know\n",
    "hockey['tweet_1'] = hockey['tweet_1'].str.replace(r'(?<![a-z])afaik(?![a-z])', 'as far as i know', case=False)\n",
    "# replace gg with good game\n",
    "hockey['tweet_1'] = hockey['tweet_1'].str.replace(r'(?<![a-z])gg(?![a-z])', 'good game', case=False)\n",
    "# replace fyi with for your information\n",
    "hockey['tweet_1'] = hockey['tweet_1'].str.replace(r'(?<![a-z])fyi(?![a-z])', 'for your information', case=False)\n",
    "# replace num with number\n",
    "hockey['tweet_1'] = hockey['tweet_1'].str.replace(r'(?<![a-z])num(?![a-z])', 'number', case=False)\n",
    "# replace omg with oh my god\n",
    "hockey['tweet_1'] = hockey['tweet_1'].str.replace(r'(?<![a-z])omg(?![a-z])', 'oh my god', case=False)\n",
    "# replace omfg with oh my fucking god\n",
    "hockey['tweet_1'] = hockey['tweet_1'].str.replace(r'(?<![a-z])omfg(?![a-z])', 'oh my fucking god', case=False)\n",
    "# replace asap with as soon as possible\n",
    "hockey['tweet_1'] = hockey['tweet_1'].str.replace(r'(?<![a-z])asap(?![a-z])', 'as soon as possible', case=False)\n",
    "# replace til with today i learned\n",
    "hockey['tweet_1'] = hockey['tweet_1'].str.replace(r'(?<![a-z])til(?![a-z])', 'today i learned', case=False)\n",
    "# replace lmao with laugh my ass off\n",
    "hockey['tweet_1'] = hockey['tweet_1'].str.replace(r'(?<![a-z])lmao(?![a-z])', 'laugh my ass off', case=False)\n",
    "# replace lmfao with laugh my fucking ass off\n",
    "hockey['tweet_1'] = hockey['tweet_1'].str.replace(r'(?<![a-z])lmfao(?![a-z])', 'laugh my fucking ass off', case=False)\n",
    "# replace dm with direct message\n",
    "hockey['tweet_1'] = hockey['tweet_1'].str.replace(r'(?<![a-z])dm(?![a-z])', 'direct message', case=False)\n",
    "# replace rofl with rolling on the floor laughing\n",
    "hockey['tweet_1'] = hockey['tweet_1'].str.replace(r'(?<![a-z])rofl(?![a-z])', 'rolling on the floor laughing', case=False)\n",
    "# replace fomo with fear of missing out\n",
    "hockey['tweet_1'] = hockey['tweet_1'].str.replace(r'(?<![a-z])fomo(?![a-z])', 'fear of missing out', case=False)\n",
    "# replace orly with oh really\n",
    "hockey['tweet_1'] = hockey['tweet_1'].str.replace(r'(?<![a-z])orly(?![a-z])', 'oh really', case=False)\n",
    "# replace eli5 with explain like im five\n",
    "hockey['tweet_1'] = hockey['tweet_1'].str.replace(r'(?<![a-z])eli5(?![a-z])', 'explain like im five', case=False)\n",
    "# replace tmi with too much information\n",
    "hockey['tweet_1'] = hockey['tweet_1'].str.replace(r'(?<![a-z])tmi(?![a-z])', 'too much information', case=False)\n",
    "# replace &amp; with and\n",
    "hockey['tweet_1'] = hockey['tweet_1'].str.replace('&amp;', 'and', case=False)\n",
    "# replace yrs with years\n",
    "hockey['tweet_1'] = hockey['tweet_1'].str.replace(r'(?<![a-z])yrs(?![a-z])', 'years', case=False)\n",
    "# replace yr with year\n",
    "hockey['tweet_1'] = hockey['tweet_1'].str.replace(r'(?<![a-z])yr(?![a-z])', 'year', case=False)\n",
    "# replace pt with point\n",
    "hockey['tweet_1'] = hockey['tweet_1'].str.replace(r'(?<![a-z])pt(?![a-z])', 'point', case=False)\n",
    "# replace pts with points\n",
    "hockey['tweet_1'] = hockey['tweet_1'].str.replace(r'(?<![a-z])pts(?![a-z])', 'points', case=False)\n",
    "# replace - with ' '\n",
    "hockey['tweet_1'] = hockey['tweet_1'].str.replace(r'(?<![a-z])pts(?![a-z])', 'points', case=False)\n",
    "# replace % with percent\n",
    "hockey['tweet_1'] = hockey['tweet_1'].str.replace('%', 'percent', case=False)\n",
    "# replace fireav with fire av\n",
    "hockey['tweet_1'] = hockey['tweet_1'].str.replace(r'(?<![a-z])fireav(?![a-z])', 'fire av', case=False)\n",
    "# replace vs with versus\n",
    "hockey['tweet_1'] = hockey['tweet_1'].str.replace(r'(?<![a-z])pts(?![a-z])', 'points', case=False)\n",
    "# replace ir with injured reserve\n",
    "hockey['tweet_1'] = hockey['tweet_1'].str.replace(r'(?<![a-z])ir(?![a-z])', 'injured reserve', case=False)\n",
    "# replace gp with game played\n",
    "hockey['tweet_1'] = hockey['tweet_1'].str.replace(r'(?<![a-z])gp(?![a-z])', 'game played', case=False)\n",
    "# replace pts with points\n",
    "hockey['tweet_1'] = hockey['tweet_1'].str.replace(r'(?<![a-z])pts(?![a-z])', 'points', case=False)\n",
    "# replace vip with very important person\n",
    "hockey['tweet_1'] = hockey['tweet_1'].str.replace(r'(?<![a-z])vip(?![a-z])', 'very important person', case=False)\n",
    "# replace pei with prince edward island\n",
    "hockey['tweet_1'] = hockey['tweet_1'].str.replace(r'(?<![a-z])pei(?![a-z])', 'prince edward island', case=False)\n",
    "# replace hof with hall of fame\n",
    "hockey['tweet_1'] = hockey['tweet_1'].str.replace(r'(?<![a-z])hof(?![a-z])', 'hall of fame', case=False)\n",
    "\n",
    "# replace msg with madison square garden\n",
    "hockey['tweet_1'] = hockey['tweet_1'].str.replace(r'(?<![a-z])msg(?![a-z])', 'madison square garden', case=False)\n",
    "# replace #msg with madison square garden\n",
    "hockey['tweet_1'] = hockey['tweet_1'].str.replace('#msg', 'madison square garden', case=False)\n",
    "# replace pls with please\n",
    "hockey['tweet_1'] = hockey['tweet_1'].str.replace(r'(?<![a-z])pls(?![a-z])', 'please', case=False)"
   ]
  },
  {
   "cell_type": "code",
   "execution_count": 47,
   "metadata": {
    "collapsed": true
   },
   "outputs": [],
   "source": [
    "# Extended Text Column\n",
    "\n",
    "# replace the rt with nothing at the front of all text columns\n",
    "hockey['tweet_2'] = hockey['tweet_2'].str.replace(r'(?<![a-z])rt(?![a-z])', '', case=False)\n",
    "# replace u/U with you\n",
    "hockey['tweet_2'] = hockey['tweet_2'].str.replace(r'(?<![a-z])u(?![a-z])', 'you', case=False) \n",
    "# replace r with are\n",
    "hockey['tweet_2'] = hockey['tweet_2'].str.replace(r'(?<![a-z])r(?![a-z])', 'are', case=False)\n",
    "# replace r with are\n",
    "hockey['tweet_2'] = hockey['tweet_2'].str.replace(r'(?<![a-z])r(?![a-z])', 'are', case=False)\n",
    "# replace r with are\n",
    "hockey['tweet_2'] = hockey['tweet_2'].str.replace(r'(?<![a-z])r(?![a-z])', 'are', case=False)\n",
    "# replace thx with thanks\n",
    "hockey['tweet_2'] = hockey['tweet_2'].str.replace(r'(?<![a-z])thx(?![a-z])', 'thanks', case=False)\n",
    "# replace ur with your\n",
    "hockey['tweet_2'] = hockey['tweet_2'].str.replace(r'(?<![a-z])ur(?![a-z])', 'your', case=False)\n",
    "# replace bc with because\n",
    "hockey['tweet_2'] = hockey['tweet_2'].str.replace(r'(?<![a-z])bc(?![a-z])', 'because', case=False)\n",
    "# replace abt with about\n",
    "hockey['tweet_2'] = hockey['tweet_2'].str.replace(r'(?<![a-z])abt(?![a-z])', 'about', case=False)\n",
    "# replace txt with text\n",
    "hockey['tweet_2'] = hockey['tweet_2'].str.replace(r'(?<![a-z])txt(?![a-z])', 'text', case=False)\n",
    "# replace fb with facebook\n",
    "hockey['tweet_2'] = hockey['tweet_2'].str.replace(r'(?<![a-z])fb(?![a-z])', 'facebook', case=False)\n",
    "# replace w with with\n",
    "hockey['tweet_2'] = hockey['tweet_2'].str.replace(r'(?<![a-z])w(?![a-z])', 'with', case=False)\n",
    "# replace b4 with before\n",
    "hockey['tweet_2'] = hockey['tweet_2'].str.replace(r'(?<![a-z])b4(?![a-z])', 'before', case=False)\n",
    "# replace ast with assist\n",
    "hockey['tweet_2'] = hockey['tweet_2'].str.replace(r'(?<![a-z])ast(?![a-z])', 'assist', case=False)\n",
    "# replace tgif with thank god its friday\n",
    "hockey['tweet_2'] = hockey['tweet_2'].str.replace(r'(?<![a-z])tgif(?![a-z])', 'thank god its friday', case=False)\n",
    "# replace ily with i love you\n",
    "hockey['tweet_2'] = hockey['tweet_2'].str.replace(r'(?<![a-z])ily(?![a-z])', 'i love you', case=False)\n",
    "# replace irl with in real life\n",
    "hockey['tweet_2'] = hockey['tweet_2'].str.replace(r'(?<![a-z])irl(?![a-z])', 'in real life', case=False)\n",
    "# replace idk with i dont know\n",
    "hockey['tweet_2'] = hockey['tweet_2'].str.replace(r'(?<![a-z])idk(?![a-z])', 'i dont know', case=False)\n",
    "# replace ftw with for the win\n",
    "hockey['tweet_2'] = hockey['tweet_2'].str.replace(r'(?<![a-z])ftw(?![a-z])', 'for the win', case=False)\n",
    "# replace idc with i dont care\n",
    "hockey['tweet_2'] = hockey['tweet_2'].str.replace(r'(?<![a-z])idc(?![a-z])', 'i dont care', case=False)\n",
    "# replace tbt with throwback thursday\n",
    "hockey['tweet_2'] = hockey['tweet_2'].str.replace(r'(?<![a-z])tbt(?![a-z])', 'throwback thursday', case=False)\n",
    "# replace tbh with to be honest\n",
    "hockey['tweet_2'] = hockey['tweet_2'].str.replace(r'(?<![a-z])tbh(?![a-z])', 'to be honest', case=False)\n",
    "# replace tfw with that face when\n",
    "hockey['tweet_2'] = hockey['tweet_2'].str.replace(r'(?<![a-z])tfw(?![a-z])', 'that face when', case=False)\n",
    "# replace qotd with quote of the day\n",
    "hockey['tweet_2'] = hockey['tweet_2'].str.replace(r'(?<![a-z])qotd(?![a-z])', 'quote of the day', case=False)\n",
    "# replace bff with best friends forever\n",
    "hockey['tweet_2'] = hockey['tweet_2'].str.replace(r'(?<![a-z])bff(?![a-z])', 'best friends forever', case=False)\n",
    "# replace jk with just kidding\n",
    "hockey['tweet_2'] = hockey['tweet_2'].str.replace(r'(?<![a-z])jk(?![a-z])', 'just kidding', case=False)\n",
    "# replace smh with shaking my head\n",
    "hockey['tweet_2'] = hockey['tweet_2'].str.replace(r'(?<![a-z])smh(?![a-z])', 'shaking my head', case=False)\n",
    "# replace btw with by the way\n",
    "hockey['tweet_2'] = hockey['tweet_2'].str.replace(r'(?<![a-z])btw(?![a-z])', 'by the way', case=False)\n",
    "# replace imo with in my opinion\n",
    "hockey['tweet_2'] = hockey['tweet_2'].str.replace(r'(?<![a-z])imo(?![a-z])', 'in my opinion', case=False)\n",
    "# replace imho with in my honest opinion\n",
    "hockey['tweet_2'] = hockey['tweet_2'].str.replace(r'(?<![a-z])imho(?![a-z])', 'in my honest opinion', case=False)\n",
    "# replace icymi with in case you missed it\n",
    "hockey['tweet_2'] = hockey['tweet_2'].str.replace(r'(?<![a-z])icymi(?![a-z])', 'in case you missed it', case=False)\n",
    "# replace lol with laugh out loud\n",
    "hockey['tweet_2'] = hockey['tweet_2'].str.replace(r'(?<![a-z])lol(?![a-z])', 'laugh out loud', case=False)\n",
    "# replace fwiw with for what its worth\n",
    "hockey['tweet_2'] = hockey['tweet_2'].str.replace(r'(?<![a-z])fwiw(?![a-z])', 'for what its worth', case=False)\n",
    "# replace afaik with as far as i know\n",
    "hockey['tweet_2'] = hockey['tweet_2'].str.replace(r'(?<![a-z])afaik(?![a-z])', 'as far as i know', case=False)\n",
    "# replace gg with good game\n",
    "hockey['tweet_2'] = hockey['tweet_2'].str.replace(r'(?<![a-z])gg(?![a-z])', 'good game', case=False)\n",
    "# replace fyi with for your information\n",
    "hockey['tweet_2'] = hockey['tweet_2'].str.replace(r'(?<![a-z])fyi(?![a-z])', 'for your information', case=False)\n",
    "# replace num with number\n",
    "hockey['tweet_2'] = hockey['tweet_2'].str.replace(r'(?<![a-z])num(?![a-z])', 'number', case=False)\n",
    "# replace omg with oh my god\n",
    "hockey['tweet_2'] = hockey['tweet_2'].str.replace(r'(?<![a-z])omg(?![a-z])', 'oh my god', case=False)\n",
    "# replace omfg with oh my fucking god\n",
    "hockey['tweet_2'] = hockey['tweet_2'].str.replace(r'(?<![a-z])omfg(?![a-z])', 'oh my fucking god', case=False)\n",
    "# replace asap with as soon as possible\n",
    "hockey['tweet_2'] = hockey['tweet_2'].str.replace(r'(?<![a-z])asap(?![a-z])', 'as soon as possible', case=False)\n",
    "# replace til with today i learned\n",
    "hockey['tweet_2'] = hockey['tweet_2'].str.replace(r'(?<![a-z])til(?![a-z])', 'today i learned', case=False)\n",
    "# replace lmao with laugh my ass off\n",
    "hockey['tweet_2'] = hockey['tweet_2'].str.replace(r'(?<![a-z])lmao(?![a-z])', 'laugh my ass off', case=False)\n",
    "# replace lmfao with laugh my fucking ass off\n",
    "hockey['tweet_2'] = hockey['tweet_2'].str.replace(r'(?<![a-z])lmfao(?![a-z])', 'laugh my fucking ass off', case=False)\n",
    "# replace dm with direct message\n",
    "hockey['tweet_2'] = hockey['tweet_2'].str.replace(r'(?<![a-z])dm(?![a-z])', 'direct message', case=False)\n",
    "# replace rofl with rolling on the floor laughing\n",
    "hockey['tweet_2'] = hockey['tweet_2'].str.replace(r'(?<![a-z])rofl(?![a-z])', 'rolling on the floor laughing', case=False)\n",
    "# replace fomo with fear of missing out\n",
    "hockey['tweet_2'] = hockey['tweet_2'].str.replace(r'(?<![a-z])fomo(?![a-z])', 'fear of missing out', case=False)\n",
    "# replace orly with oh really\n",
    "hockey['tweet_2'] = hockey['tweet_2'].str.replace(r'(?<![a-z])orly(?![a-z])', 'oh really', case=False)\n",
    "# replace eli5 with explain like im five\n",
    "hockey['tweet_2'] = hockey['tweet_2'].str.replace(r'(?<![a-z])eli5(?![a-z])', 'explain like im five', case=False)\n",
    "# replace tmi with too much information\n",
    "hockey['tweet_2'] = hockey['tweet_2'].str.replace(r'(?<![a-z])tmi(?![a-z])', 'too much information', case=False)\n",
    "# replace &amp; with and\n",
    "hockey['tweet_2'] = hockey['tweet_2'].str.replace('&amp;', 'and', case=False)\n",
    "# replace yrs with years\n",
    "hockey['tweet_2'] = hockey['tweet_2'].str.replace(r'(?<![a-z])yrs(?![a-z])', 'years', case=False)\n",
    "# replace yr with year\n",
    "hockey['tweet_2'] = hockey['tweet_2'].str.replace(r'(?<![a-z])yr(?![a-z])', 'year', case=False)\n",
    "# replace pt with point\n",
    "hockey['tweet_2'] = hockey['tweet_2'].str.replace(r'(?<![a-z])pt(?![a-z])', 'point', case=False)\n",
    "# replace pts with points\n",
    "hockey['tweet_2'] = hockey['tweet_2'].str.replace(r'(?<![a-z])pts(?![a-z])', 'points', case=False)\n",
    "# replace - with ' '\n",
    "hockey['tweet_2'] = hockey['tweet_2'].str.replace(r'(?<![a-z])pts(?![a-z])', 'points', case=False)\n",
    "# replace % with percent\n",
    "hockey['tweet_2'] = hockey['tweet_2'].str.replace('%', 'percent', case=False)\n",
    "# replace fireav with fire av\n",
    "hockey['tweet_2'] = hockey['tweet_2'].str.replace(r'(?<![a-z])fireav(?![a-z])', 'fire av', case=False)\n",
    "# replace vs with versus\n",
    "hockey['tweet_2'] = hockey['tweet_2'].str.replace(r'(?<![a-z])pts(?![a-z])', 'points', case=False)\n",
    "# replace ir with injured reserve\n",
    "hockey['tweet_2'] = hockey['tweet_2'].str.replace(r'(?<![a-z])ir(?![a-z])', 'injured reserve', case=False)\n",
    "# replace gp with game played\n",
    "hockey['tweet_2'] = hockey['tweet_2'].str.replace(r'(?<![a-z])gp(?![a-z])', 'game played', case=False)\n",
    "# replace pts with points\n",
    "hockey['tweet_2'] = hockey['tweet_2'].str.replace(r'(?<![a-z])pts(?![a-z])', 'points', case=False)\n",
    "# replace vip with very important person\n",
    "hockey['tweet_2'] = hockey['tweet_2'].str.replace(r'(?<![a-z])vip(?![a-z])', 'very important person', case=False)\n",
    "# replace pei with prince edward island\n",
    "hockey['tweet_2'] = hockey['tweet_2'].str.replace(r'(?<![a-z])pei(?![a-z])', 'prince edward island', case=False)\n",
    "# replace hof with hall of fame\n",
    "hockey['tweet_2'] = hockey['tweet_2'].str.replace(r'(?<![a-z])hof(?![a-z])', 'hall of fame', case=False)\n",
    "\n",
    "# replace msg with madison square garden\n",
    "hockey['tweet_2'] = hockey['tweet_2'].str.replace(r'(?<![a-z])msg(?![a-z])', 'madison square garden', case=False)\n",
    "# replace #msg with madison square garden\n",
    "hockey['tweet_2'] = hockey['tweet_2'].str.replace('#msg', 'madison square garden', case=False)\n",
    "# replace pls with please\n",
    "hockey['tweet_2'] = hockey['tweet_2'].str.replace(r'(?<![a-z])pls(?![a-z])', 'please', case=False)"
   ]
  },
  {
   "cell_type": "code",
   "execution_count": 48,
   "metadata": {
    "collapsed": true
   },
   "outputs": [],
   "source": [
    "def emojis(row, col):\n",
    "    text = row[col]\n",
    "    if type(row[col]) == str:\n",
    "        text = re.sub(r'[^a-zA-Z0-9 _@]+', '', row[col])\n",
    "    return text"
   ]
  },
  {
   "cell_type": "code",
   "execution_count": 49,
   "metadata": {
    "collapsed": true
   },
   "outputs": [],
   "source": [
    "hockey['tweet_1'] = hockey.apply(emojis, axis=1, col='tweet_1')\n",
    "hockey['tweet_2'] = hockey.apply(emojis, axis=1, col='tweet_2')"
   ]
  },
  {
   "cell_type": "code",
   "execution_count": 50,
   "metadata": {},
   "outputs": [
    {
     "data": {
      "text/html": [
       "<div>\n",
       "<style>\n",
       "    .dataframe thead tr:only-child th {\n",
       "        text-align: right;\n",
       "    }\n",
       "\n",
       "    .dataframe thead th {\n",
       "        text-align: left;\n",
       "    }\n",
       "\n",
       "    .dataframe tbody tr th {\n",
       "        vertical-align: top;\n",
       "    }\n",
       "</style>\n",
       "<table border=\"1\" class=\"dataframe\">\n",
       "  <thead>\n",
       "    <tr style=\"text-align: right;\">\n",
       "      <th></th>\n",
       "      <th>index</th>\n",
       "      <th>created_at</th>\n",
       "      <th>in_reply_to_screen_name</th>\n",
       "      <th>lang</th>\n",
       "      <th>quoted_status.in_reply_to_screen_name</th>\n",
       "      <th>quoted_status.user.screen_name</th>\n",
       "      <th>retweeted_status.in_reply_to_screen_name</th>\n",
       "      <th>retweeted_status.quoted_status.in_reply_to_screen_name</th>\n",
       "      <th>retweeted_status.quoted_status.user.screen_name</th>\n",
       "      <th>retweeted_status.user.screen_name</th>\n",
       "      <th>...</th>\n",
       "      <th>rtqt_mentions</th>\n",
       "      <th>ex_mentions</th>\n",
       "      <th>exrt_mentions</th>\n",
       "      <th>exqt_mentions</th>\n",
       "      <th>exrtqt_mentions</th>\n",
       "      <th>source_parse</th>\n",
       "      <th>team</th>\n",
       "      <th>tweet_1</th>\n",
       "      <th>tweet_2</th>\n",
       "      <th>hour</th>\n",
       "    </tr>\n",
       "  </thead>\n",
       "  <tbody>\n",
       "    <tr>\n",
       "      <th>0</th>\n",
       "      <td>0</td>\n",
       "      <td>2018-01-20 15:34:25</td>\n",
       "      <td>NaN</td>\n",
       "      <td>en</td>\n",
       "      <td>NaN</td>\n",
       "      <td>NaN</td>\n",
       "      <td>NaN</td>\n",
       "      <td>NaN</td>\n",
       "      <td>NaN</td>\n",
       "      <td>NYRangerFanclub</td>\n",
       "      <td>...</td>\n",
       "      <td>[]</td>\n",
       "      <td>[]</td>\n",
       "      <td>[]</td>\n",
       "      <td>[]</td>\n",
       "      <td>[]</td>\n",
       "      <td>Twitter for iPhone</td>\n",
       "      <td>[nyr]</td>\n",
       "      <td>time retweet and follow to enter if buch scor...</td>\n",
       "      <td>None</td>\n",
       "      <td>15</td>\n",
       "    </tr>\n",
       "    <tr>\n",
       "      <th>1</th>\n",
       "      <td>1</td>\n",
       "      <td>2018-01-20 15:34:27</td>\n",
       "      <td>NaN</td>\n",
       "      <td>en</td>\n",
       "      <td>NaN</td>\n",
       "      <td>NaN</td>\n",
       "      <td>NaN</td>\n",
       "      <td>NaN</td>\n",
       "      <td>NaN</td>\n",
       "      <td>CanadiensViews</td>\n",
       "      <td>...</td>\n",
       "      <td>[]</td>\n",
       "      <td>[]</td>\n",
       "      <td>[]</td>\n",
       "      <td>[]</td>\n",
       "      <td>[]</td>\n",
       "      <td>Twitter for Android</td>\n",
       "      <td>[habs]</td>\n",
       "      <td>which canadiens are untouchable beside mete price</td>\n",
       "      <td>None</td>\n",
       "      <td>15</td>\n",
       "    </tr>\n",
       "    <tr>\n",
       "      <th>2</th>\n",
       "      <td>2</td>\n",
       "      <td>2018-01-20 15:34:28</td>\n",
       "      <td>NaN</td>\n",
       "      <td>en</td>\n",
       "      <td>NaN</td>\n",
       "      <td>HockeyDayMN</td>\n",
       "      <td>NaN</td>\n",
       "      <td>NaN</td>\n",
       "      <td>HockeyDayMN</td>\n",
       "      <td>mnwild</td>\n",
       "      <td>...</td>\n",
       "      <td>[wellsfargo]</td>\n",
       "      <td>[]</td>\n",
       "      <td>[]</td>\n",
       "      <td>[]</td>\n",
       "      <td>[]</td>\n",
       "      <td>Twitter for iPhone</td>\n",
       "      <td>[wild]</td>\n",
       "      <td>lets do that hockey</td>\n",
       "      <td>happy hockey day minnesota the first game of b...</td>\n",
       "      <td>15</td>\n",
       "    </tr>\n",
       "    <tr>\n",
       "      <th>3</th>\n",
       "      <td>4</td>\n",
       "      <td>2018-01-20 15:34:32</td>\n",
       "      <td>DallasStars</td>\n",
       "      <td>en</td>\n",
       "      <td>NaN</td>\n",
       "      <td>NaN</td>\n",
       "      <td>NaN</td>\n",
       "      <td>NaN</td>\n",
       "      <td>NaN</td>\n",
       "      <td>NaN</td>\n",
       "      <td>...</td>\n",
       "      <td>[]</td>\n",
       "      <td>[]</td>\n",
       "      <td>[]</td>\n",
       "      <td>[]</td>\n",
       "      <td>[]</td>\n",
       "      <td>Twitter for Android</td>\n",
       "      <td>[stars]</td>\n",
       "      <td>ed friggin belfour</td>\n",
       "      <td>None</td>\n",
       "      <td>15</td>\n",
       "    </tr>\n",
       "    <tr>\n",
       "      <th>4</th>\n",
       "      <td>5</td>\n",
       "      <td>2018-01-20 15:34:33</td>\n",
       "      <td>penguins</td>\n",
       "      <td>en</td>\n",
       "      <td>NaN</td>\n",
       "      <td>NaN</td>\n",
       "      <td>NaN</td>\n",
       "      <td>NaN</td>\n",
       "      <td>NaN</td>\n",
       "      <td>NaN</td>\n",
       "      <td>...</td>\n",
       "      <td>[]</td>\n",
       "      <td>[]</td>\n",
       "      <td>[]</td>\n",
       "      <td>[]</td>\n",
       "      <td>[]</td>\n",
       "      <td>Twitter for Android</td>\n",
       "      <td>[pens]</td>\n",
       "      <td>happy birthday ryan grim reaper reaves</td>\n",
       "      <td>None</td>\n",
       "      <td>15</td>\n",
       "    </tr>\n",
       "  </tbody>\n",
       "</table>\n",
       "<p>5 rows × 34 columns</p>\n",
       "</div>"
      ],
      "text/plain": [
       "   index          created_at in_reply_to_screen_name lang  \\\n",
       "0      0 2018-01-20 15:34:25                     NaN   en   \n",
       "1      1 2018-01-20 15:34:27                     NaN   en   \n",
       "2      2 2018-01-20 15:34:28                     NaN   en   \n",
       "3      4 2018-01-20 15:34:32             DallasStars   en   \n",
       "4      5 2018-01-20 15:34:33                penguins   en   \n",
       "\n",
       "  quoted_status.in_reply_to_screen_name quoted_status.user.screen_name  \\\n",
       "0                                   NaN                            NaN   \n",
       "1                                   NaN                            NaN   \n",
       "2                                   NaN                    HockeyDayMN   \n",
       "3                                   NaN                            NaN   \n",
       "4                                   NaN                            NaN   \n",
       "\n",
       "  retweeted_status.in_reply_to_screen_name  \\\n",
       "0                                      NaN   \n",
       "1                                      NaN   \n",
       "2                                      NaN   \n",
       "3                                      NaN   \n",
       "4                                      NaN   \n",
       "\n",
       "  retweeted_status.quoted_status.in_reply_to_screen_name  \\\n",
       "0                                                NaN       \n",
       "1                                                NaN       \n",
       "2                                                NaN       \n",
       "3                                                NaN       \n",
       "4                                                NaN       \n",
       "\n",
       "  retweeted_status.quoted_status.user.screen_name  \\\n",
       "0                                             NaN   \n",
       "1                                             NaN   \n",
       "2                                     HockeyDayMN   \n",
       "3                                             NaN   \n",
       "4                                             NaN   \n",
       "\n",
       "  retweeted_status.user.screen_name ...  rtqt_mentions ex_mentions  \\\n",
       "0                   NYRangerFanclub ...             []          []   \n",
       "1                    CanadiensViews ...             []          []   \n",
       "2                            mnwild ...   [wellsfargo]          []   \n",
       "3                               NaN ...             []          []   \n",
       "4                               NaN ...             []          []   \n",
       "\n",
       "  exrt_mentions exqt_mentions exrtqt_mentions         source_parse     team  \\\n",
       "0            []            []              []   Twitter for iPhone    [nyr]   \n",
       "1            []            []              []  Twitter for Android   [habs]   \n",
       "2            []            []              []   Twitter for iPhone   [wild]   \n",
       "3            []            []              []  Twitter for Android  [stars]   \n",
       "4            []            []              []  Twitter for Android   [pens]   \n",
       "\n",
       "                                             tweet_1  \\\n",
       "0   time retweet and follow to enter if buch scor...   \n",
       "1  which canadiens are untouchable beside mete price   \n",
       "2                                lets do that hockey   \n",
       "3                                 ed friggin belfour   \n",
       "4             happy birthday ryan grim reaper reaves   \n",
       "\n",
       "                                             tweet_2 hour  \n",
       "0                                               None   15  \n",
       "1                                               None   15  \n",
       "2  happy hockey day minnesota the first game of b...   15  \n",
       "3                                               None   15  \n",
       "4                                               None   15  \n",
       "\n",
       "[5 rows x 34 columns]"
      ]
     },
     "execution_count": 50,
     "metadata": {},
     "output_type": "execute_result"
    }
   ],
   "source": [
    "hockey.head()"
   ]
  },
  {
   "cell_type": "code",
   "execution_count": 51,
   "metadata": {
    "collapsed": true,
    "scrolled": true
   },
   "outputs": [],
   "source": [
    "tweets1 = hockey[['created_at','hour','tweet_1', 'team']]\n",
    "tweets2 = hockey[['created_at','hour','tweet_2', 'team']]"
   ]
  },
  {
   "cell_type": "code",
   "execution_count": 52,
   "metadata": {},
   "outputs": [
    {
     "data": {
      "text/html": [
       "<div>\n",
       "<style>\n",
       "    .dataframe thead tr:only-child th {\n",
       "        text-align: right;\n",
       "    }\n",
       "\n",
       "    .dataframe thead th {\n",
       "        text-align: left;\n",
       "    }\n",
       "\n",
       "    .dataframe tbody tr th {\n",
       "        vertical-align: top;\n",
       "    }\n",
       "</style>\n",
       "<table border=\"1\" class=\"dataframe\">\n",
       "  <thead>\n",
       "    <tr style=\"text-align: right;\">\n",
       "      <th></th>\n",
       "      <th>created_at</th>\n",
       "      <th>hour</th>\n",
       "      <th>tweet_1</th>\n",
       "      <th>team</th>\n",
       "    </tr>\n",
       "  </thead>\n",
       "  <tbody>\n",
       "    <tr>\n",
       "      <th>0</th>\n",
       "      <td>2018-01-20 15:34:25</td>\n",
       "      <td>15</td>\n",
       "      <td>time retweet and follow to enter if buch scor...</td>\n",
       "      <td>[nyr]</td>\n",
       "    </tr>\n",
       "    <tr>\n",
       "      <th>1</th>\n",
       "      <td>2018-01-20 15:34:27</td>\n",
       "      <td>15</td>\n",
       "      <td>which canadiens are untouchable beside mete price</td>\n",
       "      <td>[habs]</td>\n",
       "    </tr>\n",
       "    <tr>\n",
       "      <th>2</th>\n",
       "      <td>2018-01-20 15:34:28</td>\n",
       "      <td>15</td>\n",
       "      <td>lets do that hockey</td>\n",
       "      <td>[wild]</td>\n",
       "    </tr>\n",
       "    <tr>\n",
       "      <th>3</th>\n",
       "      <td>2018-01-20 15:34:32</td>\n",
       "      <td>15</td>\n",
       "      <td>ed friggin belfour</td>\n",
       "      <td>[stars]</td>\n",
       "    </tr>\n",
       "    <tr>\n",
       "      <th>4</th>\n",
       "      <td>2018-01-20 15:34:33</td>\n",
       "      <td>15</td>\n",
       "      <td>happy birthday ryan grim reaper reaves</td>\n",
       "      <td>[pens]</td>\n",
       "    </tr>\n",
       "  </tbody>\n",
       "</table>\n",
       "</div>"
      ],
      "text/plain": [
       "           created_at  hour  \\\n",
       "0 2018-01-20 15:34:25    15   \n",
       "1 2018-01-20 15:34:27    15   \n",
       "2 2018-01-20 15:34:28    15   \n",
       "3 2018-01-20 15:34:32    15   \n",
       "4 2018-01-20 15:34:33    15   \n",
       "\n",
       "                                             tweet_1     team  \n",
       "0   time retweet and follow to enter if buch scor...    [nyr]  \n",
       "1  which canadiens are untouchable beside mete price   [habs]  \n",
       "2                                lets do that hockey   [wild]  \n",
       "3                                 ed friggin belfour  [stars]  \n",
       "4             happy birthday ryan grim reaper reaves   [pens]  "
      ]
     },
     "execution_count": 52,
     "metadata": {},
     "output_type": "execute_result"
    }
   ],
   "source": [
    "tweets1.head()"
   ]
  },
  {
   "cell_type": "code",
   "execution_count": 53,
   "metadata": {},
   "outputs": [
    {
     "data": {
      "text/html": [
       "<div>\n",
       "<style>\n",
       "    .dataframe thead tr:only-child th {\n",
       "        text-align: right;\n",
       "    }\n",
       "\n",
       "    .dataframe thead th {\n",
       "        text-align: left;\n",
       "    }\n",
       "\n",
       "    .dataframe tbody tr th {\n",
       "        vertical-align: top;\n",
       "    }\n",
       "</style>\n",
       "<table border=\"1\" class=\"dataframe\">\n",
       "  <thead>\n",
       "    <tr style=\"text-align: right;\">\n",
       "      <th></th>\n",
       "      <th>created_at</th>\n",
       "      <th>hour</th>\n",
       "      <th>tweet_2</th>\n",
       "      <th>team</th>\n",
       "    </tr>\n",
       "  </thead>\n",
       "  <tbody>\n",
       "    <tr>\n",
       "      <th>0</th>\n",
       "      <td>2018-01-20 15:34:25</td>\n",
       "      <td>15</td>\n",
       "      <td>None</td>\n",
       "      <td>[nyr]</td>\n",
       "    </tr>\n",
       "    <tr>\n",
       "      <th>1</th>\n",
       "      <td>2018-01-20 15:34:27</td>\n",
       "      <td>15</td>\n",
       "      <td>None</td>\n",
       "      <td>[habs]</td>\n",
       "    </tr>\n",
       "    <tr>\n",
       "      <th>2</th>\n",
       "      <td>2018-01-20 15:34:28</td>\n",
       "      <td>15</td>\n",
       "      <td>happy hockey day minnesota the first game of b...</td>\n",
       "      <td>[wild]</td>\n",
       "    </tr>\n",
       "    <tr>\n",
       "      <th>3</th>\n",
       "      <td>2018-01-20 15:34:32</td>\n",
       "      <td>15</td>\n",
       "      <td>None</td>\n",
       "      <td>[stars]</td>\n",
       "    </tr>\n",
       "    <tr>\n",
       "      <th>4</th>\n",
       "      <td>2018-01-20 15:34:33</td>\n",
       "      <td>15</td>\n",
       "      <td>None</td>\n",
       "      <td>[pens]</td>\n",
       "    </tr>\n",
       "  </tbody>\n",
       "</table>\n",
       "</div>"
      ],
      "text/plain": [
       "           created_at  hour  \\\n",
       "0 2018-01-20 15:34:25    15   \n",
       "1 2018-01-20 15:34:27    15   \n",
       "2 2018-01-20 15:34:28    15   \n",
       "3 2018-01-20 15:34:32    15   \n",
       "4 2018-01-20 15:34:33    15   \n",
       "\n",
       "                                             tweet_2     team  \n",
       "0                                               None    [nyr]  \n",
       "1                                               None   [habs]  \n",
       "2  happy hockey day minnesota the first game of b...   [wild]  \n",
       "3                                               None  [stars]  \n",
       "4                                               None   [pens]  "
      ]
     },
     "execution_count": 53,
     "metadata": {},
     "output_type": "execute_result"
    }
   ],
   "source": [
    "tweets2.head()"
   ]
  },
  {
   "cell_type": "code",
   "execution_count": 54,
   "metadata": {
    "collapsed": true
   },
   "outputs": [],
   "source": [
    "def bool_quotes(row):\n",
    "    bool_quote = True\n",
    "    if type(row['tweet_2']) != str:\n",
    "        bool_quote = False\n",
    "    return bool_quote"
   ]
  },
  {
   "cell_type": "code",
   "execution_count": 55,
   "metadata": {
    "collapsed": true
   },
   "outputs": [],
   "source": [
    "bool_quotes = tweets2.apply(bool_quotes, axis=1)"
   ]
  },
  {
   "cell_type": "code",
   "execution_count": 56,
   "metadata": {
    "collapsed": true
   },
   "outputs": [],
   "source": [
    "tweets2 = tweets2[bool_quotes]"
   ]
  },
  {
   "cell_type": "code",
   "execution_count": 57,
   "metadata": {
    "collapsed": true
   },
   "outputs": [],
   "source": [
    "tweets2.columns = ['created_at','hour','tweet_1', 'team']"
   ]
  },
  {
   "cell_type": "code",
   "execution_count": 58,
   "metadata": {
    "collapsed": true
   },
   "outputs": [],
   "source": [
    "hockey_tweets = pd.concat([tweets1, tweets2]).reset_index()"
   ]
  },
  {
   "cell_type": "code",
   "execution_count": 59,
   "metadata": {},
   "outputs": [
    {
     "data": {
      "text/html": [
       "<div>\n",
       "<style>\n",
       "    .dataframe thead tr:only-child th {\n",
       "        text-align: right;\n",
       "    }\n",
       "\n",
       "    .dataframe thead th {\n",
       "        text-align: left;\n",
       "    }\n",
       "\n",
       "    .dataframe tbody tr th {\n",
       "        vertical-align: top;\n",
       "    }\n",
       "</style>\n",
       "<table border=\"1\" class=\"dataframe\">\n",
       "  <thead>\n",
       "    <tr style=\"text-align: right;\">\n",
       "      <th></th>\n",
       "      <th>index</th>\n",
       "      <th>created_at</th>\n",
       "      <th>hour</th>\n",
       "      <th>tweet_1</th>\n",
       "      <th>team</th>\n",
       "    </tr>\n",
       "  </thead>\n",
       "  <tbody>\n",
       "    <tr>\n",
       "      <th>0</th>\n",
       "      <td>0</td>\n",
       "      <td>2018-01-20 15:34:25</td>\n",
       "      <td>15</td>\n",
       "      <td>time retweet and follow to enter if buch scor...</td>\n",
       "      <td>[nyr]</td>\n",
       "    </tr>\n",
       "    <tr>\n",
       "      <th>1</th>\n",
       "      <td>1</td>\n",
       "      <td>2018-01-20 15:34:27</td>\n",
       "      <td>15</td>\n",
       "      <td>which canadiens are untouchable beside mete price</td>\n",
       "      <td>[habs]</td>\n",
       "    </tr>\n",
       "    <tr>\n",
       "      <th>2</th>\n",
       "      <td>2</td>\n",
       "      <td>2018-01-20 15:34:28</td>\n",
       "      <td>15</td>\n",
       "      <td>lets do that hockey</td>\n",
       "      <td>[wild]</td>\n",
       "    </tr>\n",
       "    <tr>\n",
       "      <th>3</th>\n",
       "      <td>3</td>\n",
       "      <td>2018-01-20 15:34:32</td>\n",
       "      <td>15</td>\n",
       "      <td>ed friggin belfour</td>\n",
       "      <td>[stars]</td>\n",
       "    </tr>\n",
       "    <tr>\n",
       "      <th>4</th>\n",
       "      <td>4</td>\n",
       "      <td>2018-01-20 15:34:33</td>\n",
       "      <td>15</td>\n",
       "      <td>happy birthday ryan grim reaper reaves</td>\n",
       "      <td>[pens]</td>\n",
       "    </tr>\n",
       "  </tbody>\n",
       "</table>\n",
       "</div>"
      ],
      "text/plain": [
       "   index          created_at  hour  \\\n",
       "0      0 2018-01-20 15:34:25    15   \n",
       "1      1 2018-01-20 15:34:27    15   \n",
       "2      2 2018-01-20 15:34:28    15   \n",
       "3      3 2018-01-20 15:34:32    15   \n",
       "4      4 2018-01-20 15:34:33    15   \n",
       "\n",
       "                                             tweet_1     team  \n",
       "0   time retweet and follow to enter if buch scor...    [nyr]  \n",
       "1  which canadiens are untouchable beside mete price   [habs]  \n",
       "2                                lets do that hockey   [wild]  \n",
       "3                                 ed friggin belfour  [stars]  \n",
       "4             happy birthday ryan grim reaper reaves   [pens]  "
      ]
     },
     "execution_count": 59,
     "metadata": {},
     "output_type": "execute_result"
    }
   ],
   "source": [
    "hockey_tweets.head()"
   ]
  },
  {
   "cell_type": "code",
   "execution_count": 60,
   "metadata": {
    "collapsed": true
   },
   "outputs": [],
   "source": [
    "hockey_tweets = hockey_tweets.drop('index', 1)"
   ]
  },
  {
   "cell_type": "code",
   "execution_count": 61,
   "metadata": {},
   "outputs": [
    {
     "data": {
      "text/html": [
       "<div>\n",
       "<style>\n",
       "    .dataframe thead tr:only-child th {\n",
       "        text-align: right;\n",
       "    }\n",
       "\n",
       "    .dataframe thead th {\n",
       "        text-align: left;\n",
       "    }\n",
       "\n",
       "    .dataframe tbody tr th {\n",
       "        vertical-align: top;\n",
       "    }\n",
       "</style>\n",
       "<table border=\"1\" class=\"dataframe\">\n",
       "  <thead>\n",
       "    <tr style=\"text-align: right;\">\n",
       "      <th></th>\n",
       "      <th>created_at</th>\n",
       "      <th>hour</th>\n",
       "      <th>tweet_1</th>\n",
       "      <th>team</th>\n",
       "    </tr>\n",
       "  </thead>\n",
       "  <tbody>\n",
       "    <tr>\n",
       "      <th>0</th>\n",
       "      <td>2018-01-20 15:34:25</td>\n",
       "      <td>15</td>\n",
       "      <td>time retweet and follow to enter if buch scor...</td>\n",
       "      <td>[nyr]</td>\n",
       "    </tr>\n",
       "    <tr>\n",
       "      <th>1</th>\n",
       "      <td>2018-01-20 15:34:27</td>\n",
       "      <td>15</td>\n",
       "      <td>which canadiens are untouchable beside mete price</td>\n",
       "      <td>[habs]</td>\n",
       "    </tr>\n",
       "    <tr>\n",
       "      <th>2</th>\n",
       "      <td>2018-01-20 15:34:28</td>\n",
       "      <td>15</td>\n",
       "      <td>lets do that hockey</td>\n",
       "      <td>[wild]</td>\n",
       "    </tr>\n",
       "    <tr>\n",
       "      <th>3</th>\n",
       "      <td>2018-01-20 15:34:32</td>\n",
       "      <td>15</td>\n",
       "      <td>ed friggin belfour</td>\n",
       "      <td>[stars]</td>\n",
       "    </tr>\n",
       "    <tr>\n",
       "      <th>4</th>\n",
       "      <td>2018-01-20 15:34:33</td>\n",
       "      <td>15</td>\n",
       "      <td>happy birthday ryan grim reaper reaves</td>\n",
       "      <td>[pens]</td>\n",
       "    </tr>\n",
       "  </tbody>\n",
       "</table>\n",
       "</div>"
      ],
      "text/plain": [
       "           created_at  hour  \\\n",
       "0 2018-01-20 15:34:25    15   \n",
       "1 2018-01-20 15:34:27    15   \n",
       "2 2018-01-20 15:34:28    15   \n",
       "3 2018-01-20 15:34:32    15   \n",
       "4 2018-01-20 15:34:33    15   \n",
       "\n",
       "                                             tweet_1     team  \n",
       "0   time retweet and follow to enter if buch scor...    [nyr]  \n",
       "1  which canadiens are untouchable beside mete price   [habs]  \n",
       "2                                lets do that hockey   [wild]  \n",
       "3                                 ed friggin belfour  [stars]  \n",
       "4             happy birthday ryan grim reaper reaves   [pens]  "
      ]
     },
     "execution_count": 61,
     "metadata": {},
     "output_type": "execute_result"
    }
   ],
   "source": [
    "hockey_tweets.head()"
   ]
  },
  {
   "cell_type": "code",
   "execution_count": 62,
   "metadata": {
    "collapsed": true
   },
   "outputs": [],
   "source": [
    "hockey_tweets.to_csv('no_hash_url_mentions.csv', header=True)"
   ]
  }
 ],
 "metadata": {
  "kernelspec": {
   "display_name": "Python 3",
   "language": "python",
   "name": "python3"
  },
  "language_info": {
   "codemirror_mode": {
    "name": "ipython",
    "version": 3
   },
   "file_extension": ".py",
   "mimetype": "text/x-python",
   "name": "python",
   "nbconvert_exporter": "python",
   "pygments_lexer": "ipython3",
   "version": "3.6.1"
  }
 },
 "nbformat": 4,
 "nbformat_minor": 2
}
